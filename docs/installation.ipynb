{
 "cells": [
  {
   "cell_type": "markdown",
   "id": "7da959f1-8c4b-44b1-a0ac-9ecc3d933108",
   "metadata": {},
   "source": [
    "# Software installation\n",
    "\n",
    "Conda is an open-source package and environment management system that runs on Windows, MacOS, and Linux. The conda repository contains a large number of open-source certified packages enabling scientific work. It is recommended that you install the minimal installer for conda named miniconda that includes only conda, Python, the packages they depend on, and a small number of other useful packages, including pip, zlib and a few others.\n",
    "\n",
    "Retrieve miniconda from the following website\n",
    "\n",
    "> <https://docs.conda.io/en/latest/miniconda.html>\n",
    "\n",
    "Install the version for 64 bit computers that comes with Python 3.10.\n",
    "\n",
    "Start a conda terminal, or Anaconda Powershell as it is referred to on a Windows system. Conda supports multiple *environments* and you start in the one named `base` as is typically indicated by the prompt.\n",
    "\n",
    "Create a text file named `cb2070.yml` with the following content:\n",
    "\n",
    "````\n",
    "name: cb2070\n",
    "channels:\n",
    "  - conda-forge\n",
    "  - veloxchem\n",
    "dependencies:\n",
    "  - matplotlib\n",
    "  - jupyterlab\n",
    "  - veloxchem\n",
    "  - py3dmol\n",
    "````\n",
    "\n",
    "To create a new and additional environment named `cb2070` and install VeloxChem, Matplotlib, and Jupyter notebook (and package dependencies such as NumPy and SciPy) into it, you enter the following command line statement\n",
    "\n",
    "```bash\n",
    "conda env create -f cb2070.yml\n",
    "```\n",
    "\n",
    "You can list your conda environments\n",
    "\n",
    "```bash\n",
    "conda env list\n",
    "```\n",
    "\n",
    "The activated environment will be marked with an asterisk (the `base` environment to begin with) and you can activate your new environment with the command\n",
    "\n",
    "```bash\n",
    "conda activate cb2070\n",
    "```\n",
    "\n",
    "as should be indicated by getting a modified prompt.\n",
    "\n",
    "Inside this newly created environment, you should now be ready to start a Jupyter notebook with the command\n",
    "\n",
    "```bash\n",
    "jupyter-notebook\n",
    "```\n",
    "\n",
    "which should open in your default web browser. A notebook allows for interactive execution of Python code written into cells.\n"
   ]
  }
 ],
 "metadata": {
  "kernelspec": {
   "display_name": "Python 3 (ipykernel)",
   "language": "python",
   "name": "python3"
  },
  "language_info": {
   "codemirror_mode": {
    "name": "ipython",
    "version": 3
   },
   "file_extension": ".py",
   "mimetype": "text/x-python",
   "name": "python",
   "nbconvert_exporter": "python",
   "pygments_lexer": "ipython3",
   "version": "3.9.15"
  }
 },
 "nbformat": 4,
 "nbformat_minor": 5
}
