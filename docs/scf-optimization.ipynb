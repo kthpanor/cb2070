{
 "cells": [
  {
   "cell_type": "markdown",
   "metadata": {},
   "source": [
    "(section-scf)=\n",
    "# Wave function optimization\n",
    "\n",
    "## Import VeloxChem\n",
    "\n",
    "VeloxChem is invoked with a Python module import."
   ]
  },
  {
   "cell_type": "code",
   "execution_count": 1,
   "metadata": {
    "tags": [
     "remove-output"
    ]
   },
   "outputs": [
    {
     "name": "stdout",
     "output_type": "stream",
     "text": [
      "* Warning * Environment variable OMP_NUM_THREADS not set.\n",
      "* Warning * Setting OMP_NUM_THREADS to 4.\n"
     ]
    }
   ],
   "source": [
    "import veloxchem as vlx\n",
    "# On Windows computers activate the lines below\n",
    "# import os\n",
    "# os.environ[\"KMP_DUPLICATE_LIB_OK\"]=\"TRUE\""
   ]
  },
  {
   "cell_type": "markdown",
   "metadata": {},
   "source": [
    "## Define the molecule\n",
    "\n",
    "The molecular structure is commonly expressed as xyz-coordinates, and need to be obtained from experimental measurements, calculations, or built manually. One approach is to use the build the molecule by construcing a [SMILES](https://en.wikipedia.org/wiki/Simplified_molecular-input_line-entry_system) string defining the connectivities, and pass this to a package such as [rdkit](https://www.rdkit.org/) which can then construct the molecule.The is discussed more on [eChem](https://kthpanor.github.io/echem/docs/tutorials/wf_build.html), and for now we note that the SMILES strings are often available on, *e.g.* wikipedia, with that of [caffeine](https://en.wikipedia.org/wiki/Caffeine) being:\n",
    "\n",
    "```\n",
    "CN1C=NC2=C1C(=O)N(C(=O)N2C)C\n",
    "```\n",
    "\n",
    "Using this to build a conformer, visualize the structure, and print the xyz-coordinates:"
   ]
  },
  {
   "cell_type": "code",
   "execution_count": 2,
   "metadata": {
    "tags": [
     "output_scroll"
    ]
   },
   "outputs": [
    {
     "data": {
      "application/3dmoljs_load.v0": "<div id=\"3dmolviewer_1674822258257099\"  style=\"position: relative; width: 300px; height: 200px\">\n        <p id=\"3dmolwarning_1674822258257099\" style=\"background-color:#ffcccc;color:black\">You appear to be running in JupyterLab (or JavaScript failed to load for some other reason).  You need to install the 3dmol extension: <br>\n        <tt>jupyter labextension install jupyterlab_3dmol</tt></p>\n        </div>\n<script>\n\nvar loadScriptAsync = function(uri){\n  return new Promise((resolve, reject) => {\n    //this is to ignore the existence of requirejs amd\n    var savedexports, savedmodule;\n    if (typeof exports !== 'undefined') savedexports = exports;\n    else exports = {}\n    if (typeof module !== 'undefined') savedmodule = module;\n    else module = {}\n\n    var tag = document.createElement('script');\n    tag.src = uri;\n    tag.async = true;\n    tag.onload = () => {\n        exports = savedexports;\n        module = savedmodule;\n        resolve();\n    };\n  var firstScriptTag = document.getElementsByTagName('script')[0];\n  firstScriptTag.parentNode.insertBefore(tag, firstScriptTag);\n});\n};\n\nif(typeof $3Dmolpromise === 'undefined') {\n$3Dmolpromise = null;\n  $3Dmolpromise = loadScriptAsync('https://cdn.jsdelivr.net/npm/3dmol@latest/build/3Dmol-min.min.js');\n}\n\nvar viewer_1674822258257099 = null;\nvar warn = document.getElementById(\"3dmolwarning_1674822258257099\");\nif(warn) {\n    warn.parentNode.removeChild(warn);\n}\n$3Dmolpromise.then(function() {\nviewer_1674822258257099 = $3Dmol.createViewer(document.getElementById(\"3dmolviewer_1674822258257099\"),{backgroundColor:\"white\"});\nviewer_1674822258257099.zoomTo();\n\tviewer_1674822258257099.addModel(\"24\\n\\nC      3.263017    0.665602   -0.212720\\nN      2.130944   -0.255164   -0.199731\\nC      2.169427   -1.598733   -0.377053\\nN      0.942209   -2.179661   -0.328611\\nC      0.122902   -1.131387   -0.108457\\nC      0.826777    0.020965   -0.033402\\nC      0.176416    1.232141    0.162798\\nO      0.830662    2.309769    0.212003\\nN     -1.194119    1.221596    0.291480\\nC     -1.895573    0.031642    0.181110\\nO     -3.158218    0.040671    0.233363\\nN     -1.232449   -1.164517    0.007067\\nC     -1.967842   -2.428192   -0.134534\\nC     -1.923424    2.489165    0.463343\\nH      4.214642    0.108953   -0.348684\\nH      3.149265    1.386854   -1.048964\\nH      3.309011    1.216933    0.749769\\nH      3.081659   -2.156591   -0.545352\\nH     -1.328558   -3.298924    0.124931\\nH     -2.841765   -2.451853    0.551042\\nH     -2.320805   -2.537641   -1.181510\\nH     -2.839017    2.343970    1.075630\\nH     -2.209018    2.891819   -0.531182\\nH     -1.306144    3.242585    0.997663\\n\",\"xyz\");\n\tviewer_1674822258257099.setViewStyle({\"style\": \"outline\", \"color\": \"black\", \"width\": 0.1});\n\tviewer_1674822258257099.setStyle({\"stick\": {}});\nviewer_1674822258257099.render();\n});\n</script>",
      "text/html": [
       "<div id=\"3dmolviewer_1674822258257099\"  style=\"position: relative; width: 300px; height: 200px\">\n",
       "        <p id=\"3dmolwarning_1674822258257099\" style=\"background-color:#ffcccc;color:black\">You appear to be running in JupyterLab (or JavaScript failed to load for some other reason).  You need to install the 3dmol extension: <br>\n",
       "        <tt>jupyter labextension install jupyterlab_3dmol</tt></p>\n",
       "        </div>\n",
       "<script>\n",
       "\n",
       "var loadScriptAsync = function(uri){\n",
       "  return new Promise((resolve, reject) => {\n",
       "    //this is to ignore the existence of requirejs amd\n",
       "    var savedexports, savedmodule;\n",
       "    if (typeof exports !== 'undefined') savedexports = exports;\n",
       "    else exports = {}\n",
       "    if (typeof module !== 'undefined') savedmodule = module;\n",
       "    else module = {}\n",
       "\n",
       "    var tag = document.createElement('script');\n",
       "    tag.src = uri;\n",
       "    tag.async = true;\n",
       "    tag.onload = () => {\n",
       "        exports = savedexports;\n",
       "        module = savedmodule;\n",
       "        resolve();\n",
       "    };\n",
       "  var firstScriptTag = document.getElementsByTagName('script')[0];\n",
       "  firstScriptTag.parentNode.insertBefore(tag, firstScriptTag);\n",
       "});\n",
       "};\n",
       "\n",
       "if(typeof $3Dmolpromise === 'undefined') {\n",
       "$3Dmolpromise = null;\n",
       "  $3Dmolpromise = loadScriptAsync('https://cdn.jsdelivr.net/npm/3dmol@latest/build/3Dmol-min.min.js');\n",
       "}\n",
       "\n",
       "var viewer_1674822258257099 = null;\n",
       "var warn = document.getElementById(\"3dmolwarning_1674822258257099\");\n",
       "if(warn) {\n",
       "    warn.parentNode.removeChild(warn);\n",
       "}\n",
       "$3Dmolpromise.then(function() {\n",
       "viewer_1674822258257099 = $3Dmol.createViewer(document.getElementById(\"3dmolviewer_1674822258257099\"),{backgroundColor:\"white\"});\n",
       "viewer_1674822258257099.zoomTo();\n",
       "\tviewer_1674822258257099.addModel(\"24\\n\\nC      3.263017    0.665602   -0.212720\\nN      2.130944   -0.255164   -0.199731\\nC      2.169427   -1.598733   -0.377053\\nN      0.942209   -2.179661   -0.328611\\nC      0.122902   -1.131387   -0.108457\\nC      0.826777    0.020965   -0.033402\\nC      0.176416    1.232141    0.162798\\nO      0.830662    2.309769    0.212003\\nN     -1.194119    1.221596    0.291480\\nC     -1.895573    0.031642    0.181110\\nO     -3.158218    0.040671    0.233363\\nN     -1.232449   -1.164517    0.007067\\nC     -1.967842   -2.428192   -0.134534\\nC     -1.923424    2.489165    0.463343\\nH      4.214642    0.108953   -0.348684\\nH      3.149265    1.386854   -1.048964\\nH      3.309011    1.216933    0.749769\\nH      3.081659   -2.156591   -0.545352\\nH     -1.328558   -3.298924    0.124931\\nH     -2.841765   -2.451853    0.551042\\nH     -2.320805   -2.537641   -1.181510\\nH     -2.839017    2.343970    1.075630\\nH     -2.209018    2.891819   -0.531182\\nH     -1.306144    3.242585    0.997663\\n\",\"xyz\");\n",
       "\tviewer_1674822258257099.setViewStyle({\"style\": \"outline\", \"color\": \"black\", \"width\": 0.1});\n",
       "\tviewer_1674822258257099.setStyle({\"stick\": {}});\n",
       "viewer_1674822258257099.render();\n",
       "});\n",
       "</script>"
      ]
     },
     "metadata": {},
     "output_type": "display_data"
    },
    {
     "name": "stdout",
     "output_type": "stream",
     "text": [
      "24\n",
      "\n",
      "C      3.263017    0.665602   -0.212720\n",
      "N      2.130944   -0.255164   -0.199731\n",
      "C      2.169427   -1.598733   -0.377053\n",
      "N      0.942209   -2.179661   -0.328611\n",
      "C      0.122902   -1.131387   -0.108457\n",
      "C      0.826777    0.020965   -0.033402\n",
      "C      0.176416    1.232141    0.162798\n",
      "O      0.830662    2.309769    0.212003\n",
      "N     -1.194119    1.221596    0.291480\n",
      "C     -1.895573    0.031642    0.181110\n",
      "O     -3.158218    0.040671    0.233363\n",
      "N     -1.232449   -1.164517    0.007067\n",
      "C     -1.967842   -2.428192   -0.134534\n",
      "C     -1.923424    2.489165    0.463343\n",
      "H      4.214642    0.108953   -0.348684\n",
      "H      3.149265    1.386854   -1.048964\n",
      "H      3.309011    1.216933    0.749769\n",
      "H      3.081659   -2.156591   -0.545352\n",
      "H     -1.328558   -3.298924    0.124931\n",
      "H     -2.841765   -2.451853    0.551042\n",
      "H     -2.320805   -2.537641   -1.181510\n",
      "H     -2.839017    2.343970    1.075630\n",
      "H     -2.209018    2.891819   -0.531182\n",
      "H     -1.306144    3.242585    0.997663\n",
      "\n"
     ]
    }
   ],
   "source": [
    "import py3Dmol as p3d\n",
    "from rdkit import Chem\n",
    "from rdkit.Chem import AllChem\n",
    "\n",
    "def smilestoxyz(smiles):\n",
    "    mol_bare = Chem.MolFromSmiles(smiles)\n",
    "    mol_full = Chem.AddHs(mol_bare)\n",
    "    AllChem.EmbedMolecule(mol_full)\n",
    "    AllChem.UFFOptimizeMolecule(mol_full)\n",
    "    return Chem.MolToXYZBlock(mol_full)\n",
    "\n",
    "caffeine_xyz = smilestoxyz('CN1C=NC2=C1C(=O)N(C(=O)N2C)C')\n",
    "\n",
    "viewer = p3d.view(width=300, height=200)\n",
    "viewer.addModel(caffeine_xyz, 'xyz')\n",
    "viewer.setViewStyle({\"style\": \"outline\", \"color\": \"black\", \"width\": 0.1})\n",
    "viewer.setStyle({\"stick\": {}})\n",
    "viewer.show()\n",
    "\n",
    "print(caffeine_xyz)"
   ]
  },
  {
   "cell_type": "markdown",
   "metadata": {},
   "source": [
    "Moving to a smaller system, we define the structure of a water molecule and choose a basis set."
   ]
  },
  {
   "cell_type": "code",
   "execution_count": 3,
   "metadata": {},
   "outputs": [
    {
     "name": "stdout",
     "output_type": "stream",
     "text": [
      "* Info * Reading basis set from file: /home/thomas/Notebook/anaconda/envs/echem_test/lib/python3.9/site-packages/veloxchem/basis/CC-PVDZ\n",
      "                                                                                                                          \n",
      "                                              Molecular Basis (Atomic Basis)                                              \n",
      "                                             ================================                                             \n",
      "                                                                                                                          \n",
      "                               Basis: CC-PVDZ                                                                             \n",
      "                                                                                                                          \n",
      "                               Atom Contracted GTOs           Primitive GTOs                                              \n",
      "                                                                                                                          \n",
      "                                O   (3S,2P,1D)                (17S,4P,1D)                                                 \n",
      "                                H   (2S,1P)                   (4S,1P)                                                     \n",
      "                                                                                                                          \n",
      "                               Contracted Basis Functions : 24                                                            \n",
      "                               Primitive Basis Functions  : 48                                                            \n",
      "                                                                                                                          \n"
     ]
    }
   ],
   "source": [
    "# Atomic coordinates in units of Angstrom\n",
    "water_xyz = \"\"\"3 \n",
    "\n",
    "O       0.0000000000     0.1178336003     0.0000000000\n",
    "H      -0.7595754146    -0.4713344012    -0.0000000000\n",
    "H       0.7595754146    -0.4713344012     0.0000000000\n",
    "\"\"\"\n",
    "\n",
    "molecule = vlx.Molecule.from_xyz_string(water_xyz)\n",
    "basis = vlx.MolecularBasis.read(molecule, \"cc-pVDZ\")"
   ]
  },
  {
   "cell_type": "code",
   "execution_count": 4,
   "metadata": {},
   "outputs": [
    {
     "name": "stdout",
     "output_type": "stream",
     "text": [
      "Number of atoms: 3\n",
      "Number of electrons: 10\n",
      "Number of contracted basis functions: 24\n"
     ]
    }
   ],
   "source": [
    "print('Number of atoms:', molecule.number_of_atoms())\n",
    "print('Number of electrons:', molecule.number_of_electrons())\n",
    "print('Number of contracted basis functions:', basis.get_dimensions_of_basis(molecule))"
   ]
  },
  {
   "cell_type": "markdown",
   "metadata": {},
   "source": [
    "## SCF optimization\n",
    "\n",
    "Perform a self-consistent field (SCF) optimization to obtain the Hartree–Fock wave function and the associated ground-state energy."
   ]
  },
  {
   "cell_type": "code",
   "execution_count": 5,
   "metadata": {
    "scrolled": true,
    "tags": [
     "output_scroll"
    ]
   },
   "outputs": [
    {
     "name": "stdout",
     "output_type": "stream",
     "text": [
      "                                                                                                                          \n",
      "                                            Self Consistent Field Driver Setup                                            \n",
      "                                           ====================================                                           \n",
      "                                                                                                                          \n",
      "                   Wave Function Model             : Spin-Restricted Hartree-Fock                                         \n",
      "                   Initial Guess Model             : Superposition of Atomic Densities                                    \n",
      "                   Convergence Accelerator         : Two Level Direct Inversion of Iterative Subspace                     \n",
      "                   Max. Number of Iterations       : 50                                                                   \n",
      "                   Max. Number of Error Vectors    : 10                                                                   \n",
      "                   Convergence Threshold           : 1.0e-06                                                              \n",
      "                   ERI Screening Scheme            : Cauchy Schwarz + Density                                             \n",
      "                   ERI Screening Mode              : Dynamic                                                              \n",
      "                   ERI Screening Threshold         : 1.0e-12                                                              \n",
      "                   Linear Dependence Threshold     : 1.0e-06                                                              \n",
      "                                                                                                                          \n",
      "* Info * Nuclear repulsion energy: 9.1561447194 a.u.                                                                      \n",
      "                                                                                                                          \n",
      "* Info * Overlap matrix computed in 0.01 sec.                                                                             \n",
      "                                                                                                                          \n",
      "* Info * Kinetic energy matrix computed in 0.00 sec.                                                                      \n",
      "                                                                                                                          \n",
      "* Info * Nuclear potential matrix computed in 0.00 sec.                                                                   \n",
      "                                                                                                                          \n",
      "* Info * Orthogonalization matrix computed in 0.00 sec.                                                                   \n",
      "                                                                                                                          \n",
      "* Info * SAD initial guess computed in 0.00 sec.                                                                          \n",
      "                                                                                                                          \n",
      "* Info * Starting Reduced Basis SCF calculation...                                                                        \n",
      "* Info * ...done. SCF energy in reduced basis set: -75.980526010891 a.u. Time: 0.12 sec.                                  \n",
      "                                                                                                                          \n",
      "* Info * Overlap matrix computed in 0.00 sec.                                                                             \n",
      "                                                                                                                          \n",
      "* Info * Kinetic energy matrix computed in 0.00 sec.                                                                      \n",
      "                                                                                                                          \n",
      "* Info * Nuclear potential matrix computed in 0.00 sec.                                                                   \n",
      "                                                                                                                          \n",
      "* Info * Orthogonalization matrix computed in 0.00 sec.                                                                   \n",
      "                                                                                                                          \n",
      "                                                                                                                          \n",
      "               Iter. | Hartree-Fock Energy | Energy Change | Gradient Norm | Max. Gradient | Density Change               \n",
      "               --------------------------------------------------------------------------------------------               \n",
      "                  1       -76.025514170400    0.0000000000      0.09661894      0.01034981      0.00000000                \n",
      "                  2       -76.026530063455   -0.0010158931      0.01856585      0.00282747      0.02538073                \n",
      "                  3       -76.026575250863   -0.0000451874      0.00393964      0.00064892      0.00485806                \n",
      "                  4       -76.026577667709   -0.0000024168      0.00240246      0.00040859      0.00161571                \n",
      "                  5       -76.026578208026   -0.0000005403      0.00021790      0.00003292      0.00050560                \n",
      "                  6       -76.026578219600   -0.0000000116      0.00003172      0.00000533      0.00012152                \n",
      "                  7       -76.026578219828   -0.0000000002      0.00000210      0.00000030      0.00001639                \n",
      "                  8       -76.026578219829   -0.0000000000      0.00000055      0.00000009      0.00000089                \n",
      "                                                                                                                          \n",
      "               *** SCF converged in 8 iterations. Time: 0.97 sec.                                                         \n",
      "                                                                                                                          \n",
      "               Spin-Restricted Hartree-Fock:                                                                              \n",
      "               -----------------------------                                                                              \n",
      "               Total Energy                       :      -76.0265782198 a.u.                                              \n",
      "               Electronic Energy                  :      -85.1827229393 a.u.                                              \n",
      "               Nuclear Repulsion Energy           :        9.1561447194 a.u.                                              \n",
      "               ------------------------------------                                                                       \n",
      "               Gradient Norm                      :        0.0000005463 a.u.                                              \n",
      "                                                                                                                          \n",
      "                                                                                                                          \n",
      "               Ground State Information                                                                                   \n",
      "               ------------------------                                                                                   \n",
      "               Charge of Molecule            :  0.0                                                                       \n",
      "               Multiplicity (2S+1)           :  1.0                                                                       \n",
      "               Magnetic Quantum Number (M_S) :  0.0                                                                       \n",
      "                                                                                                                          \n",
      "                                                                                                                          \n",
      "                                                 Spin Restricted Orbitals                                                 \n",
      "                                                 ------------------------                                                 \n",
      "                                                                                                                          \n",
      "               Molecular Orbital No.   1:                                                                                 \n",
      "               --------------------------                                                                                 \n",
      "               Occupation: 2.000 Energy:  -20.55120 a.u.                                                                  \n",
      "               (   1 O   1s  :     1.00)                                                                                  \n",
      "                                                                                                                          \n",
      "               Molecular Orbital No.   2:                                                                                 \n",
      "               --------------------------                                                                                 \n",
      "               Occupation: 2.000 Energy:   -1.33473 a.u.                                                                  \n",
      "               (   1 O   2s  :    -0.44) (   1 O   3s  :    -0.38) (   2 H   1s  :    -0.19)                              \n",
      "               (   3 H   1s  :    -0.19)                                                                                  \n",
      "                                                                                                                          \n",
      "               Molecular Orbital No.   3:                                                                                 \n",
      "               --------------------------                                                                                 \n",
      "               Occupation: 2.000 Energy:   -0.69693 a.u.                                                                  \n",
      "               (   1 O   1p+1:     0.49) (   1 O   2p+1:     0.22) (   2 H   1s  :    -0.33)                              \n",
      "               (   3 H   1s  :     0.33)                                                                                  \n",
      "                                                                                                                          \n",
      "               Molecular Orbital No.   4:                                                                                 \n",
      "               --------------------------                                                                                 \n",
      "               Occupation: 2.000 Energy:   -0.56605 a.u.                                                                  \n",
      "               (   1 O   2s  :    -0.15) (   1 O   3s  :    -0.35) (   1 O   1p-1:    -0.54)                              \n",
      "               (   1 O   2p-1:    -0.37) (   2 H   1s  :     0.21) (   3 H   1s  :     0.21)                              \n",
      "                                                                                                                          \n",
      "               Molecular Orbital No.   5:                                                                                 \n",
      "               --------------------------                                                                                 \n",
      "               Occupation: 2.000 Energy:   -0.49290 a.u.                                                                  \n",
      "               (   1 O   1p0 :    -0.63) (   1 O   2p0 :    -0.50)                                                        \n",
      "                                                                                                                          \n",
      "               Molecular Orbital No.   6:                                                                                 \n",
      "               --------------------------                                                                                 \n",
      "               Occupation: 0.000 Energy:    0.18486 a.u.                                                                  \n",
      "               (   1 O   3s  :    -1.00) (   1 O   1p-1:     0.19) (   1 O   2p-1:     0.34)                              \n",
      "               (   2 H   2s  :     0.83) (   3 H   2s  :     0.83)                                                        \n",
      "                                                                                                                          \n",
      "               Molecular Orbital No.   7:                                                                                 \n",
      "               --------------------------                                                                                 \n",
      "               Occupation: 0.000 Energy:    0.25567 a.u.                                                                  \n",
      "               (   1 O   1p+1:    -0.28) (   1 O   2p+1:    -0.67) (   2 H   2s  :    -1.44)                              \n",
      "               (   3 H   2s  :     1.44)                                                                                  \n",
      "                                                                                                                          \n",
      "               Molecular Orbital No.   8:                                                                                 \n",
      "               --------------------------                                                                                 \n",
      "               Occupation: 0.000 Energy:    0.78605 a.u.                                                                  \n",
      "               (   1 O   1p+1:     0.27) (   1 O   2p+1:     0.45) (   2 H   1s  :     0.94)                              \n",
      "               (   2 H   2s  :    -0.69) (   2 H   1p-1:    -0.15) (   3 H   1s  :    -0.94)                              \n",
      "               (   3 H   2s  :     0.69) (   3 H   1p-1:     0.15)                                                        \n",
      "                                                                                                                          \n",
      "               Molecular Orbital No.   9:                                                                                 \n",
      "               --------------------------                                                                                 \n",
      "               Occupation: 0.000 Energy:    0.85103 a.u.                                                                  \n",
      "               (   1 O   2s  :    -0.26) (   1 O   3s  :     0.32) (   1 O   1p-1:     0.33)                              \n",
      "               (   2 H   1s  :     0.79) (   2 H   2s  :    -0.55) (   2 H   1p+1:    -0.29)                              \n",
      "               (   3 H   1s  :     0.79) (   3 H   2s  :    -0.55) (   3 H   1p+1:     0.29)                              \n",
      "                                                                                                                          \n",
      "               Molecular Orbital No.  10:                                                                                 \n",
      "               --------------------------                                                                                 \n",
      "               Occupation: 0.000 Energy:    1.16387 a.u.                                                                  \n",
      "               (   1 O   3s  :    -0.74) (   1 O   1p-1:    -0.76) (   1 O   2p-1:     1.27)                              \n",
      "               (   2 H   1s  :     0.54) (   2 H   1p-1:     0.25) (   3 H   1s  :     0.54)                              \n",
      "               (   3 H   1p-1:     0.25)                                                                                  \n",
      "                                                                                                                          \n"
     ]
    }
   ],
   "source": [
    "scf_drv = vlx.ScfRestrictedDriver()\n",
    "scf_results = scf_drv.compute(molecule, basis)"
   ]
  },
  {
   "cell_type": "markdown",
   "metadata": {},
   "source": [
    "(section-scf-info)=\n",
    "## SCF information\n",
    "\n",
    "The SCF driver object has a method named `get_scf_energy()` for retrieving the final energy."
   ]
  },
  {
   "cell_type": "code",
   "execution_count": 6,
   "metadata": {},
   "outputs": [
    {
     "name": "stdout",
     "output_type": "stream",
     "text": [
      "Hartree–Fock energy: -76.0265782198 a.u.\n"
     ]
    }
   ],
   "source": [
    "print(f'Hartree–Fock energy: {scf_drv.get_scf_energy():14.10f} a.u.')"
   ]
  },
  {
   "cell_type": "markdown",
   "metadata": {},
   "source": [
    "The return object from the `compute()` method is a Python dictionary containing several tensors:\n",
    "\n",
    "- `C`: molecular orbital coefficients as a NumPy array\n",
    "- `E`: orbital energies as a NumPy array\n",
    "- `D`: $\\alpha$- and $\\beta$-spin density matrices as a tuple of NumPy arrays\n",
    "- `F`: $\\alpha$- and $\\beta$-spin Fock matrices as a tuple of NumPy arrays\n",
    "- `S`: overlap integrals as a NumPy array"
   ]
  },
  {
   "cell_type": "code",
   "execution_count": 7,
   "metadata": {},
   "outputs": [
    {
     "name": "stdout",
     "output_type": "stream",
     "text": [
      "Dictionary keys:\n",
      " dict_keys(['S', 'C_alpha', 'C_beta', 'E_alpha', 'E_beta', 'D_alpha', 'D_beta', 'F_alpha', 'F_beta', 'C', 'E', 'D', 'F'])\n",
      "\n",
      "Orbital energies:\n",
      " [-20.55119961  -1.33473347  -0.69692651  -0.56605275  -0.49289827\n",
      "   0.18486487   0.25566978   0.78604709   0.85103488   1.16387193\n",
      "   1.20030818   1.25366153   1.44422793   1.4755769    1.67329727\n",
      "   1.8679223    1.93111284   2.4430781    2.48048696   3.28268216\n",
      "   3.334531     3.50569214   3.86065795   4.14355137]\n"
     ]
    }
   ],
   "source": [
    "print('Dictionary keys:\\n', scf_drv.scf_tensors.keys())\n",
    "print()\n",
    "print('Orbital energies:\\n', scf_drv.scf_tensors['E'])"
   ]
  }
 ],
 "metadata": {
  "celltoolbar": "Tags",
  "kernelspec": {
   "display_name": "Python 3 (ipykernel)",
   "language": "python",
   "name": "python3"
  },
  "language_info": {
   "codemirror_mode": {
    "name": "ipython",
    "version": 3
   },
   "file_extension": ".py",
   "mimetype": "text/x-python",
   "name": "python",
   "nbconvert_exporter": "python",
   "pygments_lexer": "ipython3",
   "version": "3.9.15"
  }
 },
 "nbformat": 4,
 "nbformat_minor": 4
}
