{
 "cells": [
  {
   "cell_type": "markdown",
   "id": "7da959f1-8c4b-44b1-a0ac-9ecc3d933108",
   "metadata": {
    "editable": true,
    "slideshow": {
     "slide_type": ""
    },
    "tags": []
   },
   "source": [
    "# Software installation\n",
    "\n",
    "Conda is an open-source package and environment management system that runs on Windows, MacOS, and Linux. The conda repository contains a large number of open-source certified packages enabling scientific work. It is recommended that you install the minimal installer for conda named miniconda that includes only conda, Python, the packages they depend on, and a small number of other useful packages, including pip, zlib and a few others.\n",
    "\n",
    "Retrieve and install miniconda from the following website\n",
    "\n",
    "> <https://docs.conda.io/en/latest/miniconda.html>\n",
    "\n",
    "Start a terminal on a macOS/Linux system or Anaconda Powershell on a Windows system. Conda supports multiple *environments* and you start in the one named `base` as is typically indicated by the terminal prompt.\n",
    "\n",
    "Create a text file named `cb2070.yml` with the following content:\n",
    "\n",
    "````\n",
    "name: cb2070\n",
    "channels:\n",
    "  - conda-forge\n",
    "  - veloxchem\n",
    "dependencies:\n",
    "  - matplotlib\n",
    "  - jupyterlab\n",
    "  - veloxchem\n",
    "  - multipsi\n",
    "````\n",
    "\n",
    "To create a new and additional environment named `cb2070` and install VeloxChem, Matplotlib, and Jupyter notebook (and package dependencies such as NumPy and SciPy) into it, you enter the following command line statement\n",
    "\n",
    "```bash\n",
    "conda env create -f cb2070.yml\n",
    "```\n",
    "\n",
    "You can list your conda environments\n",
    "\n",
    "```bash\n",
    "conda env list\n",
    "```\n",
    "\n",
    "The activated environment will be marked with an asterisk (the `base` environment to begin with) and you can activate your new environment with the command\n",
    "\n",
    "```bash\n",
    "conda activate cb2070\n",
    "```\n",
    "\n",
    "as should be indicated by getting a modified prompt. \n",
    "\n",
    "Inside this newly created environment, you should now be ready to start Jupyter Lab with the command\n",
    "\n",
    "```bash\n",
    "jupyter-lab\n",
    "```\n",
    "\n",
    "which should open in your default web browser. In Jupyter Lab, start a notebook to allow for interactive execution of Python code written into cells and associated information (text equations, and illustrations) in markdown cells, with examples on how to use it found on, *e.g.* the [eChem](https://kthpanor.github.io/echem/docs/basics_notebook.html) page."
   ]
  }
 ],
 "metadata": {
  "kernelspec": {
   "display_name": "Python 3 (ipykernel)",
   "language": "python",
   "name": "python3"
  },
  "language_info": {
   "codemirror_mode": {
    "name": "ipython",
    "version": 3
   },
   "file_extension": ".py",
   "mimetype": "text/x-python",
   "name": "python",
   "nbconvert_exporter": "python",
   "pygments_lexer": "ipython3",
   "version": "3.11.7"
  }
 },
 "nbformat": 4,
 "nbformat_minor": 5
}
