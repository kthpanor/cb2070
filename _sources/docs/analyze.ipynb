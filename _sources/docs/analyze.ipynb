{
 "cells": [
  {
   "cell_type": "markdown",
   "metadata": {},
   "source": [
    "# Analyzing and visualizing\n",
    "\n",
    "## Molecular structure\n",
    "\n",
    "Molecular structures can be inspected with use of the `py3Dmol` module. We initialize a view and include a stick representation of the water molecule. The view is interactive, so you can rotate, translate, zoom in and out. An illustration of the van der Waals surface is added to give an idea of the \"molecular size\", or the electron cloud."
   ]
  },
  {
   "cell_type": "code",
   "execution_count": 1,
   "metadata": {
    "scrolled": true,
    "tags": [
     "remove-cell"
    ]
   },
   "outputs": [
    {
     "name": "stdout",
     "output_type": "stream",
     "text": [
      "* Warning * Environment variable OMP_NUM_THREADS not set.\n",
      "* Warning * Setting OMP_NUM_THREADS to 4.\n",
      "* Info * Reading basis set from file: /opt/miniconda3/envs/echem/lib/python3.9/site-packages/veloxchem/basis/CC-PVDZ      \n",
      "                                                                                                                          \n",
      "                                              Molecular Basis (Atomic Basis)                                              \n",
      "                                             ================================                                             \n",
      "                                                                                                                          \n",
      "                                  Basis: CC-PVDZ                                                                          \n",
      "                                                                                                                          \n",
      "                                  Atom Contracted GTOs          Primitive GTOs                                            \n",
      "                                                                                                                          \n",
      "                                   O   (3S,2P,1D)               (17S,4P,1D)                                               \n",
      "                                   H   (2S,1P)                  (4S,1P)                                                   \n",
      "                                                                                                                          \n",
      "                                  Contracted Basis Functions : 24                                                         \n",
      "                                  Primitive Basis Functions  : 48                                                         \n",
      "                                                                                                                          \n",
      "                                                                                                                          \n",
      "                                            Self Consistent Field Driver Setup                                            \n",
      "                                           ====================================                                           \n",
      "                                                                                                                          \n",
      "                   Wave Function Model             : Spin-Restricted Hartree-Fock                                         \n",
      "                   Initial Guess Model             : Superposition of Atomic Densities                                    \n",
      "                   Convergence Accelerator         : Two Level Direct Inversion of Iterative Subspace                     \n",
      "                   Max. Number of Iterations       : 50                                                                   \n",
      "                   Max. Number of Error Vectors    : 10                                                                   \n",
      "                   Convergence Threshold           : 1.0e-06                                                              \n",
      "                   ERI Screening Scheme            : Cauchy Schwarz + Density                                             \n",
      "                   ERI Screening Mode              : Dynamic                                                              \n",
      "                   ERI Screening Threshold         : 1.0e-12                                                              \n",
      "                   Linear Dependence Threshold     : 1.0e-06                                                              \n",
      "                                                                                                                          \n",
      "* Info * Nuclear repulsion energy: 9.3436381577 a.u.                                                                      \n",
      "                                                                                                                          \n",
      "* Info * Overlap matrix computed in 0.01 sec.                                                                             \n",
      "                                                                                                                          \n",
      "* Info * Kinetic energy matrix computed in 0.00 sec.                                                                      \n",
      "                                                                                                                          \n",
      "* Info * Nuclear potential matrix computed in 0.00 sec.                                                                   \n",
      "                                                                                                                          \n",
      "* Info * Orthogonalization matrix computed in 0.00 sec.                                                                   \n",
      "                                                                                                                          \n",
      "* Info * SAD initial guess computed in 0.00 sec.                                                                          \n",
      "                                                                                                                          \n",
      "* Info * Starting Reduced Basis SCF calculation...                                                                        \n",
      "* Info * ...done. SCF energy in reduced basis set: -75.979046359571 a.u. Time: 0.05 sec.                                  \n",
      "                                                                                                                          \n",
      "* Info * Overlap matrix computed in 0.00 sec.                                                                             \n",
      "                                                                                                                          \n",
      "* Info * Kinetic energy matrix computed in 0.00 sec.                                                                      \n",
      "                                                                                                                          \n",
      "* Info * Nuclear potential matrix computed in 0.00 sec.                                                                   \n",
      "                                                                                                                          \n",
      "* Info * Orthogonalization matrix computed in 0.00 sec.                                                                   \n",
      "                                                                                                                          \n",
      "                                                                                                                          \n",
      "               Iter. | Hartree-Fock Energy | Energy Change | Gradient Norm | Max. Gradient | Density Change               \n",
      "               --------------------------------------------------------------------------------------------               \n",
      "                  1       -76.025869744700    0.0000000000      0.09892066      0.01121867      0.00000000                \n",
      "                  2       -76.026932827150   -0.0010630825      0.01920269      0.00294570      0.02594960                \n",
      "                  3       -76.026981056596   -0.0000482294      0.00412658      0.00076652      0.00507499                \n",
      "                  4       -76.026983601529   -0.0000025449      0.00247905      0.00043111      0.00166621                \n",
      "                  5       -76.026984175646   -0.0000005741      0.00021766      0.00003639      0.00052311                \n",
      "                  6       -76.026984187024   -0.0000000114      0.00003206      0.00000540      0.00012084                \n",
      "                  7       -76.026984187255   -0.0000000002      0.00000208      0.00000029      0.00001663                \n",
      "                  8       -76.026984187255   -0.0000000000      0.00000053      0.00000008      0.00000087                \n",
      "                                                                                                                          \n",
      "               *** SCF converged in 8 iterations. Time: 0.49 sec.                                                         \n",
      "                                                                                                                          \n",
      "               Spin-Restricted Hartree-Fock:                                                                              \n",
      "               -----------------------------                                                                              \n",
      "               Total Energy                       :      -76.0269841873 a.u.                                              \n",
      "               Electronic Energy                  :      -85.3706223449 a.u.                                              \n",
      "               Nuclear Repulsion Energy           :        9.3436381577 a.u.                                              \n",
      "               ------------------------------------                                                                       \n",
      "               Gradient Norm                      :        0.0000005316 a.u.                                              \n",
      "                                                                                                                          \n",
      "                                                                                                                          \n",
      "               Ground State Information                                                                                   \n",
      "               ------------------------                                                                                   \n",
      "               Charge of Molecule            :  0.0                                                                       \n",
      "               Multiplicity (2S+1)           :  1.0                                                                       \n",
      "               Magnetic Quantum Number (M_S) :  0.0                                                                       \n",
      "                                                                                                                          \n",
      "                                                                                                                          \n",
      "                                                 Spin Restricted Orbitals                                                 \n",
      "                                                 ------------------------                                                 \n",
      "                                                                                                                          \n",
      "               Molecular Orbital No.   1:                                                                                 \n",
      "               --------------------------                                                                                 \n",
      "               Occupation: 2.000 Energy:  -20.54819 a.u.                                                                  \n",
      "               (   1 O   1s  :     1.00)                                                                                  \n",
      "                                                                                                                          \n",
      "               Molecular Orbital No.   2:                                                                                 \n",
      "               --------------------------                                                                                 \n",
      "               Occupation: 2.000 Energy:   -1.34520 a.u.                                                                  \n",
      "               (   1 O   2s  :     0.44) (   1 O   3s  :     0.36) (   2 H   1s  :     0.20)                              \n",
      "               (   3 H   1s  :     0.20)                                                                                  \n",
      "                                                                                                                          \n",
      "               Molecular Orbital No.   3:                                                                                 \n",
      "               --------------------------                                                                                 \n",
      "               Occupation: 2.000 Energy:   -0.70585 a.u.                                                                  \n",
      "               (   1 O   1p+1:    -0.49) (   1 O   2p+1:    -0.22) (   2 H   1s  :    -0.33)                              \n",
      "               (   3 H   1s  :     0.33)                                                                                  \n",
      "                                                                                                                          \n",
      "               Molecular Orbital No.   4:                                                                                 \n",
      "               --------------------------                                                                                 \n",
      "               Occupation: 2.000 Energy:   -0.57109 a.u.                                                                  \n",
      "               (   1 O   2s  :    -0.15) (   1 O   3s  :    -0.36) (   1 O   1p-1:     0.55)                              \n",
      "               (   1 O   2p-1:     0.36) (   2 H   1s  :     0.21) (   3 H   1s  :     0.21)                              \n",
      "                                                                                                                          \n",
      "               Molecular Orbital No.   5:                                                                                 \n",
      "               --------------------------                                                                                 \n",
      "               Occupation: 2.000 Energy:   -0.49457 a.u.                                                                  \n",
      "               (   1 O   1p0 :     0.63) (   1 O   2p0 :     0.49)                                                        \n",
      "                                                                                                                          \n",
      "               Molecular Orbital No.   6:                                                                                 \n",
      "               --------------------------                                                                                 \n",
      "               Occupation: 0.000 Energy:    0.18787 a.u.                                                                  \n",
      "               (   1 O   3s  :    -1.02) (   1 O   1p-1:    -0.19) (   1 O   2p-1:    -0.33)                              \n",
      "               (   2 H   2s  :     0.83) (   3 H   2s  :     0.83)                                                        \n",
      "                                                                                                                          \n",
      "               Molecular Orbital No.   7:                                                                                 \n",
      "               --------------------------                                                                                 \n",
      "               Occupation: 0.000 Energy:    0.25852 a.u.                                                                  \n",
      "               (   1 O   1p+1:     0.28) (   1 O   2p+1:     0.67) (   2 H   2s  :    -1.48)                              \n",
      "               (   3 H   2s  :     1.48)                                                                                  \n",
      "                                                                                                                          \n",
      "               Molecular Orbital No.   8:                                                                                 \n",
      "               --------------------------                                                                                 \n",
      "               Occupation: 0.000 Energy:    0.79749 a.u.                                                                  \n",
      "               (   1 O   1p+1:    -0.26) (   1 O   2p+1:    -0.49) (   2 H   1s  :     0.95)                              \n",
      "               (   2 H   2s  :    -0.66) (   2 H   1p-1:     0.16) (   3 H   1s  :    -0.95)                              \n",
      "               (   3 H   2s  :     0.66) (   3 H   1p-1:    -0.16)                                                        \n",
      "                                                                                                                          \n",
      "               Molecular Orbital No.   9:                                                                                 \n",
      "               --------------------------                                                                                 \n",
      "               Occupation: 0.000 Energy:    0.87271 a.u.                                                                  \n",
      "               (   1 O   2s  :    -0.25) (   1 O   3s  :     0.34) (   1 O   1p-1:    -0.34)                              \n",
      "               (   2 H   1s  :     0.77) (   2 H   2s  :    -0.54) (   2 H   1p+1:     0.31)                              \n",
      "               (   3 H   1s  :     0.77) (   3 H   2s  :    -0.54) (   3 H   1p+1:    -0.31)                              \n",
      "                                                                                                                          \n",
      "               Molecular Orbital No.  10:                                                                                 \n",
      "               --------------------------                                                                                 \n",
      "               Occupation: 0.000 Energy:    1.16315 a.u.                                                                  \n",
      "               (   1 O   3s  :    -0.78) (   1 O   1p-1:     0.74) (   1 O   2p-1:    -1.31)                              \n",
      "               (   2 H   1s  :     0.59) (   2 H   1p-1:    -0.24) (   3 H   1s  :     0.59)                              \n",
      "               (   3 H   1p-1:    -0.24)                                                                                  \n",
      "                                                                                                                          \n"
     ]
    }
   ],
   "source": [
    "import veloxchem as vlx\n",
    "\n",
    "h2o_xyz = \"\"\"3\n",
    "water molecule                                                                                                                          \n",
    "O    0.000000000000        0.000000000000        0.000000000000                       \n",
    "H    0.740848095288        0.582094932012        0.000000000000                         \n",
    "H   -0.740848095288        0.582094932012        0.000000000000\n",
    "\"\"\"\n",
    "molecule = vlx.Molecule.from_xyz_string(h2o_xyz)\n",
    "\n",
    "basis = vlx.MolecularBasis.read(molecule, \"cc-pVDZ\")\n",
    "\n",
    "scf_drv = vlx.ScfRestrictedDriver()\n",
    "scf_results = scf_drv.compute(molecule, basis)"
   ]
  },
  {
   "cell_type": "code",
   "execution_count": 2,
   "metadata": {},
   "outputs": [
    {
     "data": {
      "application/3dmoljs_load.v0": "<div id=\"3dmolviewer_1672669861982847\"  style=\"position: relative; width: 300px; height: 300px\">\n        <p id=\"3dmolwarning_1672669861982847\" style=\"background-color:#ffcccc;color:black\">You appear to be running in JupyterLab (or JavaScript failed to load for some other reason).  You need to install the 3dmol extension: <br>\n        <tt>jupyter labextension install jupyterlab_3dmol</tt></p>\n        </div>\n<script>\n\nvar loadScriptAsync = function(uri){\n  return new Promise((resolve, reject) => {\n    var tag = document.createElement('script');\n    tag.src = uri;\n    tag.async = true;\n    tag.onload = () => {\n      resolve();\n    };\n  var firstScriptTag = document.getElementsByTagName('script')[0];\n  firstScriptTag.parentNode.insertBefore(tag, firstScriptTag);\n});\n};\n\nif(typeof $3Dmolpromise === 'undefined') {\n$3Dmolpromise = null;\n  $3Dmolpromise = loadScriptAsync('https://cdn.jsdelivr.net/npm/3dmol@latest/build/3Dmol-min.min.js');\n}\n\nvar viewer_1672669861982847 = null;\nvar warn = document.getElementById(\"3dmolwarning_1672669861982847\");\nif(warn) {\n    warn.parentNode.removeChild(warn);\n}\n$3Dmolpromise.then(function() {\nviewer_1672669861982847 = $3Dmol.createViewer($(\"#3dmolviewer_1672669861982847\"),{backgroundColor:\"white\"});\nviewer_1672669861982847.zoomTo();\n\tviewer_1672669861982847.addModel(\"3\\nwater molecule                                                                                                                          \\nO    0.000000000000        0.000000000000        0.000000000000                       \\nH    0.740848095288        0.582094932012        0.000000000000                         \\nH   -0.740848095288        0.582094932012        0.000000000000\\n\",\"xyz\");\n\tviewer_1672669861982847.setStyle({\"stick\": {}});\n\tviewer_1672669861982847.addSurface(1,{\"opacity\": 0.7, \"color\": \"green\"});\n\tviewer_1672669861982847.zoomTo();\nviewer_1672669861982847.render();\n});\n</script>",
      "text/html": [
       "<div id=\"3dmolviewer_1672669861982847\"  style=\"position: relative; width: 300px; height: 300px\">\n",
       "        <p id=\"3dmolwarning_1672669861982847\" style=\"background-color:#ffcccc;color:black\">You appear to be running in JupyterLab (or JavaScript failed to load for some other reason).  You need to install the 3dmol extension: <br>\n",
       "        <tt>jupyter labextension install jupyterlab_3dmol</tt></p>\n",
       "        </div>\n",
       "<script>\n",
       "\n",
       "var loadScriptAsync = function(uri){\n",
       "  return new Promise((resolve, reject) => {\n",
       "    var tag = document.createElement('script');\n",
       "    tag.src = uri;\n",
       "    tag.async = true;\n",
       "    tag.onload = () => {\n",
       "      resolve();\n",
       "    };\n",
       "  var firstScriptTag = document.getElementsByTagName('script')[0];\n",
       "  firstScriptTag.parentNode.insertBefore(tag, firstScriptTag);\n",
       "});\n",
       "};\n",
       "\n",
       "if(typeof $3Dmolpromise === 'undefined') {\n",
       "$3Dmolpromise = null;\n",
       "  $3Dmolpromise = loadScriptAsync('https://cdn.jsdelivr.net/npm/3dmol@latest/build/3Dmol-min.min.js');\n",
       "}\n",
       "\n",
       "var viewer_1672669861982847 = null;\n",
       "var warn = document.getElementById(\"3dmolwarning_1672669861982847\");\n",
       "if(warn) {\n",
       "    warn.parentNode.removeChild(warn);\n",
       "}\n",
       "$3Dmolpromise.then(function() {\n",
       "viewer_1672669861982847 = $3Dmol.createViewer($(\"#3dmolviewer_1672669861982847\"),{backgroundColor:\"white\"});\n",
       "viewer_1672669861982847.zoomTo();\n",
       "\tviewer_1672669861982847.addModel(\"3\\nwater molecule                                                                                                                          \\nO    0.000000000000        0.000000000000        0.000000000000                       \\nH    0.740848095288        0.582094932012        0.000000000000                         \\nH   -0.740848095288        0.582094932012        0.000000000000\\n\",\"xyz\");\n",
       "\tviewer_1672669861982847.setStyle({\"stick\": {}});\n",
       "\tviewer_1672669861982847.addSurface(1,{\"opacity\": 0.7, \"color\": \"green\"});\n",
       "\tviewer_1672669861982847.zoomTo();\n",
       "viewer_1672669861982847.render();\n",
       "});\n",
       "</script>"
      ]
     },
     "metadata": {},
     "output_type": "display_data"
    }
   ],
   "source": [
    "import py3Dmol as p3d\n",
    "\n",
    "v = p3d.view(width=300, height=300)\n",
    "\n",
    "v.addModel(h2o_xyz, \"xyz\")\n",
    "v.setStyle({'stick':{}})\n",
    "v.addSurface(p3d.VDW,{'opacity': 0.7, 'color': 'green'})\n",
    "\n",
    "v.zoomTo()\n",
    "\n",
    "v.show()"
   ]
  },
  {
   "cell_type": "markdown",
   "metadata": {},
   "source": [
    "(section-scf-info)=\n",
    "## SCF information\n",
    "\n",
    "The SCF driver object contains a wealth of useful information:\n",
    "\n",
    "- The final SCF energy: `scf_drv.get_scf_energy()`\n",
    "- A Python dictionary of tensors: `scf_drv.scf_tensors`\n",
    "    - `C`: molecular orbital coefficients as a NumPy array\n",
    "    - `E`: orbital energies as a NumPy array\n",
    "    - `D`: $\\alpha$- and $\\beta$-spin density matrices as a tuple of NumPy arrays\n",
    "    - `F`: $\\alpha$- and $\\beta$-spin Fock matrices as a tuple of NumPy arrays\n",
    "    - `S`: overlap integrals as a NumPy array"
   ]
  },
  {
   "cell_type": "code",
   "execution_count": 3,
   "metadata": {},
   "outputs": [
    {
     "name": "stdout",
     "output_type": "stream",
     "text": [
      "Hartree–Fock energy: -76.0269841873 a.u.\n",
      "\n",
      "Dictionary keys:\n",
      " dict_keys(['S', 'C_alpha', 'C_beta', 'E_alpha', 'E_beta', 'D_alpha', 'D_beta', 'F_alpha', 'F_beta', 'C', 'E', 'D', 'F']) \n",
      "\n",
      "Orbital energies:\n",
      " [-20.54818972  -1.345205    -0.70584505  -0.57108597  -0.49456798\n",
      "   0.18786924   0.2585202    0.79748539   0.87271166   1.16315036\n",
      "   1.20011488   1.25334062   1.43477498   1.48313855   1.67303123\n",
      "   1.86242483   1.95691981   2.48659724   2.53078557   3.30367059\n",
      "   3.35068938   3.53410961   3.87596599   4.16973921]\n"
     ]
    }
   ],
   "source": [
    "print(f'Hartree–Fock energy: {scf_drv.get_scf_energy():14.10f} a.u.\\n')\n",
    "\n",
    "print('Dictionary keys:\\n', scf_drv.scf_tensors.keys(), '\\n')\n",
    "\n",
    "print('Orbital energies:\\n', scf_drv.scf_tensors['E'])"
   ]
  },
  {
   "cell_type": "markdown",
   "metadata": {},
   "source": [
    "(section-orbitals)=\n",
    "## Molecular orbitals\n",
    "\n",
    "The values of orbitals at given coordinates are readily available. Below is an example in terms of finding the values of the $1s$-orbital ($\\alpha$-spin) along the $z$-axis. "
   ]
  },
  {
   "cell_type": "code",
   "execution_count": 4,
   "metadata": {
    "scrolled": true
   },
   "outputs": [
    {
     "data": {
      "image/png": "[encoded data removed]",
      "text/plain": [
       "<Figure size 640x480 with 1 Axes>"
      ]
     },
     "metadata": {},
     "output_type": "display_data"
    }
   ],
   "source": [
    "import numpy as np\n",
    "import matplotlib.pyplot as plt\n",
    "\n",
    "vis_drv = vlx.VisualizationDriver()\n",
    "mol_orbs = scf_drv.mol_orbs\n",
    "\n",
    "n = 100\n",
    "coords = np.zeros((n,3))\n",
    "coords[:,2] = np.linspace(0,3,n)\n",
    "\n",
    "mo_1s = 0 \n",
    "mo_1s_values = vis_drv.get_mo(coords, molecule, basis, mol_orbs, mo_1s, 'alpha')\n",
    "\n",
    "plt.plot(coords[:,2], mo_1s_values)\n",
    "\n",
    "plt.grid(True)\n",
    "plt.xlabel('Distance from oxyxen nucleus (Bohr)')\n",
    "plt.ylabel('Value of 1s-orbital')\n",
    "\n",
    "plt.show()"
   ]
  },
  {
   "cell_type": "markdown",
   "metadata": {},
   "source": [
    "## One-particle density\n",
    "\n",
    "The one-particle density for an $N$-electron system is defined as\n",
    "\n",
    "$$\n",
    "    n(\\mathbf{r}) = N \\int \n",
    "    \\Psi^\\dagger(\\mathbf{r}, \\mathbf{r}_2, \\ldots,\\mathbf{r}_N)\n",
    "    \\Psi(\\mathbf{r}, \\mathbf{r}_2, \\ldots,\\mathbf{r}_N)\n",
    "    \\, d^3\\mathbf{r}_2 \\cdots d^3\\mathbf{r}_N\n",
    "$$\n",
    "\n",
    "and it refers to the probability density of finding any one electron at position $\\mathbf{r}$ in space regardless of the distribution of others. It fulfills\n",
    "\n",
    "$$\n",
    "     \\int n(\\mathbf{r}) \\, d^3\\mathbf{r} = N\n",
    "$$\n",
    "\n",
    "For a Hartree–Fock state, one-particle densities are available as illustrated in the example script below."
   ]
  },
  {
   "cell_type": "code",
   "execution_count": 5,
   "metadata": {},
   "outputs": [
    {
     "data": {
      "image/png": "[encoded data removed]",
      "text/plain": [
       "<Figure size 800x600 with 1 Axes>"
      ]
     },
     "metadata": {},
     "output_type": "display_data"
    }
   ],
   "source": [
    "vis_drv = vlx.VisualizationDriver()\n",
    "\n",
    "one_part_den = vis_drv.get_density(coords, molecule, basis, scf_drv.density, 'alpha')\n",
    "\n",
    "fig = plt.figure(figsize = (8,6))\n",
    "ax = plt.axes(xlim = (0,1), ylim = (0,140))\n",
    "\n",
    "plt.plot(coords[:,2], one_part_den)\n",
    "\n",
    "plt.grid(True)\n",
    "plt.xlabel('Distance from oxyxen nucleus (Bohr)')\n",
    "plt.ylabel('One-particle density (a.u.)')\n",
    "\n",
    "plt.show()"
   ]
  },
  {
   "cell_type": "markdown",
   "metadata": {},
   "source": [
    "As indicated by the string argument \"alpha\", the $\\alpha$- and $\\beta$-spin densities can be determined individually, referring to the relation\n",
    "\n",
    "$$\n",
    "    n(\\mathbf{r}) = n^\\alpha(\\mathbf{r}) + n^\\beta(\\mathbf{r})\n",
    "$$\n",
    "\n",
    "For a closed shell system, the two spin densities are equal and thus equal to half the total one-particle density."
   ]
  },
  {
   "cell_type": "code",
   "execution_count": 6,
   "metadata": {},
   "outputs": [
    {
     "name": "stdout",
     "output_type": "stream",
     "text": [
      "Help on method get_density in module veloxchem.veloxchemlib:\n",
      "\n",
      "get_density(...) method of veloxchem.veloxchemlib.VisualizationDriver instance\n",
      "    get_density(self: veloxchem.veloxchemlib.VisualizationDriver, coords: List[List[float]], molecule: veloxchem.veloxchemlib.Molecule, basis: veloxchem.veloxchemlib.MolecularBasis, density: veloxchem.veloxchemlib.AODensityMatrix, denspin: str) -> List[float]\n",
      "    \n",
      "    Computes densities at given coordinates.\n",
      "\n"
     ]
    }
   ],
   "source": [
    "help(vis_drv.get_density)"
   ]
  },
  {
   "cell_type": "markdown",
   "metadata": {},
   "source": [
    "## Two-particle density\n",
    "\n",
    "The two-particle density for an $N$-electron system is defined as\n",
    "\n",
    "$$\n",
    "   n(\\mathbf{r}_1, \\mathbf{r}_2) = N(N-1)\\int \n",
    "    \\Psi^\\dagger(\\mathbf{r}_1, \\mathbf{r}_2, \\ldots,\\mathbf{r}_N)\n",
    "    \\Psi(\\mathbf{r}_1, \\mathbf{r}_2, \\ldots,\\mathbf{r}_N)\n",
    "    \\, d^3\\mathbf{r}_3 \\cdots d^3\\mathbf{r}_N\n",
    "$$\n",
    "\n",
    "and it refers to the probability density of finding one electron at position $\\mathbf{r}_1$ and another at position $\\mathbf{r}_2$ in space regardless of the distribution of others.\n",
    "\n",
    "For a Hartree–Fock state, two particle densities are available as illustrated in the example script below."
   ]
  },
  {
   "cell_type": "code",
   "execution_count": 8,
   "metadata": {},
   "outputs": [
    {
     "name": "stdout",
     "output_type": "stream",
     "text": [
      "Two-particle density     (same spin):     0.0000 a.u.\n",
      "Two-particle density (opposite spin): 22079.6216 a.u.\n"
     ]
    }
   ],
   "source": [
    "coord = [[0.0, 0.0, 0.0]]\n",
    "\n",
    "two_part_den_aa = vis_drv.get_two_particle_density(coord, coord, molecule, basis,\n",
    "                                               scf_drv.density, 'alpha', 'alpha')\n",
    "two_part_den_ab = vis_drv.get_two_particle_density(coord, coord, molecule, basis,\n",
    "                                               scf_drv.density, 'alpha', 'beta')\n",
    "\n",
    "print(f'Two-particle density     (same spin): {two_part_den_aa[0]:10.4f} a.u.')\n",
    "print(f'Two-particle density (opposite spin): {two_part_den_ab[0]:10.4f} a.u.')"
   ]
  },
  {
   "cell_type": "markdown",
   "metadata": {},
   "source": [
    "As indicated by the string arguments \"alpha\" and \"beta\", the spin densities can be determined individually, referring to the relation\n",
    "\n",
    "$$\n",
    "    n(\\mathbf{r}_1, \\mathbf{r}_2) = n^{\\alpha\\alpha}(\\mathbf{r}_1, \\mathbf{r}_2) + \n",
    "    n^{\\alpha\\beta}(\\mathbf{r}_1, \\mathbf{r}_2) + n^{\\beta\\alpha}(\\mathbf{r}_1, \\mathbf{r}_2) + \n",
    "    n^{\\beta\\beta}(\\mathbf{r}_1, \\mathbf{r}_2)\n",
    "$$\n",
    "\n",
    "For a closed shell system, we have\n",
    "\n",
    "\\begin{align*}\n",
    "n^{\\alpha\\alpha}(\\mathbf{r}_1, \\mathbf{r}_2) & = n^{\\beta\\beta}(\\mathbf{r}_1, \\mathbf{r}_2) \\\\\n",
    "n^{\\alpha\\beta}(\\mathbf{r}_1, \\mathbf{r}_2) & = n^{\\beta\\alpha}(\\mathbf{r}_1, \\mathbf{r}_2) \n",
    "\\end{align*}"
   ]
  },
  {
   "cell_type": "code",
   "execution_count": null,
   "metadata": {},
   "outputs": [],
   "source": [
    "help(vis_drv.get_two_particle_density)"
   ]
  }
 ],
 "metadata": {
  "celltoolbar": "Tags",
  "kernelspec": {
   "display_name": "Python 3 (ipykernel)",
   "language": "python",
   "name": "python3"
  },
  "language_info": {
   "codemirror_mode": {
    "name": "ipython",
    "version": 3
   },
   "file_extension": ".py",
   "mimetype": "text/x-python",
   "name": "python",
   "nbconvert_exporter": "python",
   "pygments_lexer": "ipython3",
   "version": "3.9.15"
  }
 },
 "nbformat": 4,
 "nbformat_minor": 4
}
