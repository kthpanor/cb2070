{
 "cells": [
  {
   "cell_type": "markdown",
   "id": "7435da36-40e5-44ca-8882-343385a33ad7",
   "metadata": {},
   "source": [
    "# Molecular Quantum Mechanics\n",
    "\n",
    "Welcome to the course in Molecular Quantum Mechanics ([CB2070](https://www.kth.se/student/kurser/kurs/CB2070/?l=en))!\n",
    "\n",
    "In this course, we will study wave functions for many-electron systems, or more specifically molecules. To our help we will have a modern Python-driven quantum chemistry software named [VeloxChem](https://veloxchem.org/) {cite}`veloxchem` that enables an exploration of the underlying data structures and easy script-based interactions.\n",
    "\n",
    "Such an interactive approach to learn about quantum chemistry is the topic of the [eChem book](https://kthpanor.github.io/echem) {cite}`echem`.\n",
    "\n",
    "foo\n",
    "\n",
    "![eChem](../images/echem_cover.png)"
   ]
  }
 ],
 "metadata": {
  "kernelspec": {
   "display_name": "Python 3 (ipykernel)",
   "language": "python",
   "name": "python3"
  },
  "language_info": {
   "codemirror_mode": {
    "name": "ipython",
    "version": 3
   },
   "file_extension": ".py",
   "mimetype": "text/x-python",
   "name": "python",
   "nbconvert_exporter": "python",
   "pygments_lexer": "ipython3",
   "version": "3.9.15"
  }
 },
 "nbformat": 4,
 "nbformat_minor": 5
}
