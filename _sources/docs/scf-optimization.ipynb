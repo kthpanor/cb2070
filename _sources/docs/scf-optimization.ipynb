{
 "cells": [
  {
   "cell_type": "markdown",
   "metadata": {},
   "source": [
    "(section-scf)=\n",
    "# Wave function optimization\n",
    "\n",
    "## Import VeloxChem\n",
    "\n",
    "VeloxChem is invoked with a Python module import."
   ]
  },
  {
   "cell_type": "code",
   "execution_count": 1,
   "metadata": {
    "tags": [
     "remove-output"
    ]
   },
   "outputs": [
    {
     "name": "stdout",
     "output_type": "stream",
     "text": [
      "* Warning * Environment variable OMP_NUM_THREADS not set.\n",
      "* Warning * Setting OMP_NUM_THREADS to 6.\n"
     ]
    }
   ],
   "source": [
    "import veloxchem as vlx\n",
    "# On Windows computers activate the lines below\n",
    "# import os\n",
    "# os.environ[\"KMP_DUPLICATE_LIB_OK\"]=\"TRUE\""
   ]
  },
  {
   "cell_type": "markdown",
   "metadata": {},
   "source": [
    "## Define the molecule\n",
    "\n",
    "Define a water molecule and choose a basis set."
   ]
  },
  {
   "cell_type": "code",
   "execution_count": 2,
   "metadata": {},
   "outputs": [
    {
     "name": "stdout",
     "output_type": "stream",
     "text": [
      "* Info * Reading basis set from file: /opt/miniconda3/envs/echem/lib/python3.9/site-packages/veloxchem/basis/CC-PVDZ      \n",
      "                                                                                                                          \n",
      "                                              Molecular Basis (Atomic Basis)                                              \n",
      "                                             ================================                                             \n",
      "                                                                                                                          \n",
      "                                  Basis: CC-PVDZ                                                                          \n",
      "                                                                                                                          \n",
      "                                  Atom Contracted GTOs          Primitive GTOs                                            \n",
      "                                                                                                                          \n",
      "                                   O   (3S,2P,1D)               (17S,4P,1D)                                               \n",
      "                                   H   (2S,1P)                  (4S,1P)                                                   \n",
      "                                                                                                                          \n",
      "                                  Contracted Basis Functions : 24                                                         \n",
      "                                  Primitive Basis Functions  : 48                                                         \n",
      "                                                                                                                          \n"
     ]
    }
   ],
   "source": [
    "# Atomic coordinates in units of Angstrom\n",
    "molecule = vlx.Molecule.read_str(\"\"\"\n",
    "O    0.000000000000        0.000000000000        0.000000000000                         \n",
    "H    0.000000000000        0.740848095288        0.582094932012                         \n",
    "H    0.000000000000       -0.740848095288        0.582094932012\n",
    "    \"\"\")\n",
    "\n",
    "basis = vlx.MolecularBasis.read(molecule, \"cc-pVDZ\")"
   ]
  },
  {
   "cell_type": "code",
   "execution_count": 3,
   "metadata": {},
   "outputs": [
    {
     "name": "stdout",
     "output_type": "stream",
     "text": [
      "Number of atoms: 3\n",
      "Number of electrons: 10\n",
      "Number of contracted basis functions: 24\n"
     ]
    }
   ],
   "source": [
    "print('Number of atoms:', molecule.number_of_atoms())\n",
    "print('Number of electrons:', molecule.number_of_electrons())\n",
    "print('Number of contracted basis functions:', basis.get_dimensions_of_basis(molecule))"
   ]
  },
  {
   "cell_type": "markdown",
   "metadata": {},
   "source": [
    "## SCF optimization\n",
    "\n",
    "Perform a self-consistent field (SCF) optimization to obtain the Hartree–Fock wave function and the associated ground-state energy."
   ]
  },
  {
   "cell_type": "code",
   "execution_count": 4,
   "metadata": {
    "scrolled": true,
    "tags": [
     "output_scroll"
    ]
   },
   "outputs": [
    {
     "name": "stdout",
     "output_type": "stream",
     "text": [
      "                                                                                                                          \n",
      "                                            Self Consistent Field Driver Setup                                            \n",
      "                                           ====================================                                           \n",
      "                                                                                                                          \n",
      "                   Wave Function Model             : Spin-Restricted Hartree-Fock                                         \n",
      "                   Initial Guess Model             : Superposition of Atomic Densities                                    \n",
      "                   Convergence Accelerator         : Two Level Direct Inversion of Iterative Subspace                     \n",
      "                   Max. Number of Iterations       : 50                                                                   \n",
      "                   Max. Number of Error Vectors    : 10                                                                   \n",
      "                   Convergence Threshold           : 1.0e-06                                                              \n",
      "                   ERI Screening Scheme            : Cauchy Schwarz + Density                                             \n",
      "                   ERI Screening Mode              : Dynamic                                                              \n",
      "                   ERI Screening Threshold         : 1.0e-12                                                              \n",
      "                   Linear Dependence Threshold     : 1.0e-06                                                              \n",
      "                                                                                                                          \n",
      "* Info * Nuclear repulsion energy: 9.3436381577 a.u.                                                                      \n",
      "                                                                                                                          \n",
      "* Info * Overlap matrix computed in 0.00 sec.                                                                             \n",
      "                                                                                                                          \n",
      "* Info * Kinetic energy matrix computed in 0.00 sec.                                                                      \n",
      "                                                                                                                          \n",
      "* Info * Nuclear potential matrix computed in 0.00 sec.                                                                   \n",
      "                                                                                                                          \n",
      "* Info * Orthogonalization matrix computed in 0.00 sec.                                                                   \n",
      "                                                                                                                          \n",
      "* Info * SAD initial guess computed in 0.00 sec.                                                                          \n",
      "                                                                                                                          \n",
      "* Info * Starting Reduced Basis SCF calculation...                                                                        \n",
      "* Info * ...done. SCF energy in reduced basis set: -75.979046359571 a.u. Time: 0.03 sec.                                  \n",
      "                                                                                                                          \n",
      "* Info * Overlap matrix computed in 0.00 sec.                                                                             \n",
      "                                                                                                                          \n",
      "* Info * Kinetic energy matrix computed in 0.00 sec.                                                                      \n",
      "                                                                                                                          \n",
      "* Info * Nuclear potential matrix computed in 0.00 sec.                                                                   \n",
      "                                                                                                                          \n",
      "* Info * Orthogonalization matrix computed in 0.00 sec.                                                                   \n",
      "                                                                                                                          \n",
      "                                                                                                                          \n",
      "               Iter. | Hartree-Fock Energy | Energy Change | Gradient Norm | Max. Gradient | Density Change               \n",
      "               --------------------------------------------------------------------------------------------               \n",
      "                  1       -76.025869744700    0.0000000000      0.09892066      0.01121867      0.00000000                \n",
      "                  2       -76.026932827150   -0.0010630825      0.01920269      0.00294570      0.02594960                \n",
      "                  3       -76.026981056596   -0.0000482294      0.00412658      0.00076652      0.00507499                \n",
      "                  4       -76.026983601529   -0.0000025449      0.00247905      0.00043111      0.00166621                \n",
      "                  5       -76.026984175646   -0.0000005741      0.00021766      0.00003639      0.00052311                \n",
      "                  6       -76.026984187024   -0.0000000114      0.00003206      0.00000540      0.00012084                \n",
      "                  7       -76.026984187255   -0.0000000002      0.00000208      0.00000029      0.00001663                \n",
      "                  8       -76.026984187255   -0.0000000000      0.00000053      0.00000008      0.00000087                \n",
      "                                                                                                                          \n",
      "               *** SCF converged in 8 iterations. Time: 0.40 sec.                                                         \n",
      "                                                                                                                          \n",
      "               Spin-Restricted Hartree-Fock:                                                                              \n",
      "               -----------------------------                                                                              \n",
      "               Total Energy                       :      -76.0269841873 a.u.                                              \n",
      "               Electronic Energy                  :      -85.3706223449 a.u.                                              \n",
      "               Nuclear Repulsion Energy           :        9.3436381577 a.u.                                              \n",
      "               ------------------------------------                                                                       \n",
      "               Gradient Norm                      :        0.0000005316 a.u.                                              \n",
      "                                                                                                                          \n",
      "                                                                                                                          \n",
      "               Ground State Information                                                                                   \n",
      "               ------------------------                                                                                   \n",
      "               Charge of Molecule            :  0.0                                                                       \n",
      "               Multiplicity (2S+1)           :  1.0                                                                       \n",
      "               Magnetic Quantum Number (M_S) :  0.0                                                                       \n",
      "                                                                                                                          \n",
      "                                                                                                                          \n",
      "                                                 Spin Restricted Orbitals                                                 \n",
      "                                                 ------------------------                                                 \n",
      "                                                                                                                          \n",
      "               Molecular Orbital No.   1:                                                                                 \n",
      "               --------------------------                                                                                 \n",
      "               Occupation: 2.000 Energy:  -20.54819 a.u.                                                                  \n",
      "               (   1 O   1s  :    -1.00)                                                                                  \n",
      "                                                                                                                          \n",
      "               Molecular Orbital No.   2:                                                                                 \n",
      "               --------------------------                                                                                 \n",
      "               Occupation: 2.000 Energy:   -1.34520 a.u.                                                                  \n",
      "               (   1 O   2s  :     0.44) (   1 O   3s  :     0.36) (   2 H   1s  :     0.20)                              \n",
      "               (   3 H   1s  :     0.20)                                                                                  \n",
      "                                                                                                                          \n",
      "               Molecular Orbital No.   3:                                                                                 \n",
      "               --------------------------                                                                                 \n",
      "               Occupation: 2.000 Energy:   -0.70585 a.u.                                                                  \n",
      "               (   1 O   1p-1:     0.49) (   1 O   2p-1:     0.22) (   2 H   1s  :     0.33)                              \n",
      "               (   3 H   1s  :    -0.33)                                                                                  \n",
      "                                                                                                                          \n",
      "               Molecular Orbital No.   4:                                                                                 \n",
      "               --------------------------                                                                                 \n",
      "               Occupation: 2.000 Energy:   -0.57109 a.u.                                                                  \n",
      "               (   1 O   2s  :     0.15) (   1 O   3s  :     0.36) (   1 O   1p0 :    -0.55)                              \n",
      "               (   1 O   2p0 :    -0.36) (   2 H   1s  :    -0.21) (   3 H   1s  :    -0.21)                              \n",
      "                                                                                                                          \n",
      "               Molecular Orbital No.   5:                                                                                 \n",
      "               --------------------------                                                                                 \n",
      "               Occupation: 2.000 Energy:   -0.49457 a.u.                                                                  \n",
      "               (   1 O   1p+1:     0.63) (   1 O   2p+1:     0.49)                                                        \n",
      "                                                                                                                          \n",
      "               Molecular Orbital No.   6:                                                                                 \n",
      "               --------------------------                                                                                 \n",
      "               Occupation: 0.000 Energy:    0.18787 a.u.                                                                  \n",
      "               (   1 O   3s  :     1.02) (   1 O   1p0 :     0.19) (   1 O   2p0 :     0.33)                              \n",
      "               (   2 H   2s  :    -0.83) (   3 H   2s  :    -0.83)                                                        \n",
      "                                                                                                                          \n",
      "               Molecular Orbital No.   7:                                                                                 \n",
      "               --------------------------                                                                                 \n",
      "               Occupation: 0.000 Energy:    0.25852 a.u.                                                                  \n",
      "               (   1 O   1p-1:    -0.28) (   1 O   2p-1:    -0.67) (   2 H   2s  :     1.48)                              \n",
      "               (   3 H   2s  :    -1.48)                                                                                  \n",
      "                                                                                                                          \n",
      "               Molecular Orbital No.   8:                                                                                 \n",
      "               --------------------------                                                                                 \n",
      "               Occupation: 0.000 Energy:    0.79749 a.u.                                                                  \n",
      "               (   1 O   1p-1:    -0.26) (   1 O   2p-1:    -0.49) (   2 H   1s  :     0.95)                              \n",
      "               (   2 H   2s  :    -0.66) (   2 H   1p0 :     0.16) (   3 H   1s  :    -0.95)                              \n",
      "               (   3 H   2s  :     0.66) (   3 H   1p0 :    -0.16)                                                        \n",
      "                                                                                                                          \n",
      "               Molecular Orbital No.   9:                                                                                 \n",
      "               --------------------------                                                                                 \n",
      "               Occupation: 0.000 Energy:    0.87271 a.u.                                                                  \n",
      "               (   1 O   2s  :    -0.25) (   1 O   3s  :     0.34) (   1 O   1p0 :    -0.34)                              \n",
      "               (   2 H   1s  :     0.77) (   2 H   2s  :    -0.54) (   2 H   1p-1:     0.31)                              \n",
      "               (   3 H   1s  :     0.77) (   3 H   2s  :    -0.54) (   3 H   1p-1:    -0.31)                              \n",
      "                                                                                                                          \n",
      "               Molecular Orbital No.  10:                                                                                 \n",
      "               --------------------------                                                                                 \n",
      "               Occupation: 0.000 Energy:    1.16315 a.u.                                                                  \n",
      "               (   1 O   3s  :    -0.78) (   1 O   1p0 :     0.74) (   1 O   2p0 :    -1.31)                              \n",
      "               (   2 H   1s  :     0.59) (   2 H   1p0 :    -0.24) (   3 H   1s  :     0.59)                              \n",
      "               (   3 H   1p0 :    -0.24)                                                                                  \n",
      "                                                                                                                          \n"
     ]
    }
   ],
   "source": [
    "scf_drv = vlx.ScfRestrictedDriver()\n",
    "scf_results = scf_drv.compute(molecule, basis)"
   ]
  },
  {
   "cell_type": "markdown",
   "metadata": {},
   "source": [
    "(section-scf-info)=\n",
    "## SCF information\n",
    "\n",
    "The SCF driver object has a method named `get_scf_energy()` for retrieving the final energy."
   ]
  },
  {
   "cell_type": "code",
   "execution_count": 6,
   "metadata": {},
   "outputs": [
    {
     "name": "stdout",
     "output_type": "stream",
     "text": [
      "Hartree–Fock energy: -76.0269841873 a.u.\n",
      "\n"
     ]
    }
   ],
   "source": [
    "print(f'Hartree–Fock energy: {scf_drv.get_scf_energy():14.10f} a.u.\\n')"
   ]
  },
  {
   "cell_type": "markdown",
   "metadata": {},
   "source": [
    "The return object from the `compute()` method is a Python dictionary containing several tensors:\n",
    "\n",
    "- `C`: molecular orbital coefficients as a NumPy array\n",
    "- `E`: orbital energies as a NumPy array\n",
    "- `D`: $\\alpha$- and $\\beta$-spin density matrices as a tuple of NumPy arrays\n",
    "- `F`: $\\alpha$- and $\\beta$-spin Fock matrices as a tuple of NumPy arrays\n",
    "- `S`: overlap integrals as a NumPy array"
   ]
  },
  {
   "cell_type": "code",
   "execution_count": 7,
   "metadata": {},
   "outputs": [
    {
     "name": "stdout",
     "output_type": "stream",
     "text": [
      "Dictionary keys:\n",
      " dict_keys(['S', 'C_alpha', 'C_beta', 'E_alpha', 'E_beta', 'D_alpha', 'D_beta', 'F_alpha', 'F_beta', 'C', 'E', 'D', 'F']) \n",
      "\n",
      "Orbital energies:\n",
      " [-20.54818972  -1.345205    -0.70584505  -0.57108597  -0.49456798\n",
      "   0.18786924   0.2585202    0.79748539   0.87271166   1.16315036\n",
      "   1.20011488   1.25334062   1.43477498   1.48313855   1.67303123\n",
      "   1.86242483   1.95691981   2.48659724   2.53078557   3.30367059\n",
      "   3.35068938   3.53410961   3.87596599   4.16973921]\n"
     ]
    }
   ],
   "source": [
    "print('Dictionary keys:\\n', scf_drv.scf_tensors.keys(), '\\n')\n",
    "\n",
    "print('Orbital energies:\\n', scf_drv.scf_tensors['E'])"
   ]
  }
 ],
 "metadata": {
  "celltoolbar": "Tags",
  "kernelspec": {
   "display_name": "Python 3 (ipykernel)",
   "language": "python",
   "name": "python3"
  },
  "language_info": {
   "codemirror_mode": {
    "name": "ipython",
    "version": 3
   },
   "file_extension": ".py",
   "mimetype": "text/x-python",
   "name": "python",
   "nbconvert_exporter": "python",
   "pygments_lexer": "ipython3",
   "version": "3.9.15"
  }
 },
 "nbformat": 4,
 "nbformat_minor": 4
}
