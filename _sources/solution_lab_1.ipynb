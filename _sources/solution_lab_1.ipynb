{
 "cells": [
  {
   "cell_type": "markdown",
   "metadata": {},
   "source": [
    "# Molecular Quantum Mechanics (CB2070)\n",
    "## SOLUTION Computer lab 1: Orbitals and one-particle densities\n",
    "---\n",
    "Name: J.H. Andersen with stolen content from VT24 and VT25 student submissions\n",
    "\n",
    "Date: July 2025\n",
    "\n",
    "---"
   ]
  },
  {
   "cell_type": "code",
   "execution_count": null,
   "metadata": {},
   "outputs": [],
   "source": [
    "import veloxchem as vlx\n",
    "\n",
    "import numpy as np\n",
    "import matplotlib.pyplot as plt\n",
    "from scipy.integrate import simpson as simps"
   ]
  },
  {
   "cell_type": "code",
   "execution_count": null,
   "metadata": {},
   "outputs": [],
   "source": [
    "mol_str = \"\"\"\n",
    "    Ne     0.000000    0.000000    0.000000\n",
    "\"\"\"\n",
    "molecule = vlx.Molecule.read_str(mol_str, units='angstrom')"
   ]
  },
  {
   "cell_type": "markdown",
   "metadata": {},
   "source": [
    "### 1. Basis set quality"
   ]
  },
  {
   "cell_type": "code",
   "execution_count": null,
   "metadata": {},
   "outputs": [],
   "source": [
    "# closed-shell HF wave function\n",
    "scf_drv = vlx.ScfRestrictedDriver()"
   ]
  },
  {
   "cell_type": "code",
   "execution_count": null,
   "metadata": {
    "scrolled": true
   },
   "outputs": [],
   "source": [
    "# a list with the basis sets\n",
    "basis_sets = ['sto-3g','6-31g','6-31+g','6-311g','aug-cc-pvdz','cc-pvdz']\n",
    "\n",
    "hf_energies = {}\n",
    "for basis_set in basis_sets:\n",
    "    \n",
    "    basis = vlx.MolecularBasis.read(molecule, basis_set)\n",
    "    scf_results = scf_drv.compute(molecule, basis)\n",
    "    \n",
    "    hf_energies[basis_set] = scf_drv.get_scf_energy()"
   ]
  },
  {
   "cell_type": "code",
   "execution_count": null,
   "metadata": {},
   "outputs": [],
   "source": [
    "# print the basis sets and the energies\n",
    "for basis_set in basis_sets:\n",
    "    print(f\"Basis set: {basis_set:12s} HF energy: {hf_energies[basis_set]:16.12} Hartree\")"
   ]
  },
  {
   "cell_type": "markdown",
   "metadata": {},
   "source": [
    "1. Discuss the assessment of the basis set quality\n",
    "\n",
    "The larger and more flexible the basis set is, the better the quality of the wavefunction and, thus, the lower the energy.\n",
    "Since the the minimization is based on the variational principle the approximated energy will always be greater than or equal to the actual ground state energy. Therefore the lower the approximated energy is the better. So in order from best to worst: 6-311g, aug-cc-pvdz, cc-pvdz, 6-31+g, 6-31g, sto-3g.\n",
    "\n",
    "The smallest basis set is sto-3g, and this gives the worst results, i.e. the highest energy (E < E_g). Adding one more (6-31G) and two more (6-311G) basis functions per occupied valence orbital improves the results (yeilds lower energies). 6-31+g adds a diffuse function to 6-31g, this improves the result somewhat, but not as much as going to 6-311g. cc-pVDZ is double-zeta like 6-31G, but it has an added polarization function,  which impoove the results compared to 6-31G. aug-cc-pVDZ adds a diffuse term to cc-pVDZ, and thus has both polarization and diffuse functions. This results in even lower energy than cc-pVDZ. Triple-zeta (6-311G) still yeilds the lowest energy out of all basis sets, probably since we have an isolated ground state atom and polarization and diffuse functions are mostly important for bonding and excited state calculations."
   ]
  },
  {
   "cell_type": "markdown",
   "metadata": {},
   "source": [
    "### 2. Orbital values"
   ]
  },
  {
   "cell_type": "code",
   "execution_count": null,
   "metadata": {
    "scrolled": true
   },
   "outputs": [],
   "source": [
    "# Continue with the cc-pVDZ basis set\n",
    "basis = vlx.MolecularBasis.read(molecule, 'cc-pvdz')\n",
    "scf_results = scf_drv.compute(molecule, basis)"
   ]
  },
  {
   "cell_type": "code",
   "execution_count": null,
   "metadata": {},
   "outputs": [],
   "source": [
    "# visualization\n",
    "vis_drv = vlx.VisualizationDriver()"
   ]
  },
  {
   "cell_type": "code",
   "execution_count": null,
   "metadata": {},
   "outputs": [],
   "source": [
    "# molecular orbitals\n",
    "mol_orbs = scf_results[\"C_alpha\"]\n",
    "\n",
    "# number of occupied MOs (in restricted HF)\n",
    "nocc = molecule.number_of_alpha_electrons()\n",
    "\n",
    "# define the coordinates (in Bohr) for which you wish values of orbitals\n",
    "n = 200\n",
    "r = np.linspace(0, 4, n) # use np.linspace to create values between 0 and 4 with n data points\n",
    "\n",
    "# define array for coordinates\n",
    "coords_x = np.zeros((n, 3))\n",
    "coords_y = np.zeros((n, 3))\n",
    "coords_z = np.zeros((n, 3))\n",
    "\n",
    "# set the values of the z axis to r\n",
    "coords_x[:, 0] = r\n",
    "coords_y[:, 1] = r\n",
    "coords_z[:, 2] = r\n",
    "\n",
    "# get the indices of the occupied orbitals\n",
    "mo_number = range(nocc)\n",
    "\n",
    "# mo_1 = np.array(vis_drv.get_mo(coords, molecule, basis, mol_orbs, mo_number[0]))\n",
    "# ...\n",
    "mos = np.zeros((nocc, 3, n))\n",
    "for i in range(nocc):\n",
    "    mos[i, 0] = np.array(vis_drv.get_mo(coords_x, molecule, basis, mol_orbs, i)) # the last input integer is the index for the orbital\n",
    "    mos[i, 1] = np.array(vis_drv.get_mo(coords_y, molecule, basis, mol_orbs, i)) # the last input integer is the index for the orbital\n",
    "    mos[i, 2] = np.array(vis_drv.get_mo(coords_z, molecule, basis, mol_orbs, i)) # the last input integer is the index for the orbital\n",
    "    # adjust sign\n",
    "    mos[i, 0]*= np.sign(mos[i, 0, 10])\n",
    "    mos[i, 1]*= np.sign(mos[i, 1, 10])\n",
    "    mos[i, 2]*= np.sign(mos[i, 2, 10])"
   ]
  },
  {
   "cell_type": "code",
   "execution_count": null,
   "metadata": {},
   "outputs": [],
   "source": [
    "fig = plt.figure(figsize=(12,3.8))\n",
    "\n",
    "mo_labels = ['$1s$', '$2s$', '$2p_0$', '$2p_{-1}$', '$2p_{+1}$']\n",
    "\n",
    "for x in range(3):\n",
    "    plt.subplot(1,3,x+1)\n",
    "    for i in range(nocc):\n",
    "        plt.plot(r, mos[i, x])\n",
    "    plt.axhline(color='k', linewidth=0.5)\n",
    "    plt.xlabel(f'Distance to nucleus along axis {x} (Bohr)')\n",
    "    plt.ylabel(r'Orbital value (a.u.)')\n",
    "    plt.xlim([0.0, 2.0])\n",
    "    plt.legend(mo_labels)\n",
    "\n",
    "plt.tight_layout()\n",
    "plt.show()"
   ]
  },
  {
   "cell_type": "markdown",
   "metadata": {},
   "source": [
    "#### 3.a Discuss the directional dependence of the orbitals\n"
   ]
  },
  {
   "cell_type": "markdown",
   "metadata": {},
   "source": [
    "The *s* orbitals are spherically symmetric and thus do not have spherical dependence. The *p* orbitals lie along the basis vectors and their values thus depend on the direction of the radial line as is evident from the plots above, where the *p* orbital value along the directional parameter varies between the x, y, and z components."
   ]
  },
  {
   "cell_type": "markdown",
   "metadata": {},
   "source": [
    "#### 3.b Discuss nodal points and orthogonality"
   ]
  },
  {
   "cell_type": "markdown",
   "metadata": {},
   "source": [
    "**Nodal points** are points where a function has the value zero. \n",
    "\n",
    "Each 2*p*-orbital is anti-symmetric (odd) with a node in origin and thus clearly orthogonal to both s-orbitals, which are symmetric (even). The 2*p*-orbitals are also mutually orthogonal, since they have values along one principal axis and are zero along the orthogonal principal axes of the other two *p*-orbitals. 1*s* an 2*s* are not clearly orthogonal, but since 2*s* has one node (which makes it take values <0 for large r) and 1*s* has no nodes their product will take both positive and negative values for different *r*, and these will evidently cancel out when integrating.\n",
    "\n"
   ]
  },
  {
   "cell_type": "markdown",
   "metadata": {},
   "source": [
    "### 4. Radial orbital densities"
   ]
  },
  {
   "cell_type": "code",
   "execution_count": null,
   "metadata": {},
   "outputs": [],
   "source": [
    "# compute radial distribution functions for the occupied sub-shells\n",
    "rad_den_1s = np.zeros((3, n))\n",
    "rad_den_2s = np.zeros((3, n))\n",
    "rad_den_2p = np.zeros((3, n))\n",
    "\n",
    "for x in range(3):\n",
    "    rad_den_1s[x] = 4 * np.pi * (r ** 2) * 2 * (mos[0, x] ** 2)\n",
    "    rad_den_2s[x] = 4 * np.pi * (r ** 2) * 2 * (mos[1, x] ** 2)\n",
    "    rad_den_2p[x] = 4 * np.pi * r ** 2 * 2 * (mos[2, x] ** 2 + mos[3, x] ** 2 + mos[4, x] ** 2)"
   ]
  },
  {
   "cell_type": "code",
   "execution_count": null,
   "metadata": {},
   "outputs": [],
   "source": [
    "# plot the radial densities for the 2s and 2p sub-shells\n",
    "\n",
    "fig = plt.figure(figsize=(12,3.8))\n",
    "\n",
    "mo_labels = ['$1s$', '$2s$', '$2p$']\n",
    "\n",
    "for x in range(3):\n",
    "    plt.subplot(1,3,x+1)\n",
    "    \n",
    "    plt.plot(r, rad_den_2s[x])\n",
    "    plt.plot(r, rad_den_2p[x])\n",
    "    \n",
    "    plt.axhline(color='k', linewidth=0.5)\n",
    "    plt.xlabel(f'Distance to nucleus along axis {x} (Bohr)')\n",
    "    plt.ylabel(r'Radial density(a.u.)')\n",
    "    plt.xlim([0.0, 2.0])\n",
    "    plt.legend(mo_labels)\n",
    "\n",
    "plt.tight_layout()\n",
    "plt.show()"
   ]
  },
  {
   "cell_type": "markdown",
   "metadata": {},
   "source": [
    "#### Discuss the directional dependence of the radial densities"
   ]
  },
  {
   "cell_type": "markdown",
   "metadata": {},
   "source": [
    "It is observed  that the radial densities of the 2s- and 2p subshells are indifferent to the choice of direction in terms of $x$, $y$ and $z$. This is expected, as the 2s-orbital is spherically symmetric, and the total 2p radial density is plotted which should be the same along all coordinate axes.\n",
    "\n",
    "The radial distrbutions can be thought of as a measure of the probability of finding a particle at a distance of r away from a given reference particle. With this in mind, we see that the probability of finding an electron at the nucleus is zero, disregarding orbital type. The global maximum of both of the functions indicates the most probable distance from the nucleus to find the electron at in the respective orbitals. It is seen that this is approximately the same for both the 2s and the 2p-orbitals."
   ]
  },
  {
   "cell_type": "markdown",
   "metadata": {},
   "source": [
    "### 5. Total radial density"
   ]
  },
  {
   "cell_type": "code",
   "execution_count": null,
   "metadata": {},
   "outputs": [],
   "source": [
    "# calculate the total radial density\n",
    "rad_den_tot = rad_den_1s + rad_den_2s + rad_den_2p"
   ]
  },
  {
   "cell_type": "code",
   "execution_count": null,
   "metadata": {},
   "outputs": [],
   "source": [
    "# plot the total radial density\n",
    "# and mark the vdW radious as a vertical line in the plot\n",
    "\n",
    "fig = plt.figure(figsize=(5,4))\n",
    "\n",
    "plt.plot(r, rad_den_tot[2], color= 'royalblue', label = 'Total')\n",
    "plt.axvline(2.91, color='m',linewidth=0.8, label = '2.91 Bohr (1.54 Angstrom)')\n",
    "plt.axhline(color='k', linewidth=0.5)\n",
    "plt.xlabel(r'Distance to nucleus (Bohr)')\n",
    "plt.xlim(0, 4)\n",
    "plt.legend( loc='upper right')\n",
    "\n",
    "plt.show()"
   ]
  },
  {
   "cell_type": "markdown",
   "metadata": {},
   "source": [
    "#### Discuss sub-shells, van der Waals radius, and atomic size"
   ]
  },
  {
   "cell_type": "markdown",
   "metadata": {},
   "source": [
    "From the plot of the total radial density, we can identify the K-shell as the first peak, and the L-shell as the second, broader peak. The two maxima in the total radial distribution correspond to the most probable distance for a electron to be found at in the K- and L-shells, respectively. It is seen that the density value is close to zero at the 1.54 Angstrom mark. However, the distribution function never attains the exact value of zero for $r \\to \\infty$. With this in mind, the van der Waals radius seems like an appropiate measure for defining the atomic size for Ne concluded from the results obtained with our method and basis set.\n"
   ]
  },
  {
   "cell_type": "markdown",
   "metadata": {},
   "source": [
    "### 6. Calculate the number of electrons from density integration"
   ]
  },
  {
   "cell_type": "code",
   "execution_count": null,
   "metadata": {},
   "outputs": [],
   "source": [
    "from scipy.integrate import simpson as simps\n",
    "\n",
    "print('Number of electrons in 2s: %.4f' % simps(rad_den_2s[0], x=r))\n",
    "print('Number of electrons in 2p: %.4f' % simps(rad_den_2p[0], x=r))\n",
    "\n",
    "print('Number of electrons: %.4f' % simps(rad_den_tot[0], x=r))"
   ]
  },
  {
   "cell_type": "markdown",
   "metadata": {},
   "source": [
    "#### Discuss the results from the integration"
   ]
  },
  {
   "cell_type": "markdown",
   "metadata": {},
   "source": [
    "Integrating the total density yields exactly the number of electrons in the system, that is 10. Integrating the subshells yields the number of electron in the respective shells (2 and 6)."
   ]
  },
  {
   "cell_type": "markdown",
   "metadata": {},
   "source": [
    "### 7. Koopmans' theorem and ionization potential"
   ]
  },
  {
   "cell_type": "code",
   "execution_count": null,
   "metadata": {},
   "outputs": [],
   "source": [
    "# calculate the IP (in eV) based on Koopman's theorem\n",
    "au_to_ev = 27.2114\n",
    "\n",
    "# get the energy of the HOMO\n",
    "orb_energy = scf_drv.scf_tensors['E_alpha'][4] * au_to_ev\n",
    "\n",
    "print(\"IP =%6.2f eV\" % -orb_energy)"
   ]
  },
  {
   "cell_type": "markdown",
   "metadata": {},
   "source": [
    "#### Discuss the IP in comparison to experiment and the main sources of error"
   ]
  },
  {
   "cell_type": "markdown",
   "metadata": {},
   "source": [
    "**Koopman's theorem:** The first ionization energy is equal to the negative of the orbital energy of the HOMO. In this theorem we assume that the orbitals of the ion are identical to the orbitals of the neutral molecule/atom (disregarding relaxation effects).\n",
    "\n",
    "The experimental value for the IP of Neon is 21.56 eV. Our calculated result (22.64) overestimates the IP by 1.08 eV. In the Hartree-Fock method, electron-electron repulsion is treated by averaging the interaction between every one electron and the remaining electrons. Koopman's theorem is based on the frozen orbital approximation, that is the orbitals optimized for the $N$-electron system are used for the $N-1$-electron system which, together with the level of theory, accounts for the difference in the IP compared to the experimental value."
   ]
  },
  {
   "cell_type": "markdown",
   "metadata": {},
   "source": [
    "## THE END"
   ]
  }
 ],
 "metadata": {
  "kernelspec": {
   "display_name": "Python 3 (ipykernel)",
   "language": "python",
   "name": "python3"
  },
  "language_info": {
   "codemirror_mode": {
    "name": "ipython",
    "version": 3
   },
   "file_extension": ".py",
   "mimetype": "text/x-python",
   "name": "python",
   "nbconvert_exporter": "python",
   "pygments_lexer": "ipython3",
   "version": "3.12.9"
  }
 },
 "nbformat": 4,
 "nbformat_minor": 4
}
