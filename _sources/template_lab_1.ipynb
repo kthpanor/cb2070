{
 "cells": [
  {
   "cell_type": "markdown",
   "metadata": {},
   "source": [
    "# Molecular Quantum Mechanics (CB2070)\n",
    "## TEMPLATE Computer lab 1: Orbitals and one-particle densities\n",
    "---\n",
    "Name:\n",
    "\n",
    "Date:\n",
    "\n",
    "---"
   ]
  },
  {
   "cell_type": "code",
   "execution_count": null,
   "metadata": {},
   "outputs": [],
   "source": [
    "import veloxchem as vlx\n",
    "\n",
    "import numpy as np\n",
    "import matplotlib.pyplot as plt\n",
    "from scipy.integrate import simpson as simps"
   ]
  },
  {
   "cell_type": "code",
   "execution_count": null,
   "metadata": {},
   "outputs": [],
   "source": [
    "mol_str = \"\"\"\n",
    "    Ne     0.000000    0.000000    0.000000\n",
    "\"\"\"\n",
    "molecule = vlx.Molecule.read_str(mol_str, units='angstrom')"
   ]
  },
  {
   "cell_type": "markdown",
   "metadata": {},
   "source": [
    "### 1. Basis set quality"
   ]
  },
  {
   "cell_type": "code",
   "execution_count": null,
   "metadata": {},
   "outputs": [],
   "source": [
    "# closed-shell HF wave function\n",
    "scf_drv = vlx.ScfRestrictedDriver()"
   ]
  },
  {
   "cell_type": "code",
   "execution_count": null,
   "metadata": {
    "scrolled": true
   },
   "outputs": [],
   "source": [
    "# a list with the basis sets\n",
    "basis_sets = ['sto-3g','6-31g','6-31+g','6-311g','aug-cc-pvdz','cc-pvdz']\n",
    "\n",
    "hf_energies = {}\n",
    "for basis_set in basis_sets:\n",
    "    # write your code here\n",
    "    ...\n",
    "    \n",
    "    hf_energies[basis_set] = scf_drv.get_scf_energy()"
   ]
  },
  {
   "cell_type": "code",
   "execution_count": null,
   "metadata": {},
   "outputs": [],
   "source": [
    "# print the basis sets and the energies\n",
    "for basis_set in basis_sets:\n",
    "    print(f\"Basis set: {basis_set:12s} HF energy: {hf_energies[basis_set]:16.12} Hartree\")"
   ]
  },
  {
   "cell_type": "markdown",
   "metadata": {},
   "source": [
    "1. Discuss the assessment of the basis set quality"
   ]
  },
  {
   "cell_type": "markdown",
   "metadata": {},
   "source": [
    "### 2. Orbital values"
   ]
  },
  {
   "cell_type": "code",
   "execution_count": null,
   "metadata": {
    "scrolled": true
   },
   "outputs": [],
   "source": [
    "# Continue with the cc-pVDZ basis set\n",
    "basis = vlx.MolecularBasis.read(molecule, 'cc-pvdz')\n",
    "scf_drv.compute(molecule, basis)"
   ]
  },
  {
   "cell_type": "code",
   "execution_count": null,
   "metadata": {},
   "outputs": [],
   "source": [
    "# visualization\n",
    "vis_drv = vlx.VisualizationDriver()"
   ]
  },
  {
   "cell_type": "code",
   "execution_count": null,
   "metadata": {},
   "outputs": [],
   "source": [
    "# molecular orbitals\n",
    "mol_orbs = scf_results[\"C_alpha\"]\n",
    "\n",
    "# define the coordinates (in Bohr) for which you wish values of orbitals\n",
    "n = 200\n",
    "r = ... # use np.linspace to create values between 0 and 4 with n data points\n",
    "\n",
    "# set the values of the z axis to r\n",
    "coords = np.zeros((n,3))\n",
    "...\n",
    "\n",
    "# get the values of the occupied orbitals\n",
    "mo_number = range(...)\n",
    "\n",
    "mo_1 = np.array(vis_drv.get_mo(coords, molecule, basis, mol_orbs, mo_number[0], 'alpha'))\n",
    "..."
   ]
  },
  {
   "cell_type": "code",
   "execution_count": null,
   "metadata": {},
   "outputs": [],
   "source": [
    "fig = plt.figure(figsize=(8,6))\n",
    "\n",
    "# calculate the radial distributions of the orbitals\n",
    "\n",
    "# calculate the total radial distribution\n",
    "\n",
    "# plot along the radius axis\n",
    "plt.plot(coords, ...)\n",
    "\n",
    "plt.xlabel(r'Distance to nucleus (Bohr)')\n",
    "plt.ylabel(r'Orbital value (a.u.)')\n",
    "\n",
    "plt.show()"
   ]
  },
  {
   "cell_type": "markdown",
   "metadata": {},
   "source": [
    "#### 3.a Discuss the directional dependence of the orbitals\n"
   ]
  },
  {
   "cell_type": "markdown",
   "metadata": {},
   "source": [
    "Write your thoughts here..."
   ]
  },
  {
   "cell_type": "markdown",
   "metadata": {},
   "source": [
    "#### 3.b Discuss nodal points and orthogonality"
   ]
  },
  {
   "cell_type": "markdown",
   "metadata": {},
   "source": [
    "Write your thoughts here..."
   ]
  },
  {
   "cell_type": "markdown",
   "metadata": {},
   "source": [
    "### 4. Radial orbital densities"
   ]
  },
  {
   "cell_type": "code",
   "execution_count": null,
   "metadata": {},
   "outputs": [],
   "source": [
    "# compute radial distribution functions for occupied orbitals\n",
    "rad_den_2s = ...\n",
    "rad_den_2p = ..."
   ]
  },
  {
   "cell_type": "code",
   "execution_count": null,
   "metadata": {
    "scrolled": true
   },
   "outputs": [],
   "source": [
    "# plot the radial densities for the 2s and 2p sub-shells\n",
    "\n",
    "fig = plt.figure(2, figsize=(8,6))\n",
    "\n",
    "plt.plot(...)\n",
    "\n",
    "plt.xlabel(r'Distance to nucleus (Bohr)')\n",
    "plt.ylabel(r'Radial densities (a.u.)')\n",
    "\n",
    "plt.show()"
   ]
  },
  {
   "cell_type": "markdown",
   "metadata": {},
   "source": [
    "#### Discuss the directional dependence of the radial densities"
   ]
  },
  {
   "cell_type": "markdown",
   "metadata": {},
   "source": [
    "Write your thoughts here..."
   ]
  },
  {
   "cell_type": "markdown",
   "metadata": {},
   "source": [
    "### 5. Total radial density"
   ]
  },
  {
   "cell_type": "code",
   "execution_count": null,
   "metadata": {},
   "outputs": [],
   "source": [
    "# plot the totaL radial density\n",
    "# mark the vdW radious as a vertical line in the plot"
   ]
  },
  {
   "cell_type": "markdown",
   "metadata": {},
   "source": [
    "#### Discuss sub-shells, van der Waals radius and atomic size"
   ]
  },
  {
   "cell_type": "markdown",
   "metadata": {},
   "source": [
    "Write your thoughts here..."
   ]
  },
  {
   "cell_type": "markdown",
   "metadata": {},
   "source": [
    "### 6. Calculate the number of electrons from density integration"
   ]
  },
  {
   "cell_type": "code",
   "execution_count": null,
   "metadata": {},
   "outputs": [],
   "source": [
    "from scipy.integrate import simps\n",
    "\n",
    "print('Number of electrons in 2s: %.6f' % simps(rad_den_2s, x=r))\n",
    "print('Number of electrons in 2p: %.6f' % simps(rad_den_2p, x=r))\n",
    "\n",
    "print('Number of electrons: %.6f' % simps(rad_den, r))"
   ]
  },
  {
   "cell_type": "markdown",
   "metadata": {},
   "source": [
    "#### Discuss the results from the integration"
   ]
  },
  {
   "cell_type": "markdown",
   "metadata": {},
   "source": [
    "### 7. Koopmans' theorem and ionization potential"
   ]
  },
  {
   "cell_type": "code",
   "execution_count": null,
   "metadata": {},
   "outputs": [],
   "source": [
    "# calculate the IP (in eV) based on Koopman's theorem\n",
    "au_to_ev = 27.2114\n",
    "\n",
    "orb_energy = ...\n",
    "print(\"IP =%6.2f eV\" % -orb_energy)"
   ]
  },
  {
   "cell_type": "markdown",
   "metadata": {},
   "source": [
    "#### Discuss the IP in comparison to experiment and the main sources of error"
   ]
  },
  {
   "cell_type": "markdown",
   "metadata": {},
   "source": [
    "Write your thoughts here..."
   ]
  },
  {
   "cell_type": "markdown",
   "metadata": {},
   "source": [
    "## THE END"
   ]
  }
 ],
 "metadata": {
  "kernelspec": {
   "display_name": "Python 3 (ipykernel)",
   "language": "python",
   "name": "python3"
  },
  "language_info": {
   "codemirror_mode": {
    "name": "ipython",
    "version": 3
   },
   "file_extension": ".py",
   "mimetype": "text/x-python",
   "name": "python",
   "nbconvert_exporter": "python",
   "pygments_lexer": "ipython3",
   "version": "3.11.7"
  }
 },
 "nbformat": 4,
 "nbformat_minor": 4
}
