{
 "cells": [
  {
   "cell_type": "markdown",
   "id": "furnished-sleeve",
   "metadata": {},
   "source": [
    "# Molecular Quantum Mechanics (CB2070)\n",
    "## Computer lab 5: Two-particle densities and electron correlation\n",
    "---\n",
    "Name:\n",
    "\n",
    "Date:\n",
    "\n",
    "---"
   ]
  },
  {
   "cell_type": "code",
   "execution_count": null,
   "id": "confidential-psychiatry",
   "metadata": {
    "tags": []
   },
   "outputs": [],
   "source": [
    "import veloxchem as vlx\n",
    "\n",
    "import numpy as np\n",
    "import matplotlib.pyplot as plt"
   ]
  },
  {
   "cell_type": "code",
   "execution_count": null,
   "id": "confident-equipment",
   "metadata": {
    "tags": []
   },
   "outputs": [],
   "source": [
    "np.set_printoptions(precision=4, suppress=True, linewidth=132) # printout format of NumPy arrays\n",
    "au_to_nm = 0.0529177 # length conversion factor\n",
    "au_to_ev = 27.2114 # energy conversion factor"
   ]
  },
  {
   "cell_type": "markdown",
   "id": "lasting-undergraduate",
   "metadata": {},
   "source": [
    "### Molecule specification"
   ]
  },
  {
   "cell_type": "code",
   "execution_count": null,
   "id": "creative-drove",
   "metadata": {
    "tags": []
   },
   "outputs": [],
   "source": [
    "mol_str = \"\"\"\n",
    "H     0.000000    0.000000   -0.370500\n",
    "H     0.000000    0.000000    0.370500\n",
    "\"\"\"\n",
    "molecule = vlx.Molecule.read_str(mol_str, units='angstrom')"
   ]
  },
  {
   "cell_type": "markdown",
   "id": "acoustic-joseph",
   "metadata": {},
   "source": [
    "### SCF optimization"
   ]
  },
  {
   "cell_type": "code",
   "execution_count": null,
   "id": "insured-julian",
   "metadata": {
    "scrolled": true,
    "tags": []
   },
   "outputs": [],
   "source": [
    "scf_drv = vlx.ScfRestrictedDriver()\n",
    "basis = vlx.MolecularBasis.read(molecule, 'sto-3g')\n",
    "scf_drv.compute(molecule, basis)"
   ]
  },
  {
   "cell_type": "markdown",
   "id": "moderate-winning",
   "metadata": {},
   "source": [
    "### 1. Cost-gain analysis of the bond formation"
   ]
  },
  {
   "cell_type": "markdown",
   "id": "4550bc75-9f04-48e0-9d63-854f1537f0c7",
   "metadata": {},
   "source": [
    "From the virial theorem we have that\n",
    "$$2\\left<T\\right> = n\\left<V\\right>$$\n",
    "where $n$ is the exponent of $r$ in the expression for the potential operator $\\hat{V}$.\n",
    "\n",
    "1. What is $n$ in our case?\n",
    "2. What is the expression for the total average energy?\n",
    "3. Use this expression and the virial theorem above to get the electron kinetic and potential energies for the isolated H atom. Use the value of `h_h` provided in the code below."
   ]
  },
  {
   "cell_type": "code",
   "execution_count": null,
   "id": "searching-enough",
   "metadata": {},
   "outputs": [],
   "source": [
    "nocc = molecule.number_of_electrons() // 2\n",
    "norb = molecule.number_of_atoms()\n",
    "print('Number of occupied MOs:', nocc)\n",
    "\n",
    "C = scf_drv.scf_tensors['C_alpha']\n",
    "\n",
    "# electron kinetic energy\n",
    "# kin_drv = vlx.KineticEnergyIntegralsDriver()\n",
    "kin_drv = vlx.KineticEnergyDriver()\n",
    "T_ao = kin_drv.compute(molecule, basis).to_numpy()\n",
    "T_mat = np.einsum('ai, ab, bj', C, T_ao, C)\n",
    "T_e = np.einsum('ii',T_mat[:nocc,:nocc])\n",
    "\n",
    "# electron-nuclear attraction\n",
    "# npot_drv = vlx.NuclearPotentialIntegralsDriver()\n",
    "npot_drv = vlx.NuclearPotentialDriver()\n",
    "V_ao = -npot_drv.compute(molecule, basis).to_numpy()\n",
    "V_mat = np.einsum('ai, ab, bj', C, V_ao, C)\n",
    "V_en = np.einsum('ii',V_mat[:nocc,:nocc])\n",
    "\n",
    "# core Hamiltonian (one-electron)\n",
    "h_h2 = T_e + V_en # for the H2 molecule\n",
    "h_h = 0.5*T_e + 0.25*V_en # for a single H atom\n",
    "\n",
    "# nuclear-nuclear repulsion\n",
    "V_nn = molecule.nuclear_repulsion_energy()\n",
    "\n",
    "# electron-electron repulsion\n",
    "# eri_drv = vlx.ElectronRepulsionIntegralsDriver()\n",
    "# eri_ao = np.zeros((norb, norb, norb, norb))\n",
    "# eri_drv.compute_in_memory(molecule, basis, eri_ao)\n",
    "fock_drv = vlx.FockDriver()\n",
    "eri_ao = fock_drv.compute_eri(molecule, basis)\n",
    "g_mat = np.einsum('abcd,ai,bj,ck,dl', eri_ao, C, C, C, C)\n",
    "g = 2*np.einsum('iijj',g_mat[:nocc,:nocc,:nocc,:nocc]) - np.einsum('ijji',g_mat[:nocc,:nocc,:nocc,:nocc])"
   ]
  },
  {
   "cell_type": "code",
   "execution_count": null,
   "id": "9d972bb5-2b6f-4fc7-954f-73b004e3461d",
   "metadata": {},
   "outputs": [],
   "source": [
    "print('Estimated energy of an isolated H atom: {:3.4f}'.format(h_h))\n",
    "print('One-electron part of the H2 energy: {:3.4f}'.format(h_h2))\n",
    "print('Two-electron part of the H2 energy: {:3.4f}'.format(g))\n",
    "print('Nuclear-nuclear repulsion energy: {:3.4f}'.format(V_nn))"
   ]
  },
  {
   "cell_type": "markdown",
   "id": "2b54d98a-701b-4935-a737-703c506c7376",
   "metadata": {},
   "source": [
    "### 2. Explain the (lack of) oupling between blocks in the CISD Hamiltonian"
   ]
  },
  {
   "cell_type": "markdown",
   "id": "0ee07128-ce3a-412a-a8d4-1ffb09d242ec",
   "metadata": {},
   "source": [
    "Write your thoughts here..."
   ]
  },
  {
   "cell_type": "markdown",
   "id": "incoming-lebanon",
   "metadata": {},
   "source": [
    "### 3. Determine the CID state\n",
    "\n",
    "With $|\\Psi \\rangle$ being a Slater determinant and $\\hat{\\Omega}$ a two-electron operator\n",
    "\n",
    "$$\n",
    "\\hat{\\Omega} = \\sum_{j>i}^N \\hat{\\omega}(i,j)\n",
    "$$\n",
    "\n",
    "the following relations hold for the corresponding integrals\n",
    "\n",
    "\\begin{align*}\n",
    "    \\langle \\Psi | \\hat{\\Omega} | \\Psi \\rangle &=\n",
    "    \\frac{1}{2} \\sum_{i,j}^N\n",
    "    \\left[\\rule{0pt}{12pt}\n",
    "    \\langle ij| \\hat{\\omega} | ij \\rangle - \\langle ij|  \\hat{\\omega} |ji \\rangle\n",
    "    \\right]\n",
    "    \\\\\n",
    "    \\langle \\Psi | \\hat{\\Omega} | \\Psi_{i}^{s} \\rangle &=\n",
    "    \\sum_{j}^N\n",
    "    \\left[\\rule{0pt}{12pt}\n",
    "    \\langle ij|  \\hat{\\omega} |sj \\rangle - \\langle ij|  \\hat{\\omega} |js \\rangle\n",
    "    \\right]\n",
    "    \\\\\n",
    "    \\langle \\Psi | \\hat{\\Omega} | \\Psi_{ij}^{st} \\rangle &=\n",
    "     \\langle ij|  \\hat{\\omega} |st \\rangle - \\langle ij|  \\hat{\\omega} |ts \\rangle\n",
    "\\end{align*}\n",
    "\n",
    "Complete the formula\n",
    "$$\\mathbf{H}^{CID} = $$"
   ]
  },
  {
   "cell_type": "code",
   "execution_count": null,
   "id": "alpine-infrastructure",
   "metadata": {},
   "outputs": [],
   "source": [
    "# define the CID Hamiltonian using the one- and two-electron integrals determined in (1) above\n",
    "H_CID = np.zeros((2,2))\n",
    "\n",
    "H_CID[0,0] = \n",
    "H_CID[1,1] = \n",
    "H_CID[0,1] = \n",
    "H_CID[1,0] = \n",
    "\n",
    "print('CID Hamiltonian =\\n', H_CID)\n",
    "\n",
    "# diagonalize the CID Hamiltonian"
   ]
  },
  {
   "cell_type": "markdown",
   "id": "failing-chain",
   "metadata": {},
   "source": [
    "### 4.  One-particle density\n",
    "\n",
    "The CID state equals\n",
    "$$\n",
    "| \\Psi \\rangle =  c_0 | \\Psi_\\mathrm{HF} \\rangle + c_1 | \\Psi_{u\\bar{u}} \\rangle\n",
    "$$\n",
    "\n",
    "We have\n",
    "$$\n",
    "n(\\mathbf{r}) =\n",
    "\\langle \\Psi | \\hat{n}(\\mathbf{r}) | \\Psi \\rangle\n",
    "$$\n",
    "with\n",
    "$$\n",
    "\\hat{n}(\\mathbf{r}) = \n",
    "\\sum_{i=1}^N\n",
    "\\delta(\\mathbf{r} - \\mathbf{r}_i)\n",
    "$$\n",
    "\n",
    "The general relations for matrix elements of a one-electron operator can now be used\n",
    "\\begin{align*}\n",
    "    \\langle \\Psi | \\hat{\\Omega} | \\Psi \\rangle &=\n",
    "   \\sum_{i=1}^N\n",
    "    \\langle i| \\hat{\\omega} |i \\rangle\n",
    "    \\\\\n",
    "    \\langle \\Psi | \\hat{\\Omega} | \\Psi_{ij}^{st} \\rangle &= 0\n",
    "\\end{align*}\n"
   ]
  },
  {
   "cell_type": "markdown",
   "id": "d890c823-c0cc-4572-8938-f421116271ab",
   "metadata": {},
   "source": [
    "#### Derive the formula for the one-particle density expressed in terms of spatial orbitals\n",
    "Complete the equations\n",
    "$$n^{HF}(\\mathbf{r}) = $$\n",
    "\n",
    "$$n^{CID}(\\mathbf{r}) = $$\n"
   ]
  },
  {
   "cell_type": "code",
   "execution_count": null,
   "id": "another-measurement",
   "metadata": {},
   "outputs": [],
   "source": [
    "# visualization driver\n",
    "vis_drv = ..."
   ]
  },
  {
   "cell_type": "code",
   "execution_count": null,
   "id": "dangerous-scope",
   "metadata": {},
   "outputs": [],
   "source": [
    "# get the MOs along the z axis\n",
    "mol_orbs = scf_results['C_alpha']\n",
    "\n",
    "n = 100\n",
    "coords = np.zeros((n,3))\n",
    "coords[:,2] = np.linspace(-3, 3, n, endpoint=True)\n",
    "\n",
    "sigma_g = np.array(vis_drv.get_mo(coords, molecule, basis, mol_orbs, 0, 'alpha'))\n",
    "sigma_u = np.array(vis_drv.get_mo(coords, molecule, basis, mol_orbs, 1, 'alpha'))\n",
    "\n",
    "# implement your formulas\n",
    "n1_HF = ...\n",
    "n1_CID = ..."
   ]
  },
  {
   "cell_type": "code",
   "execution_count": null,
   "id": "three-provider",
   "metadata": {},
   "outputs": [],
   "source": [
    "fig = plt.figure(figsize = (8,6))\n",
    "\n",
    "plt.plot(coords[:,2], n1_HF)\n",
    "plt.plot(coords[:,2], n1_CID)\n",
    "\n",
    "plt.show()"
   ]
  },
  {
   "cell_type": "markdown",
   "id": "3d6cdbd2-3790-40b9-97e2-98d6ecaafef2",
   "metadata": {},
   "source": [
    "#### Discuss how the one-particle densities compare between HF and CID"
   ]
  },
  {
   "cell_type": "markdown",
   "id": "fb8828fd-71ed-449c-9390-2e1795eda553",
   "metadata": {},
   "source": [
    "Write your thoughts here..."
   ]
  },
  {
   "cell_type": "markdown",
   "id": "formed-albert",
   "metadata": {},
   "source": [
    "### 5. Two-particle density\n",
    "The CID state equals\n",
    "$$\n",
    "| \\Psi \\rangle =  c_0 | \\Psi_\\mathrm{HF} \\rangle + c_1 | \\Psi_{g\\bar{g}}^{u\\bar{u}} \\rangle\n",
    "$$\n",
    "\n",
    "We have\n",
    "$$\n",
    "n(\\mathbf{r}, \\mathbf{r}') =\n",
    "\\langle \\Psi | \\hat{n}(\\mathbf{r}, \\mathbf{r}') | \\Psi \\rangle\n",
    "$$\n",
    "with\n",
    "$$\n",
    "\\hat{n}(\\mathbf{r}, \\mathbf{r}') = \n",
    "\\sum_{j>i}^N \\left[\n",
    "\\delta(\\mathbf{r} - \\mathbf{r}_i) \\delta(\\mathbf{r}' - \\mathbf{r}_j)\n",
    "+\n",
    "\\delta(\\mathbf{r} - \\mathbf{r}_j) \\delta(\\mathbf{r}' - \\mathbf{r}_i)\n",
    "\\right]\n",
    "$$\n",
    "\n",
    "The general relations for matrix elements of a two-electron operator can now be used\n",
    "\\begin{align*}\n",
    "    \\langle \\Psi | \\hat{\\Omega} | \\Psi \\rangle &=\n",
    "    \\frac{1}{2} \\sum_{i,j}^N\n",
    "    \\Big[\n",
    "    \\langle ij| \\hat{\\omega} |ij \\rangle - \\langle ij | \\hat{\\omega} | ji \\rangle\n",
    "    \\Big]\n",
    "    \\\\\n",
    "    \\langle \\Psi | \\hat{\\Omega} | \\Psi_{ij}^{st} \\rangle &=\n",
    "     \\langle ij| \\hat{\\omega} |st \\rangle - \\langle ij| \\hat{\\omega} |ts \\rangle\n",
    "\\end{align*}\n"
   ]
  },
  {
   "cell_type": "markdown",
   "id": "9a92c955-c5ff-4e3a-94b0-83aa07e33a5a",
   "metadata": {},
   "source": [
    "#### Derive the resulting formula for the two-particle density in terms of spatial orbitals\n",
    "Complete the equations\n",
    "\n",
    "$$n^{HF}(\\mathbf{r}, \\mathbf{r}') =$$\n",
    "\n",
    "$$n^{CID}(\\mathbf{r}, \\mathbf{r}') =$$\n"
   ]
  },
  {
   "cell_type": "code",
   "execution_count": null,
   "id": "graphic-passing",
   "metadata": {},
   "outputs": [],
   "source": [
    "# electron 1 at the position of the hydrogen nucleus\n",
    "# electron 2 anywhere on the internuclear axis\n",
    "\n",
    "Hz = -0.370500\n",
    "h1 = [[0, 0, Hz]]\n",
    "\n",
    "sigma_g_at_h1 = vis_drv.get_mo(h1, molecule, basis, mol_orbs, 0, 'alpha')[0]\n",
    "sigma_u_at_h1 = vis_drv.get_mo(h1, molecule, basis, mol_orbs, 1, 'alpha')[0]\n",
    "\n",
    "# implement your formulas\n",
    "n12_HF = ...\n",
    "n12_CID = ..."
   ]
  },
  {
   "cell_type": "code",
   "execution_count": null,
   "id": "proud-collector",
   "metadata": {},
   "outputs": [],
   "source": [
    "fig = plt.figure(figsize = (8,6))\n",
    "\n",
    "plt.plot(coords[:,2], n12_HF)\n",
    "plt.plot(coords[:,2], n12_CID)\n",
    "\n",
    "plt.show()"
   ]
  },
  {
   "cell_type": "markdown",
   "id": "14ad36a5-5770-4c36-ac48-4517967b8b44",
   "metadata": {},
   "source": [
    "#### Discuss how the two-particle densities compare between HF and CID"
   ]
  },
  {
   "cell_type": "markdown",
   "id": "3d521e3c-bf9a-4044-8cbf-b2f2998db699",
   "metadata": {},
   "source": [
    "Write your thoughts here..."
   ]
  },
  {
   "cell_type": "markdown",
   "id": "8dc4b6fe-b75c-4b97-bc31-1744ac47c124",
   "metadata": {},
   "source": [
    "# THE END"
   ]
  }
 ],
 "metadata": {
  "kernelspec": {
   "display_name": "Python 3 (ipykernel)",
   "language": "python",
   "name": "python3"
  },
  "language_info": {
   "codemirror_mode": {
    "name": "ipython",
    "version": 3
   },
   "file_extension": ".py",
   "mimetype": "text/x-python",
   "name": "python",
   "nbconvert_exporter": "python",
   "pygments_lexer": "ipython3",
   "version": "3.11.7"
  }
 },
 "nbformat": 4,
 "nbformat_minor": 5
}
