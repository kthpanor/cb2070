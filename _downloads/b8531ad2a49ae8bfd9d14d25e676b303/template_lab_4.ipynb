{
 "cells": [
  {
   "cell_type": "markdown",
   "id": "running-motion",
   "metadata": {},
   "source": [
    "# Molecular Quantum Mechanics (CB2070)\n",
    "## TEMPLATE Computer lab 4: Group theory and spatial symmetry of wave functions\n",
    "---\n",
    "Name:\n",
    "\n",
    "Date:\n",
    "\n",
    "---"
   ]
  },
  {
   "cell_type": "code",
   "execution_count": null,
   "id": "entertaining-veteran",
   "metadata": {},
   "outputs": [],
   "source": [
    "import veloxchem as vlx\n",
    "import numpy as np"
   ]
  },
  {
   "cell_type": "code",
   "execution_count": null,
   "id": "steady-buffalo",
   "metadata": {},
   "outputs": [],
   "source": [
    "np.set_printoptions(precision=4, suppress=True, linewidth=132) # printout format of NumPy arrays"
   ]
  },
  {
   "cell_type": "markdown",
   "id": "boxed-timeline",
   "metadata": {},
   "source": [
    "### 1. SCF optimization"
   ]
  },
  {
   "cell_type": "code",
   "execution_count": null,
   "id": "senior-husband",
   "metadata": {},
   "outputs": [],
   "source": [
    "mol_str = \"\"\"\n",
    "H        1.21655197    0.92414474    0.00000000\n",
    "H        1.21655197   -0.92414474    0.00000000\n",
    "H       -1.21655197   -0.92414474    0.00000000\n",
    "H       -1.21655197    0.92414474    0.00000000\n",
    "C        0.67759997    0.00000000    0.00000000\n",
    "C       -0.67759997    0.00000000    0.00000000\n",
    "\"\"\"\n",
    "molecule = vlx.Molecule.read_str(mol_str, units='angstrom')"
   ]
  },
  {
   "cell_type": "code",
   "execution_count": null,
   "id": "imported-naples",
   "metadata": {},
   "outputs": [],
   "source": [
    "scf_drv = vlx.ScfRestrictedDriver()\n",
    "basis = vlx.MolecularBasis.read(molecule, \"sto-3g\")\n",
    "\n",
    "scf_drv.compute(molecule, basis)"
   ]
  },
  {
   "cell_type": "markdown",
   "id": "7e2176ac-bb9f-4390-9626-cf5bf09a47a3",
   "metadata": {},
   "source": [
    "#### Identify the occupied orbitals"
   ]
  },
  {
   "cell_type": "markdown",
   "id": "f2d0bb7b-d42d-4f99-886b-b0eb0c1992fd",
   "metadata": {},
   "source": [
    "Write your answer here..."
   ]
  },
  {
   "cell_type": "markdown",
   "id": "hungarian-checklist",
   "metadata": {},
   "source": [
    "### 2. Determine the irrep of each MO"
   ]
  },
  {
   "cell_type": "markdown",
   "id": "b682f427",
   "metadata": {},
   "source": [
    "**FYI:** The ordering of atomic orbitals in the Veloxchem output is\n",
    "\n",
    "$\\chi_{1s}^{H1}$, $\\chi_{1s}^{H2}$, $\\chi_{1s}^{H3}$, $\\chi_{1s}^{H4}$\n",
    "$\\chi_{1s}^{C1}$, $\\chi_{2s}^{C1}$, $\\chi_{1s}^{C2}$, $\\chi_{2s}^{C2}$\n",
    "$\\chi_{2py}^{C1}$, $\\chi_{2py}^{C2}$, $\\chi_{2pz}^{C1}$, $\\chi_{2pz}^{C2}$, $\\chi_{2px}^{C1}$, $\\chi_{2px}^{C2}$\n",
    "\n",
    "and H1, H2, H3, H4 are numbered according to the order of the atoms in the molecule coordinates."
   ]
  },
  {
   "cell_type": "code",
   "execution_count": null,
   "id": "certain-atlanta",
   "metadata": {},
   "outputs": [],
   "source": [
    "# get the MO coefficients\n",
    "C = scf_drv.scf_tensors['C_alpha']\n",
    "# print\n",
    "print('MO coefficients:\\n', C)"
   ]
  },
  {
   "cell_type": "markdown",
   "id": "1d4dc74b-cb6d-4d45-94f1-3a6023eb18eb",
   "metadata": {},
   "source": [
    "#### List the MOs and their irrep"
   ]
  },
  {
   "cell_type": "markdown",
   "id": "1a83b0ac-0371-45a1-81b6-9d075fd28015",
   "metadata": {},
   "source": [
    "Write your answer here..."
   ]
  },
  {
   "cell_type": "markdown",
   "id": "3f79ee68-fa3b-4dbd-a601-cc73c110b6b9",
   "metadata": {},
   "source": [
    "### 3. Create a unitary transformation matrix and produce SAOs"
   ]
  },
  {
   "cell_type": "code",
   "execution_count": null,
   "id": "2f94355d-a148-4c4e-b039-e9c2b03b6e29",
   "metadata": {},
   "outputs": [],
   "source": [
    "# define a unitary transformation matrix\n",
    "# make sure that it fulfills *all* requirements specified in the exercise\n",
    "\n"
   ]
  },
  {
   "cell_type": "code",
   "execution_count": null,
   "id": "db2edd48-945a-4c02-a39f-325decdf238b",
   "metadata": {},
   "outputs": [],
   "source": [
    "C_SAO = ...\n",
    "print('Symmetry-adapted coefficients:\\n', C_SAO)"
   ]
  },
  {
   "cell_type": "markdown",
   "id": "9a9ee9a3-efbe-464e-9b92-fcc9da5488e6",
   "metadata": {},
   "source": [
    "### 4. Determine the overlap matrix in the SAO basis"
   ]
  },
  {
   "cell_type": "code",
   "execution_count": null,
   "id": "9d45a7c6-b668-43ba-88de-cfd2b3ae08d2",
   "metadata": {},
   "outputs": [],
   "source": [
    "# get the overlap matrix in the original basis\n",
    "S = scf_drv.scf_tensors['S']\n",
    "\n",
    "# transform the overlap matrix"
   ]
  },
  {
   "cell_type": "markdown",
   "id": "0fe6e388-3131-424d-b322-8a4281c8b9ab",
   "metadata": {},
   "source": [
    "#### Comment on the matrix structure"
   ]
  },
  {
   "cell_type": "markdown",
   "id": "917a3e5a-93e3-4421-82c7-c839b1a0c745",
   "metadata": {},
   "source": [
    "Write your thougts here..."
   ]
  },
  {
   "cell_type": "markdown",
   "id": "b81234f0-eb64-4e2b-adfe-20f0bd92875e",
   "metadata": {},
   "source": [
    "### 5. Determine the MO coefficients in the new basis"
   ]
  },
  {
   "cell_type": "code",
   "execution_count": null,
   "id": "784a1afc-4b04-4bb9-998f-f1bb7dd98e30",
   "metadata": {},
   "outputs": [],
   "source": [
    "# determine C'"
   ]
  },
  {
   "cell_type": "markdown",
   "id": "7e0b10a3-aa75-4b83-82f3-c856417092ed",
   "metadata": {},
   "source": [
    "#### Comment on the matrix structure"
   ]
  },
  {
   "cell_type": "markdown",
   "id": "54ef56a4-cd65-4791-aa7e-a3ee021349fc",
   "metadata": {},
   "source": [
    "Write your thoughts here..."
   ]
  },
  {
   "cell_type": "markdown",
   "id": "048caa49-5b6c-4696-960f-28b08a162e4b",
   "metadata": {},
   "source": [
    "### 6. Determine the dipole moment in the (original) MO basis"
   ]
  },
  {
   "cell_type": "code",
   "execution_count": null,
   "id": "591c447a-7f66-4fee-8df1-3ec81a7b4a0a",
   "metadata": {},
   "outputs": [],
   "source": [
    "# get the AO representation of the dipole moment\n",
    "\n",
    "# transform to the MO representation of the operator"
   ]
  },
  {
   "cell_type": "markdown",
   "id": "182c2672-49af-4f9f-8d64-02c0ccf05ddc",
   "metadata": {},
   "source": [
    "#### Discuss the results from a symmetry perspective"
   ]
  },
  {
   "cell_type": "markdown",
   "id": "a7c5061d-899f-42d0-a09e-df6f50e9af05",
   "metadata": {},
   "source": [
    "Write your thoughts here..."
   ]
  },
  {
   "cell_type": "markdown",
   "id": "ddda6bb0-cb07-48bf-b8dd-c37cb9fc99db",
   "metadata": {},
   "source": [
    "### 7. Determine the dipole moment in the new AO basis"
   ]
  },
  {
   "cell_type": "code",
   "execution_count": null,
   "id": "cef21bb8-1a33-4903-8872-e79f416e1485",
   "metadata": {},
   "outputs": [],
   "source": [
    "# basis transformation of the dipole operator from its original AO representation"
   ]
  },
  {
   "cell_type": "markdown",
   "id": "30e13594-fbd3-4e1a-91ec-d42727ca01f3",
   "metadata": {},
   "source": [
    "#### Comment on the matrix structure"
   ]
  },
  {
   "cell_type": "markdown",
   "id": "ac43b8ea-9780-4fff-92aa-4848a7981d5e",
   "metadata": {},
   "source": [
    "Write your thoughts here..."
   ]
  },
  {
   "cell_type": "markdown",
   "id": "7b84a94d-8ed9-4bf8-8313-e9773bded918",
   "metadata": {},
   "source": [
    "### 8. Determine the Cartesian components of transition dipole moment"
   ]
  },
  {
   "cell_type": "code",
   "execution_count": null,
   "id": "7e30a78d-f5bf-41f3-92c5-7182718d10f0",
   "metadata": {},
   "outputs": [],
   "source": [
    "# determine the three transition dipole moment components between the HOMO and LUMO"
   ]
  },
  {
   "cell_type": "markdown",
   "id": "198789c1-6635-4e75-a229-73ae7e372f70",
   "metadata": {},
   "source": [
    "#### Discuss the results from a symmetry perspective"
   ]
  },
  {
   "cell_type": "markdown",
   "id": "523614d6-ccf0-49da-8f75-333debe1bee7",
   "metadata": {},
   "source": [
    "Write your thoughts here..."
   ]
  },
  {
   "cell_type": "markdown",
   "id": "0a02e710-2b1c-4702-b6d3-2f97fa6ac1d0",
   "metadata": {},
   "source": [
    "### 9. Determine the absorption intensity for the HOMO-LUMO transition"
   ]
  },
  {
   "cell_type": "code",
   "execution_count": null,
   "id": "fc97da9f-f8e1-423f-acdc-fe9d61aee02a",
   "metadata": {},
   "outputs": [],
   "source": [
    "# calculate intensity of the transition identified in (8)"
   ]
  },
  {
   "cell_type": "markdown",
   "id": "0947e3bf-c9dd-483c-9072-07f549ad3362",
   "metadata": {},
   "source": [
    "## THE END"
   ]
  }
 ],
 "metadata": {
  "kernelspec": {
   "display_name": "Python 3 (ipykernel)",
   "language": "python",
   "name": "python3"
  },
  "language_info": {
   "codemirror_mode": {
    "name": "ipython",
    "version": 3
   },
   "file_extension": ".py",
   "mimetype": "text/x-python",
   "name": "python",
   "nbconvert_exporter": "python",
   "pygments_lexer": "ipython3",
   "version": "3.11.7"
  }
 },
 "nbformat": 4,
 "nbformat_minor": 5
}
