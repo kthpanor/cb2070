{
 "cells": [
  {
   "cell_type": "markdown",
   "metadata": {},
   "source": [
    "# Molecular Quantum Mechanics (CB2070)\n",
    "\n",
    "## TEMPLATE Computer lab 2: Fock matrices and the SCF procedure\n",
    "---\n",
    "Name:\n",
    "\n",
    "Date:\n",
    "\n",
    "---"
   ]
  },
  {
   "cell_type": "code",
   "execution_count": null,
   "metadata": {},
   "outputs": [],
   "source": [
    "import veloxchem as vlx\n",
    "\n",
    "import numpy as np\n",
    "import matplotlib.pyplot as plt\n",
    "\n",
    "# format the numpy array printout\n",
    "np.set_printoptions(precision=4, suppress=True, linewidth=132)"
   ]
  },
  {
   "cell_type": "code",
   "execution_count": null,
   "metadata": {},
   "outputs": [],
   "source": [
    "mol_str = \"\"\"\n",
    "    H    0.0000    0.7604    0.7295\n",
    "    H    0.0000   -0.7604    0.7295\n",
    "    O    0.0000    0.0000    0.1410\n",
    "\"\"\"\n",
    "\n",
    "molecule = vlx.Molecule.read_str(mol_str, units='angstrom')\n",
    "basis = vlx.MolecularBasis.read(molecule, \"cc-pvdz\")\n",
    "\n",
    "n = basis.get_dimensions_of_basis(molecule)\n",
    "print('Number of contracted basis functions:', n)\n",
    "\n",
    "nocc = molecule.number_of_electrons() // 2\n",
    "print('Number of occupied MOs:', nocc)"
   ]
  },
  {
   "cell_type": "markdown",
   "metadata": {},
   "source": [
    "### 1. SCF optimization"
   ]
  },
  {
   "cell_type": "code",
   "execution_count": null,
   "metadata": {},
   "outputs": [],
   "source": [
    "scf_drv = vlx.ScfRestrictedDriver()\n",
    "scf_drv.ostream.mute()\n",
    "scf_drv.compute(molecule, basis)\n",
    "\n",
    "# list the keys in the SCF result dictionary\n",
    "print('Keys in the SCF result dictionary:')\n",
    "for key in scf_drv.scf_tensors.keys():\n",
    "    print('\\t' + key)\n",
    "\n",
    "# obtain tensors\n",
    "E = scf_drv.scf_tensors['E']\n",
    "C = scf_drv.scf_tensors['C_alpha']\n",
    "D = scf_drv.scf_tensors['D_alpha']\n",
    "F = scf_drv.scf_tensors['F_alpha']\n",
    "S = scf_drv.scf_tensors['S']\n",
    "\n",
    "print('\\nC, D, F, S matrix shapes:\\n', np.shape(C), np.shape(D), np.shape(F), np.shape(S))"
   ]
  },
  {
   "cell_type": "markdown",
   "metadata": {},
   "source": [
    "### 2. Diagonalize the overlap matrix, S\n",
    "\n",
    "Complete the formula\n",
    "$$\n",
    "\\mathbf{S}_\\mathrm{diag} = \n",
    "$$\n"
   ]
  },
  {
   "cell_type": "code",
   "execution_count": null,
   "metadata": {},
   "outputs": [],
   "source": [
    "# Implement the formula"
   ]
  },
  {
   "cell_type": "code",
   "execution_count": null,
   "metadata": {},
   "outputs": [],
   "source": [
    "# Check that all eigenvalues are positive"
   ]
  },
  {
   "cell_type": "code",
   "execution_count": null,
   "metadata": {},
   "outputs": [],
   "source": [
    "# Verify that U*U = I"
   ]
  },
  {
   "cell_type": "markdown",
   "metadata": {},
   "source": [
    "### 3. The non-unitary Hermitian transformation matrix\n",
    "\n",
    "Complete the formula\n",
    "$$\n",
    "\\mathbf{X} =  \n",
    "$$\n"
   ]
  },
  {
   "cell_type": "code",
   "execution_count": null,
   "metadata": {},
   "outputs": [],
   "source": [
    "# Implement the formula"
   ]
  },
  {
   "cell_type": "markdown",
   "metadata": {},
   "source": [
    "### 4. The transformed Fock matrix\n",
    "\n",
    "We define a new set of basis functions\n",
    "\n",
    "$$\n",
    "| \\tilde{\\chi}_\\alpha \\rangle = \\sum_\\beta |\\chi_\\beta \\rangle X_{\\beta\\alpha};\\quad\n",
    "|\\tilde{\\boldsymbol{\\chi}} \\rangle = |\\boldsymbol{\\chi} \\rangle \\mathbf{X}\n",
    "$$"
   ]
  },
  {
   "cell_type": "markdown",
   "metadata": {},
   "source": [
    "#### 4.a Derive the relation between MO coefficients in the original and new basis sets.\n",
    "Write your derivation here...\n"
   ]
  },
  {
   "cell_type": "markdown",
   "metadata": {},
   "source": [
    "#### 4.b Derive the transformation of the Fock matrix.\n",
    "Write your derivation here..."
   ]
  },
  {
   "cell_type": "code",
   "execution_count": null,
   "metadata": {},
   "outputs": [],
   "source": [
    "# Implement the transformation of the Fock matrix"
   ]
  },
  {
   "cell_type": "markdown",
   "metadata": {},
   "source": [
    "### 5. Solve the transformed HF equation"
   ]
  },
  {
   "cell_type": "code",
   "execution_count": null,
   "metadata": {},
   "outputs": [],
   "source": [
    "# Implement the diagonalization of the transformed Fock matrix"
   ]
  },
  {
   "cell_type": "markdown",
   "metadata": {},
   "source": [
    "### 6. Determine the MO coefficients in the original basis from the transformed MO coefficients"
   ]
  },
  {
   "cell_type": "code",
   "execution_count": null,
   "metadata": {},
   "outputs": [],
   "source": [
    "# Implement the transformation of C'"
   ]
  },
  {
   "cell_type": "markdown",
   "metadata": {},
   "source": [
    "### 7. Determine the density matrix\n",
    "\n",
    "Complete the formula*\n",
    "\n",
    "$$\n",
    "D_{\\alpha\\beta} = \n",
    "$$\n",
    "\n",
    "\\* *Tip: the sum is over number of electrons/occupied orbitals*"
   ]
  },
  {
   "cell_type": "code",
   "execution_count": null,
   "metadata": {},
   "outputs": [],
   "source": [
    "# Implement the calculation of the density matrix"
   ]
  },
  {
   "cell_type": "markdown",
   "metadata": {},
   "source": [
    "#### Compare your density matrix with that from the previous SCF calculation. Has the SCF procedure converged?"
   ]
  },
  {
   "cell_type": "code",
   "execution_count": null,
   "metadata": {},
   "outputs": [],
   "source": [
    "# compare the density matrices"
   ]
  },
  {
   "cell_type": "markdown",
   "metadata": {},
   "source": [
    "Write your thoughts here..."
   ]
  },
  {
   "cell_type": "markdown",
   "metadata": {},
   "source": [
    "## THE END"
   ]
  }
 ],
 "metadata": {
  "kernelspec": {
   "display_name": "Python 3 (ipykernel)",
   "language": "python",
   "name": "python3"
  },
  "language_info": {
   "codemirror_mode": {
    "name": "ipython",
    "version": 3
   },
   "file_extension": ".py",
   "mimetype": "text/x-python",
   "name": "python",
   "nbconvert_exporter": "python",
   "pygments_lexer": "ipython3",
   "version": "3.11.7"
  }
 },
 "nbformat": 4,
 "nbformat_minor": 4
}
