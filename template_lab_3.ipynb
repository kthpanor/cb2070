{
 "cells": [
  {
   "cell_type": "markdown",
   "id": "precious-michael",
   "metadata": {},
   "source": [
    "# Molecular Quantum Mechanics (CB2070)\n",
    "## Computer lab 3: Dissociation of covalent bonds\n",
    "---\n",
    "Name:\n",
    "\n",
    "Date:\n",
    "\n",
    "---"
   ]
  },
  {
   "cell_type": "code",
   "execution_count": null,
   "id": "a32c960e-782d-460b-8634-1777610abb2e",
   "metadata": {},
   "outputs": [],
   "source": [
    "import veloxchem as vlx\n",
    "import numpy as np\n",
    "import matplotlib.pyplot as plt\n",
    "from scipy import interpolate\n",
    "import os\n",
    "os.environ[\"KMP_DUPLICATE_LIB_OK\"]=\"TRUE\""
   ]
  },
  {
   "cell_type": "code",
   "execution_count": null,
   "id": "807583a1-3962-4ce2-8b48-0152941e16e4",
   "metadata": {},
   "outputs": [],
   "source": [
    "mol_str = \"\"\"\n",
    "H     0.000000    0.000000   -0.370500\n",
    "H     0.000000    0.000000    0.370500\n",
    "\"\"\"\n",
    "molecule = vlx.Molecule.read_str(mol_str, units='angstrom')"
   ]
  },
  {
   "cell_type": "markdown",
   "id": "alien-transport",
   "metadata": {},
   "source": [
    "### 1.a Calculate the HF ground state"
   ]
  },
  {
   "cell_type": "code",
   "execution_count": null,
   "id": "vertical-start",
   "metadata": {
    "scrolled": true,
    "tags": []
   },
   "outputs": [],
   "source": [
    "scf_hf_drv = vlx.ScfRestrictedDriver()\n",
    "basis = vlx.MolecularBasis.read(molecule, 'sto-3g')\n",
    "scf_hf_drv.compute(molecule, basis)"
   ]
  },
  {
   "cell_type": "markdown",
   "id": "99174d4a-d903-4a8e-a367-af4a34b22675",
   "metadata": {},
   "source": [
    "### 1.b Plot the bonding, $\\sigma_g$, and anti-bonding, $\\sigma_u$, molecular orbitals"
   ]
  },
  {
   "cell_type": "code",
   "execution_count": null,
   "id": "cb7a544e-3e1b-4f95-a324-619c11523cdd",
   "metadata": {},
   "outputs": [],
   "source": [
    "# setup the visualization driver\n",
    "vis_drv = ...\n",
    "\n",
    "# get the MO values and plot\n"
   ]
  },
  {
   "cell_type": "markdown",
   "id": "experimental-bloom",
   "metadata": {},
   "source": [
    "#### Discuss what you see in terms of the underlying LCAO"
   ]
  },
  {
   "cell_type": "markdown",
   "id": "fd3c8003-ac46-469c-a297-534c5588c8bd",
   "metadata": {},
   "source": [
    "Write your thoughts here..."
   ]
  },
  {
   "cell_type": "markdown",
   "id": "regular-worth",
   "metadata": {},
   "source": [
    "### 2. One-particle densities"
   ]
  },
  {
   "cell_type": "code",
   "execution_count": 1,
   "id": "aa4a61c2-59a0-46df-8be4-52fb3700c0d4",
   "metadata": {},
   "outputs": [],
   "source": [
    "# calculate the densities and plot"
   ]
  },
  {
   "cell_type": "markdown",
   "id": "virgin-politics",
   "metadata": {},
   "source": [
    "#### Discuss the key feature difference in these densities that explains covalent bonding"
   ]
  },
  {
   "cell_type": "markdown",
   "id": "3d0ee9a5-843e-423a-8f2d-68c2730a600b",
   "metadata": {},
   "source": [
    "Write your thoughts here..."
   ]
  },
  {
   "cell_type": "markdown",
   "id": "343d7085-afc2-438c-891c-31adb1917b9b",
   "metadata": {},
   "source": [
    "### 3. Create a potential energy curve"
   ]
  },
  {
   "cell_type": "code",
   "execution_count": null,
   "id": "supported-advertiser",
   "metadata": {},
   "outputs": [],
   "source": [
    "# OBS this code is complete\n",
    "\n",
    "basis_set = \"6-311G\"\n",
    "\n",
    "# Atomic coordinates in units of Bohr\n",
    "template =\"\"\"\n",
    "H    0.0000    0.0000    0.0000\n",
    "H    0.0000    0.0000    \"\"\"\n",
    "\n",
    "n = 20\n",
    "hf_energies = []\n",
    "distances = np.linspace(0.7, 10.0, n)\n",
    "\n",
    "for d in distances:\n",
    "    mol_str = template + str(d)\n",
    "    molecule = vlx.Molecule.read_str(mol_str, units='au')\n",
    "    basis = vlx.MolecularBasis.read(molecule, basis_set)\n",
    "    \n",
    "    scf_hf_drv.compute(molecule, basis)\n",
    "    hf_energies.append(scf_hf_drv.get_scf_energy())"
   ]
  },
  {
   "cell_type": "code",
   "execution_count": null,
   "id": "73b85227-cb73-4a26-a584-66da982078b8",
   "metadata": {},
   "outputs": [],
   "source": [
    "# interpolate the data points\n",
    "\n",
    "# plot the data points and the interpolation\n"
   ]
  },
  {
   "cell_type": "markdown",
   "id": "frozen-daily",
   "metadata": {},
   "source": [
    "### 4. Determine the equilibrium bond length and compare to experiment\n",
    "\\**Tip: add more distance points in the well of the PEC and run the calculation from (3.) again*\n",
    "\n",
    "\\**OBS: the equilibrium bond length is the minimum of the interpolation curve*"
   ]
  },
  {
   "cell_type": "markdown",
   "id": "27e7535d-6cc2-4c58-97ac-7bd56f561bc0",
   "metadata": {},
   "source": [
    "Write your thoughts here..."
   ]
  },
  {
   "cell_type": "markdown",
   "id": "saved-oliver",
   "metadata": {},
   "source": [
    "### 5. Determine the bond energy from the HF calculation\n",
    "\n",
    "Discuss your results."
   ]
  },
  {
   "cell_type": "markdown",
   "id": "talented-surge",
   "metadata": {},
   "source": [
    "### 6. Create a UHF potential energy curve"
   ]
  },
  {
   "cell_type": "code",
   "execution_count": null,
   "id": "expected-addition",
   "metadata": {},
   "outputs": [],
   "source": [
    "basis_set = \"6-311G\"\n",
    "scf_uhf_drv = vlx.ScfUnrestrictedDriver()\n",
    "\n",
    "uhf_energies = []\n",
    "\n",
    "# setup the same distance screening as in the restricted case but with the uhf driver\n",
    "# the following line of code must be included inside the loop, after defining the molecule variable:\n",
    "# molecule.set_multiplicity(3)\n"
   ]
  },
  {
   "cell_type": "code",
   "execution_count": null,
   "id": "ad0cc735-6e69-419c-b036-8465da89dc5c",
   "metadata": {},
   "outputs": [],
   "source": [
    "# plot the two PECs together"
   ]
  },
  {
   "cell_type": "markdown",
   "id": "dd5823f8-1223-4885-807c-8125a26c7656",
   "metadata": {},
   "source": [
    "#### Compare the PECs"
   ]
  },
  {
   "cell_type": "markdown",
   "id": "41dbc441-6c10-4c1a-b272-f8e5b7e8378d",
   "metadata": {},
   "source": [
    "Write your thoughts here..."
   ]
  },
  {
   "cell_type": "markdown",
   "id": "62767856",
   "metadata": {},
   "source": [
    "## THE END"
   ]
  }
 ],
 "metadata": {
  "kernelspec": {
   "display_name": "Python 3 (ipykernel)",
   "language": "python",
   "name": "python3"
  },
  "language_info": {
   "codemirror_mode": {
    "name": "ipython",
    "version": 3
   },
   "file_extension": ".py",
   "mimetype": "text/x-python",
   "name": "python",
   "nbconvert_exporter": "python",
   "pygments_lexer": "ipython3",
   "version": "3.11.7"
  }
 },
 "nbformat": 4,
 "nbformat_minor": 5
}
