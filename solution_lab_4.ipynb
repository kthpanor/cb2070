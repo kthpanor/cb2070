{
 "cells": [
  {
   "cell_type": "markdown",
   "id": "running-motion",
   "metadata": {},
   "source": [
    "# Molecular Quantum Mechanics (CB2070)\n",
    "## SOLUTION Computer lab 4: Group theory and spatial symmetry of wave functions\n",
    "---\n",
    "Name: J.H. Andersen with stolen content from VT24 and VT25 student submissions\n",
    "\n",
    "Date: August 2025\n",
    "\n",
    "---"
   ]
  },
  {
   "cell_type": "code",
   "execution_count": null,
   "id": "entertaining-veteran",
   "metadata": {},
   "outputs": [],
   "source": [
    "import veloxchem as vlx\n",
    "import numpy as np"
   ]
  },
  {
   "cell_type": "code",
   "execution_count": null,
   "id": "steady-buffalo",
   "metadata": {},
   "outputs": [],
   "source": [
    "np.set_printoptions(precision=4, suppress=True, linewidth=132) # printout format of NumPy arrays"
   ]
  },
  {
   "cell_type": "markdown",
   "id": "boxed-timeline",
   "metadata": {},
   "source": [
    "### 1. SCF optimization"
   ]
  },
  {
   "cell_type": "code",
   "execution_count": null,
   "id": "senior-husband",
   "metadata": {},
   "outputs": [],
   "source": [
    "mol_str = \"\"\"\n",
    "H        1.21655197    0.92414474    0.00000000\n",
    "H        1.21655197   -0.92414474    0.00000000\n",
    "H       -1.21655197   -0.92414474    0.00000000\n",
    "H       -1.21655197    0.92414474    0.00000000\n",
    "C        0.67759997    0.00000000    0.00000000\n",
    "C       -0.67759997    0.00000000    0.00000000\n",
    "\"\"\"\n",
    "molecule = vlx.Molecule.read_str(mol_str, units='angstrom')"
   ]
  },
  {
   "cell_type": "code",
   "execution_count": null,
   "id": "imported-naples",
   "metadata": {
    "scrolled": true
   },
   "outputs": [],
   "source": [
    "scf_drv = vlx.ScfRestrictedDriver()\n",
    "basis = vlx.MolecularBasis.read(molecule, \"sto-3g\")\n",
    "\n",
    "scf_results = scf_drv.compute(molecule, basis)"
   ]
  },
  {
   "cell_type": "markdown",
   "id": "7e2176ac-bb9f-4390-9626-cf5bf09a47a3",
   "metadata": {},
   "source": [
    "#### Identify the occupied and unoccupied orbitals"
   ]
  },
  {
   "cell_type": "code",
   "execution_count": null,
   "id": "5243cf81-f12c-4d73-a8fb-acb08825b85b",
   "metadata": {},
   "outputs": [],
   "source": [
    "nocc = molecule.number_of_alpha_electrons()\n",
    "nvir = basis.get_dimensions_of_basis() - nocc\n",
    "eocc = scf_results['E_alpha'][:nocc]"
   ]
  },
  {
   "cell_type": "code",
   "execution_count": null,
   "id": "44e7a35a-d929-4ad2-81d5-b660e49ca23d",
   "metadata": {},
   "outputs": [],
   "source": [
    "print(f\"Number of occupied orbitals: {nocc}\")\n",
    "print(f\"Number of unoccupied orbitals: {nvir}\")\n",
    "print()\n",
    "print(f\"Energies of occupied MOs: {eocc}\")"
   ]
  },
  {
   "cell_type": "markdown",
   "id": "f2d0bb7b-d42d-4f99-886b-b0eb0c1992fd",
   "metadata": {},
   "source": [
    "There are 14 MOs in total, out of which 8 are occupied and 6 are unoccupied (virtual)"
   ]
  },
  {
   "cell_type": "markdown",
   "id": "hungarian-checklist",
   "metadata": {},
   "source": [
    "### 2. Determine the irrep of each MO"
   ]
  },
  {
   "cell_type": "markdown",
   "id": "b682f427",
   "metadata": {},
   "source": [
    "**FYI:** The ordering of atomic orbitals in the Veloxchem output is\n",
    "\n",
    "$\\chi_{1s}^{H1}$, $\\chi_{1s}^{H2}$, $\\chi_{1s}^{H3}$, $\\chi_{1s}^{H4}$\n",
    "$\\chi_{1s}^{C1}$, $\\chi_{2s}^{C1}$, $\\chi_{1s}^{C2}$, $\\chi_{2s}^{C2}$\n",
    "$\\chi_{2py}^{C1}$, $\\chi_{2py}^{C2}$, $\\chi_{2pz}^{C1}$, $\\chi_{2pz}^{C2}$, $\\chi_{2px}^{C1}$, $\\chi_{2px}^{C2}$\n",
    "\n",
    "and H1, H2, H3, H4 are numbered according to the order of the atoms in the molecular coordinates."
   ]
  },
  {
   "cell_type": "markdown",
   "id": "930a0dd6-1d71-4178-97ab-c864b318d163",
   "metadata": {},
   "source": [
    "#### THE PROCEDURE IS AS FOLLOWS\n",
    "1. Draw the C2H4 molecule in the z-plane and number the H and C atoms according to their occurence in the coordinates. You need to get this numbering right, or you will mess up a couple of the MO symmetries\n",
    "2. In the MO coefficient array, the rows are the AOs (in the order listes above) and the columns are the MOs. Write down the linear combinations of the AOs for each MO noting only the sign of the coefficient and not its value. For example, the first MO is (**OBS: you might get the opposite signs when running the SCF on your laptop. It does not matter, as long as the relative signs agree**)\n",
    "$$\\phi_1 = -1s^{H_1} - 1s^{H_2} - 1s^{H_3} - 1s^{H_4} + 1s^{C_1} + 2s^{C_1}  + 1s^{C_2} + 2s^{C_2} + 2p_x^{C_1} + 2p_x^{C_2}$$\n",
    "3. Go through each MO and note how the AO combination transform according to the symmetry operations of the $D_{2h}$ point group\n",
    "4. Compare the signs of the symmetry operations to the character table of the point group and determine the irrep of each MO\n",
    "5. Bravo, you did it! It only cost you your sanity and more hours than you are willing to admit :)"
   ]
  },
  {
   "cell_type": "code",
   "execution_count": null,
   "id": "certain-atlanta",
   "metadata": {},
   "outputs": [],
   "source": [
    "# get the MO coefficients\n",
    "C = scf_drv.scf_tensors['C_alpha']\n",
    "# print\n",
    "print('MO coefficients:\\n', C)"
   ]
  },
  {
   "cell_type": "markdown",
   "id": "1d4dc74b-cb6d-4d45-94f1-3a6023eb18eb",
   "metadata": {},
   "source": [
    "#### List the MOs and their irrep"
   ]
  },
  {
   "cell_type": "markdown",
   "id": "1a83b0ac-0371-45a1-81b6-9d075fd28015",
   "metadata": {},
   "source": [
    "The symmetries of the MOs are\n",
    "\n",
    "$A_g: \\phi_1 / \\phi_3 / \\phi_6 / \\phi_{11}$\n",
    "\n",
    "$B_{1g}: \\phi_7 / \\phi_{14} $\n",
    "\n",
    "$B_{2g}: \\phi_9 $\n",
    "\n",
    "$B_{1u}: \\phi_8 $\n",
    "\n",
    "$B_{2u}: \\phi_5 / \\phi_{10} $\n",
    "\n",
    "$B_{3u}: \\phi_2 / \\phi_4 / \\phi_{12} / \\phi_{13}$"
   ]
  },
  {
   "cell_type": "markdown",
   "id": "3f79ee68-fa3b-4dbd-a601-cc73c110b6b9",
   "metadata": {},
   "source": [
    "### 3. Create a unitary transformation matrix and produce SAOs"
   ]
  },
  {
   "cell_type": "markdown",
   "id": "47cb4e5a-64f5-4ee9-8bb5-8c058271aab9",
   "metadata": {},
   "source": [
    "#### 3.a Define a unitary transformation matrix"
   ]
  },
  {
   "cell_type": "code",
   "execution_count": null,
   "id": "2f94355d-a148-4c4e-b039-e9c2b03b6e29",
   "metadata": {},
   "outputs": [],
   "source": [
    "# define a unitary transformation matrix\n",
    "# make sure that it fulfills *all* requirements specified in the exercise\n",
    "\n",
    "# use the unitary matrix that was determined in the related exercise session\n",
    "\n",
    "# TODO: define a unitary transformation matrix, and carry out the transformation\n",
    "U_H_1s = 1/2 * np.array([[1,1,1,1],[1,1,-1,-1],[1,-1,-1,1],[1,-1,1,-1]])\n",
    "U_C_1s = 1/np.sqrt(2) * np.array([[1,1],[1,-1]])\n",
    "U_C_2s = 1/np.sqrt(2) * np.array([[1,1],[1,-1]])\n",
    "U_C_2py = 1/np.sqrt(2) * np.array([[1,1],[1,-1]])\n",
    "U_C_2pz = 1/np.sqrt(2) * np.array([[1,1],[1,-1]])\n",
    "U_C_2px = 1/np.sqrt(2) * np.array([[1,1],[1,-1]])\n",
    "\n",
    "nao = nocc + nvir\n",
    "U = np.zeros((nao, nao))\n",
    "\n",
    "U[0:4,0:4] = U_H_1s\n",
    "U[4:6,4:6] = U_C_1s\n",
    "U[6:8,6:8] = U_C_2s\n",
    "U[8:10,8:10] = U_C_2py\n",
    "U[10:12,10:12] = U_C_2pz\n",
    "U[12:14,12:14] = U_C_2px\n",
    "\n",
    "# note that row 5 and 6 are swapped compared to the organization of atomic orbitals made by VeloxChem. This is handled later on.\n",
    "# they are rearranged according to: ...1s(C1)1s(C2)2s(C1)2s(C2)..."
   ]
  },
  {
   "cell_type": "code",
   "execution_count": null,
   "id": "db2edd48-945a-4c02-a39f-325decdf238b",
   "metadata": {},
   "outputs": [],
   "source": [
    "print('Symmetry-adapted coefficients:\\n', U)"
   ]
  },
  {
   "cell_type": "markdown",
   "id": "86192a07-018d-41fb-8b20-08bd1519eb94",
   "metadata": {},
   "source": [
    "#### 3.b Determine the symmetry of the SAOs"
   ]
  },
  {
   "cell_type": "markdown",
   "id": "f4c7683e-488d-4916-ba99-a4f554f67248",
   "metadata": {},
   "source": [
    "The transformation matrix should also accomplish an ordering of the SAOs according to the symmetry in the $D_{2h}$ character table. To accomplish this each, SAO (column) is symmetry labeled, then grouped and ordered ($A_g, B_{1g}, B_{2g}, B_{2u}, B_{3u}$). \n",
    "\n",
    "Symmetry labelling and ordeing:\n",
    "\n",
    "$A_g: SAO_1, SAO_5, SAO_7, SAO_{14}$\n",
    "\n",
    "$B_{1g}: SAO_4, SAO_{10}$ \n",
    "\n",
    "$B_{2g}: SAO_{12}$ \n",
    "\n",
    "$B_{1u}: SAO_{11}$\n",
    "\n",
    "$B_{2u}: SAO_3, SAO_{9}$\n",
    "\n",
    "$B_{3u}: SAO_2, SAO_6, SAO_8, SAO_{13}$"
   ]
  },
  {
   "cell_type": "markdown",
   "id": "555bdf21-c5e0-4a0f-a92c-8052b8245dc7",
   "metadata": {},
   "source": [
    "#### 3.c Reorganize the transformation matrix according to the irreps"
   ]
  },
  {
   "cell_type": "code",
   "execution_count": null,
   "id": "d68aa2f6-ba8d-45f9-8a38-deee56e9efdb",
   "metadata": {},
   "outputs": [],
   "source": [
    "# reorganize U according to character table\n",
    "U_tmp = np.array([U[:,0], U[:,4], U[:,6], U[:,13], U[:,3], U[:,9], U[:,11], U[:,10], U[:,2], U[:,8], U[:,1], U[:,5], U[:,7], U[:,12]]).T\n",
    "\n",
    "# reorganize U so ordering of 1s and 2s on C1 and C2 match that of VeloxChem by swapping row 5 and 6\n",
    "U_prime = U_tmp.copy()\n",
    "\n",
    "U_prime[5,:] = U_tmp[6,:]\n",
    "U_prime[6,:] = U_tmp[5,:]"
   ]
  },
  {
   "cell_type": "code",
   "execution_count": null,
   "id": "1d91be0b-53e8-4f60-b7a6-a969a94d7a7b",
   "metadata": {},
   "outputs": [],
   "source": [
    "print('Reorganized unitary transformation matrix:\\n', U_prime)"
   ]
  },
  {
   "cell_type": "markdown",
   "id": "9a9ee9a3-efbe-464e-9b92-fcc9da5488e6",
   "metadata": {},
   "source": [
    "### 4. Determine the overlap matrix in the SAO basis"
   ]
  },
  {
   "cell_type": "markdown",
   "id": "0033ec72-6aa9-486d-a133-d6b50d22b25e",
   "metadata": {},
   "source": [
    "Complete the equation\n",
    "$$ \\mathbf{S'} = \\mathbf{U}^{\\dagger} \\mathbf{S} \\mathbf{U} $$"
   ]
  },
  {
   "cell_type": "code",
   "execution_count": null,
   "id": "9d45a7c6-b668-43ba-88de-cfd2b3ae08d2",
   "metadata": {},
   "outputs": [],
   "source": [
    "# get the overlap matrix in the original basis\n",
    "S = scf_drv.scf_tensors['S']\n",
    "\n",
    "# transform the overlap matrix\n",
    "S_prime = np.matmul(U_prime.T, np.matmul(S, U_prime))"
   ]
  },
  {
   "cell_type": "code",
   "execution_count": null,
   "id": "b319ce7c-0d07-42e5-b41d-652fb555b1b9",
   "metadata": {},
   "outputs": [],
   "source": [
    "print('Overlap matrix in SAO basis:\\n', S_prime)"
   ]
  },
  {
   "cell_type": "markdown",
   "id": "0fe6e388-3131-424d-b322-8a4281c8b9ab",
   "metadata": {},
   "source": [
    "#### Comment on the matrix structure"
   ]
  },
  {
   "cell_type": "markdown",
   "id": "917a3e5a-93e3-4421-82c7-c839b1a0c745",
   "metadata": {},
   "source": [
    "The transformed overlap matrix is block diagonal since orbitals belonging to different irreps are orthogonal.\n",
    "\n",
    "The blocks consist of the SAOs of each symmetry, so the left upper corner consists of SAOs with $A_g$ symmetry. The second bock on the diagonal is the SAOs with $B_{1g}$ symmetry, then comes to 1 dimensional blocks, the first with $B_{2g}$ and the second with $B_{1u}$. The two last block are the 2 dimensianl $B_{2u}$ and the 4 dimensional $B_{3u}$. We clearly see that the elements of the overlap matrix are onbly nonzero between basis funcitons of the same symmetry."
   ]
  },
  {
   "cell_type": "markdown",
   "id": "b81234f0-eb64-4e2b-adfe-20f0bd92875e",
   "metadata": {},
   "source": [
    "### 5. Determine the MO coefficients in the new basis"
   ]
  },
  {
   "cell_type": "markdown",
   "id": "6105b3c8-214b-4e32-bf85-8013207e8b02",
   "metadata": {},
   "source": [
    "Complete the equation\n",
    "$$ \\mathbf{C'} = \\mathbf{U}^{\\dagger} \\mathbf{C} $$"
   ]
  },
  {
   "cell_type": "code",
   "execution_count": null,
   "id": "784a1afc-4b04-4bb9-998f-f1bb7dd98e30",
   "metadata": {},
   "outputs": [],
   "source": [
    "# determine C'\n",
    "C_prime = np.matmul(U_prime.T, C)"
   ]
  },
  {
   "cell_type": "code",
   "execution_count": null,
   "id": "6ea39e0e-324f-4c50-8fbf-b5b4edaa7509",
   "metadata": {},
   "outputs": [],
   "source": [
    "print('MO coefficients in SAO basis:\\n', C_prime)"
   ]
  },
  {
   "cell_type": "markdown",
   "id": "7e0b10a3-aa75-4b83-82f3-c856417092ed",
   "metadata": {},
   "source": [
    "#### Comment on the matrix structure"
   ]
  },
  {
   "cell_type": "markdown",
   "id": "54ef56a4-cd65-4791-aa7e-a3ee021349fc",
   "metadata": {},
   "source": [
    "The rows correspond to the different symmetry adapted atomic orbitals, and since SAOs of different irreps don't mix, $\\mathbf{C}'$ is much more sparse than $\\mathbf{C}$.\n",
    "It is seen from the structure of the matrix that the MOs are consituted of SAOs of the same symmetry only."
   ]
  },
  {
   "cell_type": "markdown",
   "id": "048caa49-5b6c-4696-960f-28b08a162e4b",
   "metadata": {},
   "source": [
    "### 6. Determine the dipole moment in the (original) MO basis"
   ]
  },
  {
   "cell_type": "code",
   "execution_count": null,
   "id": "591c447a-7f66-4fee-8df1-3ec81a7b4a0a",
   "metadata": {},
   "outputs": [],
   "source": [
    "# get the AO representation of the dipole moment\n",
    "dipole_drv = vlx.ElectricDipoleIntegralsDriver()\n",
    "\n",
    "dipole_mats = dipole_drv.compute(molecule, basis)\n",
    "\n",
    "mu_x = dipole_mats.x_to_numpy()\n",
    "mu_y = dipole_mats.y_to_numpy()\n",
    "mu_z = dipole_mats.z_to_numpy()\n",
    "\n",
    "# transform to the MO representation of the operator\n",
    "\n",
    "mu_x_MO = np.matmul(C.T, np.matmul(mu_x, C))\n",
    "mu_y_MO = np.matmul(C.T, np.matmul(mu_y, C))\n",
    "mu_z_MO = np.matmul(C.T, np.matmul(mu_z, C))"
   ]
  },
  {
   "cell_type": "code",
   "execution_count": null,
   "id": "9a8e7b2f-bb30-4a46-89fc-fdedd58d4f9a",
   "metadata": {},
   "outputs": [],
   "source": [
    "print('Dipole moment operator in MO basis, x-component:\\n', mu_x_MO)\n",
    "print('\\nDipole moment operator in MO basis, y-component:\\n', mu_y_MO)\n",
    "print('\\nDipole moment operator in MO basis, z-component:\\n', mu_z_MO)"
   ]
  },
  {
   "cell_type": "markdown",
   "id": "182c2672-49af-4f9f-8d64-02c0ccf05ddc",
   "metadata": {},
   "source": [
    "#### Discuss the results from a symmetry perspective"
   ]
  },
  {
   "cell_type": "markdown",
   "id": "a7c5061d-899f-42d0-a09e-df6f50e9af05",
   "metadata": {},
   "source": [
    "The row and column index each correspond to an MO. The MOs were symmetry labeled in task 2 and we know that \n",
    "\n",
    "$$ \\langle \\Psi_f |\\mu_x| \\Psi_i \\rangle \\neq 0$$\n",
    "\n",
    "only if $$\\Gamma(\\Psi_f) \\otimes \\Gamma(\\hat{\\Omega}) \\otimes\\ \\Gamma(\\Psi_i) = \\Gamma(\\hat{I}) $$\n",
    "\n",
    "Checking the irreps of the MOs as well as the irrep of the Cartesian coordinates, one can find the overall irrep of the matrix element by using the direct product table,\n",
    "\n",
    "https://www.webqc.org/symmetrypointgroup-d2h.html\n",
    "\n",
    "An example of a zero matrix element is:\n",
    "\n",
    "$\\Gamma(\\phi_1) \\otimes \\Gamma(\\mu_x) \\otimes \\Gamma(\\phi_1) = A_g \\otimes B_{3u} \\otimes A_g = B_{3u} \\neq A_g$: the element is zero.\n",
    "\n",
    "$\\Gamma(\\phi_8) \\otimes \\Gamma(\\mu_z) \\otimes \\Gamma(\\phi_3) = B_{1u} \\otimes B_{1u} \\otimes Ag = A_g$: the element is non-zero."
   ]
  },
  {
   "cell_type": "markdown",
   "id": "ddda6bb0-cb07-48bf-b8dd-c37cb9fc99db",
   "metadata": {},
   "source": [
    "### 7. Determine the dipole moment in the SAO basis"
   ]
  },
  {
   "cell_type": "code",
   "execution_count": null,
   "id": "cef21bb8-1a33-4903-8872-e79f416e1485",
   "metadata": {},
   "outputs": [],
   "source": [
    "# basis transformation of the dipole operator from its original AO representation\n",
    "mu_x_SAO = np.matmul(U_prime.T , np.matmul(mu_x , U_prime))\n",
    "mu_y_SAO = np.matmul(U_prime.T , np.matmul(mu_y , U_prime))\n",
    "mu_z_SAO = np.matmul(U_prime.T , np.matmul(mu_z , U_prime))"
   ]
  },
  {
   "cell_type": "code",
   "execution_count": null,
   "id": "fd08450a-ee7a-4716-993f-2e1842c1c6ff",
   "metadata": {},
   "outputs": [],
   "source": [
    "print('Dipole moment operator in SAO basis, x-component:\\n', mu_x_SAO)\n",
    "print('\\nDipole moment operator in SAO basis, y-component:\\n', mu_y_SAO)\n",
    "print('\\nDipole moment operator in SAO basis, z-component:\\n', mu_z_SAO)"
   ]
  },
  {
   "cell_type": "markdown",
   "id": "30e13594-fbd3-4e1a-91ec-d42727ca01f3",
   "metadata": {},
   "source": [
    "#### Comment on the matrix structure"
   ]
  },
  {
   "cell_type": "markdown",
   "id": "ac43b8ea-9780-4fff-92aa-4848a7981d5e",
   "metadata": {},
   "source": [
    "In the new SAO basis, the rows and columns of the dipole moment matrices are organized by irreps: Ag (4), B1g (2), B2g (1), B1u (1), B2u (2) and B3u (4). Thus, only the blocks of the matrices where the symmetry product of the rows, the columns and the dipole moment cartesian component is Ag has non-zero values. For example the last four rows (B3u) and the first four columns (Ag) of the $x$-direction (B3u) gives the overall symmetry product Ag, and thus non-zero values are found in the block."
   ]
  },
  {
   "cell_type": "markdown",
   "id": "7b84a94d-8ed9-4bf8-8313-e9773bded918",
   "metadata": {},
   "source": [
    "### 8. Determine the Cartesian components of transition dipole moment"
   ]
  },
  {
   "cell_type": "code",
   "execution_count": null,
   "id": "7e30a78d-f5bf-41f3-92c5-7182718d10f0",
   "metadata": {},
   "outputs": [],
   "source": [
    "# determine the three transition dipole moment components between the HOMO and LUMO\n",
    "\n",
    "# the HOMO is MO 8 (idx 7) and the LUMO is MO 9 (idx 8)\n",
    "f_x = mu_x_MO[7,8]\n",
    "f_y = mu_y_MO[7,8]\n",
    "f_z = mu_z_MO[7,8]"
   ]
  },
  {
   "cell_type": "code",
   "execution_count": null,
   "id": "4483d050-7807-4d94-ab80-d47466cad26c",
   "metadata": {},
   "outputs": [],
   "source": [
    "print(f'Dipole moment x-component: {f_x:2.4f}')\n",
    "print(f'Dipole moment y-component: {f_y:2.4f}')\n",
    "print(f'Dipole moment z-component: {f_z:2.4f}')"
   ]
  },
  {
   "cell_type": "markdown",
   "id": "198789c1-6635-4e75-a229-73ae7e372f70",
   "metadata": {},
   "source": [
    "#### Discuss the results from a symmetry perspective"
   ]
  },
  {
   "cell_type": "markdown",
   "id": "523614d6-ccf0-49da-8f75-333debe1bee7",
   "metadata": {},
   "source": [
    "$\\phi_8$ spans $B_{1u}$;\n",
    "\n",
    "$\\phi_9$ spans $B_{2g}$;\n",
    "\n",
    "$\\mu_x$ spans $B_{3u}$\n",
    "\n",
    "$\\Gamma(\\phi_8) \\otimes \\Gamma(\\mu_x) \\otimes \\Gamma(\\phi_9) = B_{1u} \\otimes B_{3u} \\otimes B_{2g} = A_g$\n",
    "\n",
    "This component is the only one where the symmetry product is $A_g$ and therefore, it is only the x-component of the dipole moment that contributes."
   ]
  },
  {
   "cell_type": "markdown",
   "id": "0a02e710-2b1c-4702-b6d3-2f97fa6ac1d0",
   "metadata": {},
   "source": [
    "### 9. Determine the absorption intensity for the HOMO-LUMO transition"
   ]
  },
  {
   "cell_type": "code",
   "execution_count": null,
   "id": "fc97da9f-f8e1-423f-acdc-fe9d61aee02a",
   "metadata": {},
   "outputs": [],
   "source": [
    "# calculate intensity of the transition identified in (8)\n",
    "I = f_x**2"
   ]
  },
  {
   "cell_type": "code",
   "execution_count": null,
   "id": "62a776c7-a549-43f5-a3c3-2521ecd5908c",
   "metadata": {},
   "outputs": [],
   "source": [
    "print(f\"Absorption strength: {I:2.3f}\")"
   ]
  },
  {
   "cell_type": "markdown",
   "id": "0947e3bf-c9dd-483c-9072-07f549ad3362",
   "metadata": {},
   "source": [
    "## THE END"
   ]
  }
 ],
 "metadata": {
  "kernelspec": {
   "display_name": "Python 3 (ipykernel)",
   "language": "python",
   "name": "python3"
  },
  "language_info": {
   "codemirror_mode": {
    "name": "ipython",
    "version": 3
   },
   "file_extension": ".py",
   "mimetype": "text/x-python",
   "name": "python",
   "nbconvert_exporter": "python",
   "pygments_lexer": "ipython3",
   "version": "3.12.9"
  }
 },
 "nbformat": 4,
 "nbformat_minor": 5
}
