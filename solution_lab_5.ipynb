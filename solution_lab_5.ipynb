{
 "cells": [
  {
   "cell_type": "markdown",
   "id": "furnished-sleeve",
   "metadata": {},
   "source": [
    "# Molecular Quantum Mechanics (CB2070)\n",
    "## Computer lab 5: Two-particle densities and electron correlation\n",
    "---\n",
    "Name: J.H. Andersen with stolen content from VT24 and VT25 student submissions\n",
    "\n",
    "Date: July 2025\n",
    "\n",
    "---"
   ]
  },
  {
   "cell_type": "code",
   "execution_count": null,
   "id": "confidential-psychiatry",
   "metadata": {
    "tags": []
   },
   "outputs": [],
   "source": [
    "import veloxchem as vlx\n",
    "\n",
    "import numpy as np\n",
    "import matplotlib.pyplot as plt"
   ]
  },
  {
   "cell_type": "code",
   "execution_count": null,
   "id": "confident-equipment",
   "metadata": {
    "tags": []
   },
   "outputs": [],
   "source": [
    "np.set_printoptions(precision=4, suppress=True, linewidth=132) # printout format of NumPy arrays\n",
    "au_to_nm = 0.0529177 # length conversion factor\n",
    "au_to_ev = 27.2114 # energy conversion factor"
   ]
  },
  {
   "cell_type": "markdown",
   "id": "lasting-undergraduate",
   "metadata": {},
   "source": [
    "### Molecule specification"
   ]
  },
  {
   "cell_type": "code",
   "execution_count": null,
   "id": "creative-drove",
   "metadata": {
    "tags": []
   },
   "outputs": [],
   "source": [
    "mol_str = \"\"\"\n",
    "H     0.000000    0.000000   -0.370500\n",
    "H     0.000000    0.000000    0.370500\n",
    "\"\"\"\n",
    "molecule = vlx.Molecule.read_str(mol_str, units='angstrom')"
   ]
  },
  {
   "cell_type": "markdown",
   "id": "acoustic-joseph",
   "metadata": {},
   "source": [
    "### SCF optimization"
   ]
  },
  {
   "cell_type": "code",
   "execution_count": null,
   "id": "insured-julian",
   "metadata": {
    "scrolled": true,
    "tags": []
   },
   "outputs": [],
   "source": [
    "scf_drv = vlx.ScfRestrictedDriver()\n",
    "scf_drv.ostream.mute()\n",
    "basis = vlx.MolecularBasis.read(molecule, 'sto-3g')\n",
    "scf_results = scf_drv.compute(molecule, basis)"
   ]
  },
  {
   "cell_type": "markdown",
   "id": "moderate-winning",
   "metadata": {},
   "source": [
    "### 1. Cost-gain analysis of the bond formation"
   ]
  },
  {
   "cell_type": "markdown",
   "id": "4550bc75-9f04-48e0-9d63-854f1537f0c7",
   "metadata": {},
   "source": [
    "From the virial theorem we have that\n",
    "$$2\\left<T\\right> = n\\left<V\\right>$$\n",
    "where $n$ is the exponent of $r$ in the expression for the potential operator $\\hat{V}$.\n",
    "\n",
    "1. What is $n$ in our case?\n",
    "2. What is the expression for the total average energy?\n",
    "3. Use this expression and the virial theorem above to get the electron kinetic and potential energies for the isolated H atom. Use the value of `h_h` provided in the code below."
   ]
  },
  {
   "cell_type": "markdown",
   "id": "87e20eef-e0e1-411d-86d9-28755575d025",
   "metadata": {},
   "source": [
    "The electronic Hamiltonian:\n",
    "$$\\hat{H}_e = T_e + V_{en} + V_{ee} + V_{nn}$$\n",
    "\n",
    "Where the kinetic operator is\n",
    "$$\\hat{T}_e = -\\sum_{i=1}^{N}\\frac{1}{2}\\nabla^2_i$$\n",
    "and the potential is \n",
    "$$\\hat{V}_e = -\\sum_{i=1}^{N}\\sum_{A=1}^M\\frac{Z_A}{r}$$\n",
    "\n",
    "From the virial theorem we have that\n",
    "$$2\\left<T\\right> = n\\left<V\\right>$$\n",
    "where $n$ is the exponent of $r$ in the potential. In our case we have $n=-1$ and we get\n",
    "$$2\\left<T\\right> = -\\left<V\\right>$$\n",
    "Which means that twice the average total kinetic energy equals the negative average total potential energy. We also have that the average total energy is the sum of the kinetic and potential average total energies\n",
    "$$\\left<E\\right> = \\left<T\\right> + \\left<V\\right>$$\n",
    "We can then write\n",
    "$$\\left<E\\right> = -\\frac{1}{2}\\left<V\\right> + \\left<V\\right> \\rightarrow \\left<V\\right> = 2\\left<E\\right>$$\n",
    "Using this equation, we can determine the potential energy for the single electron in H atom, and then the kinetic energy as\n",
    "$$\\left<T\\right> = -\\frac{1}{2}\\left<V\\right> = -\\left<E\\right>$$\n",
    "\n",
    "\n"
   ]
  },
  {
   "cell_type": "code",
   "execution_count": null,
   "id": "searching-enough",
   "metadata": {},
   "outputs": [],
   "source": [
    "# for the H2 molecule\n",
    "nocc = molecule.number_of_electrons() // 2\n",
    "norb = molecule.number_of_atoms()\n",
    "print('Number of occupied MOs:', nocc)\n",
    "\n",
    "C = scf_drv.scf_tensors['C_alpha']\n",
    "\n",
    "# electron kinetic energy\n",
    "kin_drv = vlx.KineticEnergyDriver()\n",
    "T_ao = kin_drv.compute(molecule, basis).to_numpy()\n",
    "T_mat = np.einsum('ai, ab, bj', C, T_ao, C)\n",
    "T_e = np.einsum('ii', T_mat[:nocc, :nocc])\n",
    "\n",
    "# electron-nuclear attraction\n",
    "npot_drv = vlx.NuclearPotentialDriver()\n",
    "V_ao = -npot_drv.compute(molecule, basis).to_numpy()\n",
    "V_mat = np.einsum('ai, ab, bj', C, V_ao, C)\n",
    "V_en = np.einsum('ii', V_mat[:nocc, :nocc])\n",
    "\n",
    "# core Hamiltonian (one-electron)\n",
    "h_h2 = T_e + V_en # for the H2 molecule\n",
    "h_h = 0.5 * T_e + 0.25 * V_en # estimated core Hamiltonian for a single H atom\n",
    "\n",
    "# nuclear-nuclear repulsion\n",
    "V_nn = molecule.nuclear_repulsion_energy()\n",
    "\n",
    "# electron-electron repulsion\n",
    "fock_drv = vlx.FockDriver()\n",
    "eri_ao = fock_drv.compute_eri(molecule, basis)\n",
    "g_mat = np.einsum('abcd,ai,bj,ck,dl', eri_ao, C, C, C, C)\n",
    "g = 2.0 * np.einsum('iijj', g_mat[:nocc, :nocc, :nocc, :nocc]) - np.einsum('ijji', g_mat[:nocc, :nocc, :nocc, :nocc])\n",
    "\n",
    "# total energy of H2\n",
    "e_h2 = 2.0 * h_h2 + g + V_nn # one-elec part is multiplierd by 2"
   ]
  },
  {
   "cell_type": "code",
   "execution_count": null,
   "id": "9d972bb5-2b6f-4fc7-954f-73b004e3461d",
   "metadata": {},
   "outputs": [],
   "source": [
    "print('Energy of the H2 molecule: {:3.4f}'.format(e_h2))\n",
    "print('One-electron part of the H2 energy: {:3.4f}'.format(h_h2))\n",
    "print('Two-electron part of the H2 energy: {:3.4f}'.format(g))\n",
    "print()\n",
    "\n",
    "# the one-electron parts are per electron: in the equations for energy the terms are multiplied by 2 (number of electrons)\n",
    "print('One-electron electron-nuclear potential energy of H2: {:3.4f}'.format(V_en))\n",
    "print('One-electron kinetic energy of H2: {:3.4f}'.format(T_e))\n",
    "print('One-electron part of the H2 energy: {:3.4f}'.format(h_h2))\n",
    "print('Two-electron part of the H2 energy: {:3.4f}'.format(g))\n",
    "print('Nuclear-nuclear repulsion energy: {:3.4f}'.format(V_nn))\n",
    "print('Sum of all energy terms for H2: {:3.4f}'.format(e_h2))"
   ]
  },
  {
   "cell_type": "code",
   "execution_count": null,
   "id": "fab99f5b-1ae9-4506-8dd1-f3b2ddce9d9c",
   "metadata": {},
   "outputs": [],
   "source": [
    "# using our derivations for the kinetic and potential energy for the single H atom:\n",
    "T_e_h = -h_h\n",
    "V_en_h = 2.0 * h_h\n",
    "V_ee_h = 0.0 # only one electron, therefore zero elec-elec repulsion\n",
    "V_nn_h = 0.0 # only one nucleus, therefore zero nuc-nuc repulsion\n",
    "\n",
    "print('Estimated energy of an isolated H atom: {:3.4f}'.format(h_h))\n",
    "print('Estimated potential energy of an isolated H atom: {:3.4f}'.format(V_en_h))\n",
    "print('Estimated kinetic energy of an isolated H atom: {:3.4f}'.format(T_e_h))"
   ]
  },
  {
   "cell_type": "code",
   "execution_count": null,
   "id": "bea42259-0f7e-40f3-899e-a08b0c1b619a",
   "metadata": {},
   "outputs": [],
   "source": [
    "# calculating the cost/gain as difference between energies of the H2 molecule and single H atoms\n",
    "print('Cost-gain analysis of bond formation in terms of kinetic energy: {:3.4f}'.format(T_e - T_e_h))\n",
    "print('Cost-gain analysis of bond formation in terms of electron-nuclear attraction: {:3.4f}'.format(V_en - V_en_h))\n",
    "print('Cost-gain analysis of bond formation in terms of electron-electron repulsion: {:3.4f}'.format(g - 2 * V_ee_h))\n",
    "print('Cost-gain analysis of bond formation in terms of nuclear-nuclear repulsion: {:3.4f}'.format(V_nn - 2 * V_nn_h))\n",
    "print()\n",
    "print('Sum of all differences: {:3.4f}'.format(2*(T_e - T_e_h) + 2*(V_en - V_en_h) + (g - 2*V_ee_h) + (V_nn - 2*V_nn_h)))"
   ]
  },
  {
   "cell_type": "markdown",
   "id": "04891530-4e92-4ad4-b557-cf595cc9cac1",
   "metadata": {},
   "source": [
    "By creating a bond between two H atoms, it will be at the cost of introducing elec-elec and nuc-nuc repulsion energies which are zero for the single atoms.\n",
    "However, out calculations show that the increase in elec-nuc attraction energy compensates for the cost, resulting in an overall negative change in energy, meaning that the forming of a bond is favorable."
   ]
  },
  {
   "cell_type": "markdown",
   "id": "2b54d98a-701b-4935-a737-703c506c7376",
   "metadata": {},
   "source": [
    "### 2. Explain the (lack of) coupling between blocks in the CISD Hamiltonian"
   ]
  },
  {
   "cell_type": "markdown",
   "id": "0ee07128-ce3a-412a-a8d4-1ffb09d242ec",
   "metadata": {},
   "source": [
    "Singly excited determinants have overall ungerade symmetry and the doubly excited determinant has overall gerade symmetry, considering the symmetry products of the occupied orbitals. The Hamiltonian has gerade symmetry, and thus the overall symmetry product of the matrix elements of singles and the double is ungerade, and thereby zero.\n",
    "\n",
    "The HF ground state is $\\ket{1 \\bar{1}}$ and the double excited state is $\\ket{2 \\bar{2}}$. The single excited states are $\\ket{2 \\bar{1}}, \\ket{\\bar{2} \\bar{1}}, \\ket{1 2}, \\ket{1 \\bar{2}}$. The HF ground state has two electron in the gerade orbitals and is of g symmetry. The double excited state has two electrons in the ungerade orbitals and is also of g symmetry (\"minus and minus gives plus\"). However, all the single excited states have one electron in the gerade orbital and one in the ungerade orbital, which means that they have u symmetry. Since the single and double excited state do not have the same symmetry they do not couple. Furthermore, the symmetry of the exact ground-state wave function has g symmetry. Therefore, only determinants of g symmetry can appear in the expansion of the exact ground-state wave function, meaning that the CID provides a full CI description"
   ]
  },
  {
   "cell_type": "markdown",
   "id": "incoming-lebanon",
   "metadata": {},
   "source": [
    "### 3. Determine the CID state\n",
    "\n",
    "With $|\\Psi \\rangle$ being a Slater determinant and $\\hat{\\Omega}$ a two-electron operator\n",
    "\n",
    "$$\n",
    "\\hat{\\Omega} = \\sum_{j>i}^N \\hat{\\omega}(i,j)\n",
    "$$\n",
    "\n",
    "the following relations hold for the corresponding integrals\n",
    "\n",
    "\\begin{align*}\n",
    "    \\langle \\Psi | \\hat{\\Omega} | \\Psi \\rangle &=\n",
    "    \\frac{1}{2} \\sum_{i,j}^N\n",
    "    \\left[\\rule{0pt}{12pt}\n",
    "    \\langle ij| \\hat{\\omega} | ij \\rangle - \\langle ij|  \\hat{\\omega} |ji \\rangle\n",
    "    \\right]\n",
    "    \\\\\n",
    "    \\langle \\Psi | \\hat{\\Omega} | \\Psi_{i}^{s} \\rangle &=\n",
    "    \\sum_{j}^N\n",
    "    \\left[\\rule{0pt}{12pt}\n",
    "    \\langle ij|  \\hat{\\omega} |sj \\rangle - \\langle ij|  \\hat{\\omega} |js \\rangle\n",
    "    \\right]\n",
    "    \\\\\n",
    "    \\langle \\Psi | \\hat{\\Omega} | \\Psi_{ij}^{st} \\rangle &=\n",
    "     \\langle ij|  \\hat{\\omega} |st \\rangle - \\langle ij|  \\hat{\\omega} |ts \\rangle\n",
    "\\end{align*}\n",
    "\n",
    "Complete the formula\n",
    "$$\\mathbf{H}^{CID} = \\begin{bmatrix} 2h_{11} + J_{11} & K_{12} \\\\\n",
    "                                    K_{12} & 2h_{22} + J_{22} \\end{bmatrix}$$"
   ]
  },
  {
   "cell_type": "code",
   "execution_count": null,
   "id": "alpine-infrastructure",
   "metadata": {},
   "outputs": [],
   "source": [
    "# define the CID Hamiltonian using the one- and two-electron integrals determined in (1) above\n",
    "H_CID = np.zeros((2,2))\n",
    "\n",
    "H_CID[0,0] = 2 * (T_mat[0,0] + V_mat[0,0]) + g_mat[0,0,0,0]\n",
    "H_CID[1,1] = 2 * (T_mat[1,1] + V_mat[1,1]) + g_mat[1,1,1,1]\n",
    "H_CID[0,1] = g_mat[0,1,0,1]\n",
    "H_CID[1,0] = g_mat[0,1,0,1]\n",
    "\n",
    "print('CID Hamiltonian:\\n', H_CID)\n",
    "\n",
    "# diagonalize the CID Hamiltonian\n",
    "E_CID, V_CID = np.linalg.eigh(H_CID)\n",
    "\n",
    "# get the coefficients\n",
    "c0 = V_CID[0,0]\n",
    "c1 = V_CID[0,1]"
   ]
  },
  {
   "cell_type": "markdown",
   "id": "failing-chain",
   "metadata": {},
   "source": [
    "### 4.  One-particle density\n",
    "\n",
    "The CID state equals\n",
    "$$\n",
    "| \\Psi \\rangle =  c_0 | \\Psi_\\mathrm{HF} \\rangle + c_1 | \\Psi_{u\\bar{u}} \\rangle\n",
    "$$\n",
    "\n",
    "We have\n",
    "$$\n",
    "n(\\mathbf{r}) =\n",
    "\\langle \\Psi | \\hat{n}(\\mathbf{r}) | \\Psi \\rangle\n",
    "$$\n",
    "with\n",
    "$$\n",
    "\\hat{n}(\\mathbf{r}) = \n",
    "\\sum_{i=1}^N\n",
    "\\delta(\\mathbf{r} - \\mathbf{r}_i)\n",
    "$$\n",
    "\n",
    "The general relations for matrix elements of a one-electron operator can now be used\n",
    "\\begin{align*}\n",
    "    \\langle \\Psi | \\hat{\\Omega} | \\Psi \\rangle &=\n",
    "   \\sum_{i=1}^N\n",
    "    \\langle i| \\hat{\\omega} |i \\rangle\n",
    "    \\\\\n",
    "    \\langle \\Psi | \\hat{\\Omega} | \\Psi_{ij}^{st} \\rangle &= 0\n",
    "\\end{align*}\n"
   ]
  },
  {
   "cell_type": "markdown",
   "id": "d890c823-c0cc-4572-8938-f421116271ab",
   "metadata": {},
   "source": [
    "#### Derive the formula for the one-particle density expressed in terms of spatial orbitals\n",
    "Complete the equations\n",
    "$$n^{HF}(\\mathbf{r}) = 2|\\sigma_g(\\mathbf{r})|^2$$\n",
    "\n",
    "$$n^{CID}(\\mathbf{r}) = 2|c_0|^2|\\sigma_g(\\mathbf{r})|^2 + 2|c_1|^2|\\sigma_u(\\mathbf{r})|^2 $$\n"
   ]
  },
  {
   "cell_type": "code",
   "execution_count": null,
   "id": "another-measurement",
   "metadata": {},
   "outputs": [],
   "source": [
    "# visualization driver\n",
    "vis_drv = vlx.VisualizationDriver()"
   ]
  },
  {
   "cell_type": "code",
   "execution_count": null,
   "id": "dangerous-scope",
   "metadata": {},
   "outputs": [],
   "source": [
    "# get the MOs along the z axis\n",
    "mol_orbs = scf_results['C_alpha']\n",
    "\n",
    "n = 100\n",
    "coords = np.zeros((n,3))\n",
    "coords[:,2] = np.linspace(-3, 3, n, endpoint=True)\n",
    "\n",
    "sigma_g = np.array(vis_drv.get_mo(coords, molecule, basis, mol_orbs, 0))\n",
    "sigma_u = np.array(vis_drv.get_mo(coords, molecule, basis, mol_orbs, 1))\n",
    "\n",
    "# implement your formulas\n",
    "n1_HF = 2 * sigma_g**2\n",
    "n1_CID = 2 * c0**2 * sigma_g**2 + 2 * c1**2 * sigma_u**2"
   ]
  },
  {
   "cell_type": "code",
   "execution_count": null,
   "id": "three-provider",
   "metadata": {},
   "outputs": [],
   "source": [
    "fig = plt.figure(figsize = (8,6))\n",
    "\n",
    "plt.title('One-particle densities')\n",
    "plt.plot(coords[:,2], n1_HF, label='HF')\n",
    "plt.plot(coords[:,2], n1_CID, label='CID')\n",
    "plt.xlabel('Internuclear axis coordinate (Bohr)')\n",
    "plt.ylabel('One-particle density (a.u.)')\n",
    "plt.legend()\n",
    "\n",
    "plt.show()"
   ]
  },
  {
   "cell_type": "markdown",
   "id": "3d6cdbd2-3790-40b9-97e2-98d6ecaafef2",
   "metadata": {},
   "source": [
    "#### Discuss how the one-particle densities compare between HF and CID"
   ]
  },
  {
   "cell_type": "markdown",
   "id": "fb8828fd-71ed-449c-9390-2e1795eda553",
   "metadata": {},
   "source": [
    "The densities are very similar. This indicates that the CID correlation correction do not contribute with much extra information on the one-electron description compared to HF."
   ]
  },
  {
   "cell_type": "markdown",
   "id": "formed-albert",
   "metadata": {},
   "source": [
    "### 5. Two-particle density\n",
    "The CID state equals\n",
    "$$\n",
    "| \\Psi \\rangle =  c_0 | \\Psi_\\mathrm{HF} \\rangle + c_1 | \\Psi_{g\\bar{g}}^{u\\bar{u}} \\rangle\n",
    "$$\n",
    "\n",
    "We have\n",
    "$$\n",
    "n(\\mathbf{r}, \\mathbf{r}') =\n",
    "\\langle \\Psi | \\hat{n}(\\mathbf{r}, \\mathbf{r}') | \\Psi \\rangle\n",
    "$$\n",
    "with\n",
    "$$\n",
    "\\hat{n}(\\mathbf{r}, \\mathbf{r}') = \n",
    "\\sum_{j>i}^N \\left[\n",
    "\\delta(\\mathbf{r} - \\mathbf{r}_i) \\delta(\\mathbf{r}' - \\mathbf{r}_j)\n",
    "+\n",
    "\\delta(\\mathbf{r} - \\mathbf{r}_j) \\delta(\\mathbf{r}' - \\mathbf{r}_i)\n",
    "\\right]\n",
    "$$\n",
    "\n",
    "The general relations for matrix elements of a two-electron operator can now be used\n",
    "\\begin{align*}\n",
    "    \\langle \\Psi | \\hat{\\Omega} | \\Psi \\rangle &=\n",
    "    \\frac{1}{2} \\sum_{i,j}^N\n",
    "    \\Big[\n",
    "    \\langle ij| \\hat{\\omega} |ij \\rangle - \\langle ij | \\hat{\\omega} | ji \\rangle\n",
    "    \\Big]\n",
    "    \\\\\n",
    "    \\langle \\Psi | \\hat{\\Omega} | \\Psi_{ij}^{st} \\rangle &=\n",
    "     \\langle ij| \\hat{\\omega} |st \\rangle - \\langle ij| \\hat{\\omega} |ts \\rangle\n",
    "\\end{align*}\n"
   ]
  },
  {
   "cell_type": "markdown",
   "id": "9a92c955-c5ff-4e3a-94b0-83aa07e33a5a",
   "metadata": {},
   "source": [
    "#### Derive the resulting formula for the two-particle density in terms of spatial orbitals\n",
    "Complete the equations\n",
    "\n",
    "$$n^{HF}(\\mathbf{r}, \\mathbf{r}') = 2 | \\sigma_u (\\mathbf{r}) |^2 | \\sigma_u (\\mathbf{r'}) |^2 $$\n",
    "\n",
    "$$n^{CID}(\\mathbf{r}, \\mathbf{r}') = 2|c_0|^2|\\sigma_g(\\mathbf{r})|^2|\\sigma_g(\\mathbf{r}')|^2 + 2|c_1|^2|\\sigma_u(\\mathbf{r})|^2|\\sigma_u(\\mathbf{r}')|^2+2c_0c_1 \\, \\sigma_g^*(\\mathbf{r})\\sigma_g^*(\\mathbf{r}')\\sigma_u(\\mathbf{r})\\sigma_u(\\mathbf{r}')$$\n"
   ]
  },
  {
   "cell_type": "code",
   "execution_count": null,
   "id": "graphic-passing",
   "metadata": {},
   "outputs": [],
   "source": [
    "# electron 1 at the position of the hydrogen nucleus\n",
    "# electron 2 anywhere on the internuclear axis\n",
    "\n",
    "Hz = -0.370500\n",
    "h1 = [[0, 0, Hz]]\n",
    "\n",
    "sigma_g_at_h1 = vis_drv.get_mo(h1, molecule, basis, mol_orbs, 0)[0]\n",
    "sigma_u_at_h1 = vis_drv.get_mo(h1, molecule, basis, mol_orbs, 1)[0]\n",
    "\n",
    "# implement your formulas\n",
    "n12_HF = 2 * sigma_g_at_h1**2 * sigma_g**2\n",
    "n12_CID = 2 * c0**2 * sigma_g_at_h1**2 * sigma_g**2 + 2 * c1**2 * sigma_u_at_h1**2 * sigma_u**2 + 4 * c0*c1 * sigma_g_at_h1 * sigma_g * sigma_u_at_h1 * sigma_u"
   ]
  },
  {
   "cell_type": "code",
   "execution_count": null,
   "id": "proud-collector",
   "metadata": {},
   "outputs": [],
   "source": [
    "fig = plt.figure(figsize = (8,6))\n",
    "\n",
    "plt.plot(coords[:,2], n12_HF)\n",
    "plt.plot(coords[:,2], n12_CID)\n",
    "\n",
    "plt.show()"
   ]
  },
  {
   "cell_type": "markdown",
   "id": "14ad36a5-5770-4c36-ac48-4517967b8b44",
   "metadata": {},
   "source": [
    "#### Discuss how the two-particle densities compare between HF and CID"
   ]
  },
  {
   "cell_type": "markdown",
   "id": "3d521e3c-bf9a-4044-8cbf-b2f2998db699",
   "metadata": {},
   "source": [
    "The two particle densities computed by HF and CID differs quite a lot. The HF two-particle density predicts equal probabilities of finding electron 2 at nucleus A and at nucleus B when electron 1 is found at nucleus A. This is highly unphysical as electrons repel each other by charge. The CID level of theory poses some correction to this as the probability of finding electron 2 at nucleus A is decreased when electron 1 is found at nucleus A, while the probability at nucleus B is increased.\n",
    "The difference arise from the cross-term between the two determinants in $n(\\mathbf{r},\\mathbf{r}')$. "
   ]
  },
  {
   "cell_type": "markdown",
   "id": "8dc4b6fe-b75c-4b97-bc31-1744ac47c124",
   "metadata": {},
   "source": [
    "# THE END"
   ]
  }
 ],
 "metadata": {
  "kernelspec": {
   "display_name": "Python 3 (ipykernel)",
   "language": "python",
   "name": "python3"
  },
  "language_info": {
   "codemirror_mode": {
    "name": "ipython",
    "version": 3
   },
   "file_extension": ".py",
   "mimetype": "text/x-python",
   "name": "python",
   "nbconvert_exporter": "python",
   "pygments_lexer": "ipython3",
   "version": "3.12.9"
  }
 },
 "nbformat": 4,
 "nbformat_minor": 5
}
