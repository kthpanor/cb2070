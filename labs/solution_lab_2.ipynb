{
 "cells": [
  {
   "cell_type": "markdown",
   "metadata": {},
   "source": [
    "# Molecular Quantum Mechanics (CB2070)\n",
    "\n",
    "## SOLUTION Computer lab 2: Fock matrices and the SCF procedure\n",
    "---\n",
    "Name: J.H. Andersen with stolen content from VT24 and VT25 student submissions\n",
    "\n",
    "Date: July 2025\n",
    "\n",
    "---"
   ]
  },
  {
   "cell_type": "code",
   "execution_count": null,
   "metadata": {},
   "outputs": [],
   "source": [
    "import veloxchem as vlx\n",
    "\n",
    "import numpy as np\n",
    "import matplotlib.pyplot as plt\n",
    "\n",
    "# format the numpy array printout\n",
    "np.set_printoptions(precision=8, suppress=True, linewidth=132)"
   ]
  },
  {
   "cell_type": "code",
   "execution_count": null,
   "metadata": {},
   "outputs": [],
   "source": [
    "mol_str = \"\"\"\n",
    "    H    0.0000    0.7604    0.7295\n",
    "    H    0.0000   -0.7604    0.7295\n",
    "    O    0.0000    0.0000    0.1410\n",
    "\"\"\"\n",
    "\n",
    "molecule = vlx.Molecule.read_str(mol_str, units='angstrom')\n",
    "basis = vlx.MolecularBasis.read(molecule, \"cc-pvdz\")\n",
    "\n",
    "n = basis.get_dimensions_of_basis()\n",
    "print('Number of contracted basis functions:', n)\n",
    "\n",
    "nocc = molecule.number_of_electrons() // 2\n",
    "print('Number of occupied MOs:', nocc)"
   ]
  },
  {
   "cell_type": "markdown",
   "metadata": {},
   "source": [
    "### 1. SCF optimization"
   ]
  },
  {
   "cell_type": "code",
   "execution_count": null,
   "metadata": {},
   "outputs": [],
   "source": [
    "scf_drv = vlx.ScfRestrictedDriver()\n",
    "scf_drv.ostream.mute()\n",
    "scf_results = scf_drv.compute(molecule, basis)\n",
    "\n",
    "# list the keys in the SCF result dictionary\n",
    "print('Keys in the SCF result dictionary:')\n",
    "for key in scf_results.keys():\n",
    "    print('\\t' + key)\n",
    "\n",
    "# obtain tensors\n",
    "E = scf_results['E_alpha']\n",
    "C = scf_results['C_alpha']\n",
    "D = scf_results['D_alpha']\n",
    "F = scf_results['F_alpha']\n",
    "S = scf_results['S']\n",
    "\n",
    "print('\\nC, D, F, S matrix shapes:\\n', np.shape(C), np.shape(D), np.shape(F), np.shape(S))"
   ]
  },
  {
   "cell_type": "markdown",
   "metadata": {},
   "source": [
    "### 2. Diagonalize the overlap matrix, S\n",
    "\n",
    "Complete the formula\n",
    "$$\n",
    "\\mathbf{S}_\\mathrm{diag} = \\mathbf{U}^\\dagger \\mathbf{S} \\mathbf{U}\n",
    "$$"
   ]
  },
  {
   "cell_type": "code",
   "execution_count": null,
   "metadata": {},
   "outputs": [],
   "source": [
    "# Implement the formula\n",
    "sigma, U = np.linalg.eigh(S)"
   ]
  },
  {
   "cell_type": "code",
   "execution_count": null,
   "metadata": {},
   "outputs": [],
   "source": [
    "# Check that all eigenvalues are positive\n",
    "print(sigma > 0.0)"
   ]
  },
  {
   "cell_type": "code",
   "execution_count": null,
   "metadata": {},
   "outputs": [],
   "source": [
    "# Verify that U*U = I\n",
    "\n",
    "# this can be done with matmul\n",
    "UdagU = np.matmul(U.T, U)\n",
    "print(np.diag(UdagU))\n",
    "\n",
    "# ...or einsum\n",
    "#UdagU = np.einsum(\"ki,kj->ij\", U, U)\n",
    "#print(np.diag(UdagU))\n",
    "\n",
    "print(\"Matrices are equal to a 1.0e-6 threshold:\", np.allclose(UdagU, np.identity(n), atol=1.0e-6))"
   ]
  },
  {
   "cell_type": "markdown",
   "metadata": {},
   "source": [
    "### 3. The non-unitary Hermitian transformation matrix\n",
    "Complete the formula\n",
    "\n",
    "$$\n",
    "\\mathbf{X} =  \\mathbf{S^{-1/2}} = \\mathbf{U} \\mathbf{S}_\\mathrm{diag}^{-1/2} \\mathbf{U}^{\\dagger}\n",
    "$$\n",
    "\n",
    "This is valid from following argument:\n",
    "\n",
    "Let $\\mathbf{A}$ be a matrix with the decomposition $\\mathbf{U}^{\\dagger} A \\mathbf{U}  = \\mathbf{A}_\\mathrm{diag} \\implies A = \\mathbf{U} \\mathbf{A}_\\mathrm{diag} \\mathbf{U}^{\\dagger} $. Then a function of $A$ can be written as,\n",
    "\n",
    "$$\n",
    "f(\\mathbf{A}) = \\sum_{n=0}^{\\infty} a_n (\\mathbf{A})^n = \\sum_{n=0}^{\\infty} a_n (\\mathbf{U} \\mathbf{A}_\\mathrm{diag} \\mathbf{U}^{\\dagger})^n \n",
    "$$\n",
    "\n",
    "For $n=2$, the matrix product is expanded, $(\\mathbf{U} \\mathbf{A}_\\mathrm{diag} \\mathbf{U}^{\\dagger})^2 = \\mathbf{U} \\mathbf{A}_\\mathrm{diag} \\mathbf{U}^{\\dagger} \\mathbf{U} \\mathbf{A}_\\mathrm{diag} \\mathbf{U}^{\\dagger} = \\mathbf{U} \\mathbf{A}_\\mathrm{diag}^2 \\mathbf{U}^{\\dagger}$, since $\\mathbf{U}^{\\dagger} \\mathbf{U} = 1$. This holds for any $n$, and thus\n",
    "\n",
    "$$\n",
    "f(\\mathbf{A}) = \\sum_{n=0}^{\\infty} a_n  \\mathbf{U} (\\mathbf{A}_\\mathrm{diag})^n \\mathbf{U}^{\\dagger} = \\mathbf{U} \\left[ \\sum_{n=0}^{\\infty} a_n (\\mathbf{A}_\\mathrm{diag})^n \\right] \\mathbf{U}^{\\dagger} = \\mathbf{U} f(\\mathbf{A}_\\mathrm{diag} ) \\mathbf{U}^{\\dagger}\n",
    "$$\n",
    "\n"
   ]
  },
  {
   "cell_type": "code",
   "execution_count": null,
   "metadata": {},
   "outputs": [],
   "source": [
    "# Implement the formula\n",
    "\n",
    "# determine X from the unitary transformation matrix and eigenvalues of S\n",
    "\n",
    "# with matmul\n",
    "X = np.matmul(U, np.matmul(np.diag(1.0 / np.sqrt(sigma)) , U.T) )\n",
    "\n",
    "# ...or with einsum\n",
    "#X = np.einsum(\"ik,k,jk->ij\", U, 1 / np.sqrt(sigma), U)\n"
   ]
  },
  {
   "cell_type": "markdown",
   "metadata": {},
   "source": [
    "### 4. The transformed Fock matrix\n",
    "\n",
    "We define a new set of basis functions\n",
    "\n",
    "$$\n",
    "| \\tilde{\\chi}_\\alpha \\rangle = \\sum_\\beta |\\chi_\\beta \\rangle X_{\\beta\\alpha};\\quad\n",
    "|\\tilde{\\boldsymbol{\\chi}} \\rangle = |\\boldsymbol{\\chi} \\rangle \\mathbf{X}\n",
    "$$"
   ]
  },
  {
   "cell_type": "markdown",
   "metadata": {},
   "source": [
    "#### 4.a Derive the relation between MO coefficients in the original and new basis sets.\n",
    "\n",
    "MO coefficients in the original basis set are collected in the matrix $\\mathbf{C}$,\n",
    "\n",
    "$$\n",
    "%| \\phi_a \\rangle = \\sum_\\alpha  C_{\\alpha a} |\\chi_{\\alpha} \\rangle;\\quad\n",
    "|{\\boldsymbol{\\phi}} \\rangle = |\\boldsymbol{\\chi} \\rangle \\mathbf{C}\n",
    "$$\n",
    "\n",
    "Multiplying by the inverse of $\\mathbf{X}$ from the right in the equation defining the new basis:\n",
    "\n",
    "$$\n",
    "|\\tilde{\\boldsymbol{\\chi}} \\rangle \\mathbf{X}^{-1} = |\\boldsymbol{\\chi} \\rangle \\mathbf{X} \\mathbf{X}^{-1} = |\\boldsymbol{\\chi} \\rangle\n",
    "$$\n",
    "\n",
    "We can then write\n",
    "\n",
    "$$\n",
    "|{\\boldsymbol{\\phi}} \\rangle = |\\tilde{\\boldsymbol{\\chi}} \\rangle \\mathbf{X}^{-1} \\mathbf{C}\n",
    "$$\n",
    "\n",
    "which defines the MO coefficients for the new set of basis functions:\n",
    "\n",
    "$$\n",
    "\\mathbf{C'} = \\mathbf{X}^{-1} \\mathbf{C}\n",
    "$$"
   ]
  },
  {
   "cell_type": "markdown",
   "metadata": {},
   "source": [
    "#### 4.b Derive the transformation of the Fock matrix.\n",
    "In the original basis, the Fock matrix reads\n",
    "\n",
    "$$\n",
    "\\mathbf{F} \\mathbf{C} = \\mathbf{S} \\mathbf{C} \\boldsymbol{\\varepsilon}\n",
    "$$\n",
    "\n",
    "Substituting $\\mathbf{C} = \\mathbf{X} \\mathbf{C'}$ in the Fock equation\n",
    "\n",
    "$$\n",
    "\\mathbf{F} \\mathbf{X} \\mathbf{C'} = \\mathbf{S} \\mathbf{X} \\mathbf{C'} \\boldsymbol{\\varepsilon}\n",
    "$$\n",
    "\n",
    "and multiplying from the left by $\\mathbf{X}^{\\dagger}$\n",
    "\n",
    "$$\n",
    "\\mathbf{X}^{\\dagger} \\mathbf{F} \\mathbf{X} \\mathbf{C'} = \\mathbf{X}^{\\dagger} \\mathbf{S} \\mathbf{X} \\mathbf{C'} \\boldsymbol{\\varepsilon}\n",
    "$$\n",
    "\n",
    "If the Fock-equation should be transformed into an eigenvalue equation, $\\mathbf{X}^{\\dagger} \\mathbf{S} \\mathbf{X}$ must be equal to the identity matrix in agreement with $\\mathbf{X} = \\mathbf{S}^{-1/2}$,\n",
    "\n",
    "$$\n",
    "(\\mathbf{S^{-1/2}})^{\\dagger} \\mathbf{S} \\mathbf{S^{-1/2}} = \\mathbf{S^{-1/2}} \\mathbf{S} \\mathbf{S^{-1/2}} = \\mathbb{1}\n",
    "$$\n",
    "\n",
    "where the first equality is due to the overlap matrix being Hermitian. Thus, the transformed Fock equation reads\n",
    "\n",
    "$$\n",
    "\\mathbf{F}' \\mathbf{C'} = \\mathbf{C'} \\boldsymbol{\\varepsilon}\n",
    "$$\n",
    "\n",
    "where the transformed Fock matrix is defined as,\n",
    "\n",
    "$$\n",
    "\\mathbf{F}' = \\mathbf{X}^{\\dagger} \\mathbf{F} \\mathbf{X}\n",
    "$$"
   ]
  },
  {
   "cell_type": "code",
   "execution_count": null,
   "metadata": {},
   "outputs": [],
   "source": [
    "# Implement the transformation of the Fock matrix\n",
    "\n",
    "# with matmul\n",
    "F_prime = np.matmul(X.T, np.matmul(F, X))\n",
    "\n",
    "# ...or with einsum\n",
    "#F_prime = np.einsum(\"ik,kl,lj->ij\", X, F, X)"
   ]
  },
  {
   "cell_type": "markdown",
   "metadata": {},
   "source": [
    "### 5. Solve the transformed HF equation"
   ]
  },
  {
   "cell_type": "code",
   "execution_count": null,
   "metadata": {},
   "outputs": [],
   "source": [
    "# Implement the diagonalization of the transformed Fock matrix\n",
    "epsilon, C_prime = np.linalg.eigh(F_prime)"
   ]
  },
  {
   "cell_type": "markdown",
   "metadata": {},
   "source": [
    "### 6. Determine the MO coefficients in the original basis from the transformed MO coefficients"
   ]
  },
  {
   "cell_type": "code",
   "execution_count": null,
   "metadata": {},
   "outputs": [],
   "source": [
    "# Implement the transformation of C'\n",
    "\n",
    "# with matmul\n",
    "C_orig = np.matmul(X, C_prime)\n",
    "\n",
    "# ...or with einsum\n",
    "#C_orig = np.einsum('ki, kj -> ij', X, C_prime)"
   ]
  },
  {
   "cell_type": "markdown",
   "metadata": {},
   "source": [
    "### 7. Determine the density matrix\n",
    "\n",
    "Complete the formula\n",
    "\n",
    "$$\n",
    "D_{\\alpha\\beta} = \\sum_{i=1}^N = C_{\\alpha i}^* C_{\\beta i} \n",
    "$$\n",
    "\n",
    "where $N$ is the number of electrons in the system. Since we are treating only the $\\alpha$ spins, in practice we sum over $N/2$."
   ]
  },
  {
   "cell_type": "code",
   "execution_count": null,
   "metadata": {},
   "outputs": [],
   "source": [
    "# Implement the calculation of the density matrix\n",
    "\n",
    "# with matmul\n",
    "D_new = np.matmul(C_orig[:, :nocc], C_orig[:, :nocc].T)\n",
    "\n",
    "# ...or with einsum\n",
    "#D_new = np.einsum('ai, bi -> ab', C_orig[:,:nocc], C_orig[:,:nocc])\n"
   ]
  },
  {
   "cell_type": "markdown",
   "metadata": {},
   "source": [
    "#### Compare your density matrix with that from the previous SCF calculation. Has the SCF procedure converged?"
   ]
  },
  {
   "cell_type": "code",
   "execution_count": null,
   "metadata": {},
   "outputs": [],
   "source": [
    "# compare the density matrices\n",
    "print(\"Matrices are equal to a 1.0e-7 threshold:\", np.allclose(D, D_new, atol=1.0e-7))"
   ]
  },
  {
   "cell_type": "markdown",
   "metadata": {},
   "source": [
    "The density matrices have converged to a threshold of $10^{-7}$. This was expected since the original density matrix is taken from a converged SCF calculation."
   ]
  },
  {
   "cell_type": "markdown",
   "metadata": {},
   "source": [
    "## THE END"
   ]
  }
 ],
 "metadata": {
  "kernelspec": {
   "display_name": "Python 3 (ipykernel)",
   "language": "python",
   "name": "python3"
  },
  "language_info": {
   "codemirror_mode": {
    "name": "ipython",
    "version": 3
   },
   "file_extension": ".py",
   "mimetype": "text/x-python",
   "name": "python",
   "nbconvert_exporter": "python",
   "pygments_lexer": "ipython3",
   "version": "3.12.9"
  }
 },
 "nbformat": 4,
 "nbformat_minor": 4
}
