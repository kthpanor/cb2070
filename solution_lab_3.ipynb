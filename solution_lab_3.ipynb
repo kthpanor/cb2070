{
 "cells": [
  {
   "cell_type": "markdown",
   "id": "precious-michael",
   "metadata": {},
   "source": [
    "# Molecular Quantum Mechanics (CB2070)\n",
    "## SOLUTION Computer lab 3: Dissociation of covalent bonds\n",
    "---\n",
    "Name: J.H. Andersen with stolen content from VT24 and VT25 student submissions\n",
    "\n",
    "Date: July 2025\n",
    "\n",
    "---"
   ]
  },
  {
   "cell_type": "code",
   "execution_count": null,
   "id": "a32c960e-782d-460b-8634-1777610abb2e",
   "metadata": {},
   "outputs": [],
   "source": [
    "import veloxchem as vlx\n",
    "import numpy as np\n",
    "import matplotlib.pyplot as plt\n",
    "from scipy import interpolate\n",
    "import os\n",
    "os.environ[\"KMP_DUPLICATE_LIB_OK\"]=\"TRUE\""
   ]
  },
  {
   "cell_type": "code",
   "execution_count": null,
   "id": "807583a1-3962-4ce2-8b48-0152941e16e4",
   "metadata": {},
   "outputs": [],
   "source": [
    "mol_str = \"\"\"\n",
    "H     0.000000    0.000000   -0.370500\n",
    "H     0.000000    0.000000    0.370500\n",
    "\"\"\"\n",
    "molecule = vlx.Molecule.read_str(mol_str, units='angstrom')"
   ]
  },
  {
   "cell_type": "markdown",
   "id": "alien-transport",
   "metadata": {},
   "source": [
    "### 1.a Calculate the HF ground state"
   ]
  },
  {
   "cell_type": "code",
   "execution_count": null,
   "id": "vertical-start",
   "metadata": {
    "scrolled": true,
    "tags": []
   },
   "outputs": [],
   "source": [
    "scf_hf_drv = vlx.ScfRestrictedDriver()\n",
    "basis = vlx.MolecularBasis.read(molecule, 'sto-3g')\n",
    "scf_hf_results = scf_hf_drv.compute(molecule, basis)"
   ]
  },
  {
   "cell_type": "markdown",
   "id": "99174d4a-d903-4a8e-a367-af4a34b22675",
   "metadata": {},
   "source": [
    "### 1.b Plot the bonding, $\\sigma_g$, and anti-bonding, $\\sigma_u$, molecular orbitals"
   ]
  },
  {
   "cell_type": "code",
   "execution_count": null,
   "id": "cb7a544e-3e1b-4f95-a324-619c11523cdd",
   "metadata": {},
   "outputs": [],
   "source": [
    "# setup the visualization driver\n",
    "vis_drv = vlx.VisualizationDriver()\n",
    "\n",
    "# get the MO values and plot\n",
    "mol_orbs = scf_hf_results['C_alpha']\n",
    "\n",
    "# define the nuclear distance range we want to plot\n",
    "n = 200\n",
    "r = np.linspace(-4, 4, n)\n",
    "z_coords = np.zeros((n,3))\n",
    "z_coords[:, 2] = r  # radial points along the z-axis\n",
    "\n",
    "## z direction\n",
    "# get the values of orbitals: we have five fully occupied MOs\n",
    "mo_1s_g = np.array(vis_drv.get_mo(z_coords, molecule, basis, mol_orbs, 0))\n",
    "mo_1s_u = np.array(vis_drv.get_mo(z_coords, molecule, basis, mol_orbs, 1))\n",
    "\n",
    "# adjust signs\n",
    "mo_1s_g = np.sign(mo_1s_g[10]) * mo_1s_g\n",
    "mo_1s_u = np.sign(mo_1s_u[10]) * mo_1s_u"
   ]
  },
  {
   "cell_type": "code",
   "execution_count": null,
   "id": "a130f4be-ca62-4753-8fc9-6f18f9fbc40a",
   "metadata": {},
   "outputs": [],
   "source": [
    "plt.figure(figsize=(5,3))\n",
    "\n",
    "# Along z-axis\n",
    "plt.plot(r, mo_1s_g, label = '$\\\\sigma_g$', color='b')\n",
    "plt.plot(r, mo_1s_u, label = '$\\\\sigma_u$', color='r')\n",
    "plt.axhline(color='k', linewidth=0.5)\n",
    "plt.axvline(0.0, color='k', linewidth=0.5)\n",
    "plt.title(r'RHF Molecular orbitals')\n",
    "plt.xlabel(r'Internuclear distance (Angstrom)')\n",
    "plt.ylabel(r'Orbital value (a.u.)')\n",
    "plt.xlim([-3.0, 3.0])\n",
    "plt.legend()\n",
    "\n",
    "plt.show()"
   ]
  },
  {
   "cell_type": "markdown",
   "id": "experimental-bloom",
   "metadata": {},
   "source": [
    "#### Discuss what you see in terms of the underlying LCAO"
   ]
  },
  {
   "cell_type": "markdown",
   "id": "fd3c8003-ac46-469c-a297-534c5588c8bd",
   "metadata": {},
   "source": [
    "The symmetric $(\\sigma_g)$ and antisymmetric $(\\sigma_u)$ linear combinations of two 1s orbitals located on the two nuclei, respectively, are observed."
   ]
  },
  {
   "cell_type": "markdown",
   "id": "regular-worth",
   "metadata": {},
   "source": [
    "### 2. One-particle densities"
   ]
  },
  {
   "cell_type": "code",
   "execution_count": null,
   "id": "aa4a61c2-59a0-46df-8be4-52fb3700c0d4",
   "metadata": {},
   "outputs": [],
   "source": [
    "# calculate the densities and plot\n",
    "# one-particle densities at given coordinates\n",
    "one_part_g_den_z = mo_1s_g**2.0 # ground state density\n",
    "one_part_u_den_z = mo_1s_u**2.0 # doubly excited state density"
   ]
  },
  {
   "cell_type": "code",
   "execution_count": null,
   "id": "5df0d35b-0442-431f-ae4e-eb9d9dbe276f",
   "metadata": {},
   "outputs": [],
   "source": [
    "plt.figure(figsize=(5,4))\n",
    "\n",
    "plt.plot(r, one_part_g_den_z, lw=2, label=r\"$n^\\alpha_g({r})$\")\n",
    "plt.plot(r, one_part_u_den_z, lw=2, label=r'$n^\\alpha_u({r})$')\n",
    "plt.axhline(color='k', linewidth=0.5)\n",
    "plt.axvline(0.0, color='k', linewidth=0.5)\n",
    "plt.xlim([-2,2])\n",
    "plt.title(r'One-particle densities')\n",
    "plt.xlabel(r'RHF Internuclear distance (Angstrom)')\n",
    "plt.ylabel(r'One-particle density (a.u.)')\n",
    "plt.legend()\n",
    "\n",
    "plt.show()"
   ]
  },
  {
   "cell_type": "markdown",
   "id": "virgin-politics",
   "metadata": {},
   "source": [
    "#### Discuss the key feature difference in these densities that explains covalent bonding"
   ]
  },
  {
   "cell_type": "markdown",
   "id": "3d0ee9a5-843e-423a-8f2d-68c2730a600b",
   "metadata": {},
   "source": [
    "The gerade orbital, $\\sigma_g$, has density between the two nuclei while the ungerade orbital, $\\sigma_u$ has zero density in the midpoint between the two nuclei meaning that there is no bonding between the nuclei in this situation. This is why they are referred to as bonding and anti-bonding, respectively."
   ]
  },
  {
   "cell_type": "markdown",
   "id": "343d7085-afc2-438c-891c-31adb1917b9b",
   "metadata": {},
   "source": [
    "### 3. Create a potential energy curve"
   ]
  },
  {
   "cell_type": "code",
   "execution_count": null,
   "id": "supported-advertiser",
   "metadata": {
    "scrolled": true
   },
   "outputs": [],
   "source": [
    "# OBS this code is complete\n",
    "scf_hf_drv.ostream.mute()\n",
    "\n",
    "basis_set = \"6-311G\"\n",
    "\n",
    "# Atomic coordinates in units of Bohr\n",
    "template =\"\"\"\n",
    "H    0.0000    0.0000    0.0000\n",
    "H    0.0000    0.0000    \"\"\"\n",
    "\n",
    "n = 20\n",
    "hf_energies = []\n",
    "distances = np.linspace(0.7, 10.0, n)\n",
    "\n",
    "for d in distances:\n",
    "    mol_str = template + str(d)\n",
    "    molecule = vlx.Molecule.read_str(mol_str, units='au')\n",
    "    basis = vlx.MolecularBasis.read(molecule, basis_set)\n",
    "    \n",
    "    scf_tmp_results = scf_hf_drv.compute(molecule, basis)\n",
    "    hf_energies.append(scf_hf_drv.get_scf_energy())"
   ]
  },
  {
   "cell_type": "code",
   "execution_count": null,
   "id": "73b85227-cb73-4a26-a584-66da982078b8",
   "metadata": {},
   "outputs": [],
   "source": [
    "# we are asked to shift the energy such that the energy minimum energy defines the zero level\n",
    "# therefore, when we\n",
    "\n",
    "# interpolate the data points\n",
    "hf_energies_ev = np.array(hf_energies) * vlx.hartree_in_ev()\n",
    "rhf_spline_func = interpolate.CubicSpline(distances, hf_energies_ev)\n",
    "\n",
    "d = np.linspace(0.5, 12, num=1000)\n",
    "rhf_spline = rhf_spline_func(d)\n",
    "e_min = rhf_spline.min()\n",
    "\n",
    "# plot the data points and the interpolation\n",
    "plt.figure(figsize = (8,3))\n",
    "\n",
    "plt.subplot(1,2,1)\n",
    "plt.plot(d, rhf_spline-e_min, label='cubic interpolation')\n",
    "plt.plot(distances, hf_energies_ev-e_min, 'rx', markersize=6, label = '(R,E)')\n",
    "plt.xlim([0.6,11.0])\n",
    "plt.xlabel('Internuclear distance (Bohr)')\n",
    "plt.ylabel('SCF energy (eV)')\n",
    "plt.legend()\n",
    "\n",
    "# zoom in on the well to decide region to add more points\n",
    "plt.subplot(1,2,2)\n",
    "plt.plot(d, rhf_spline-e_min)\n",
    "plt.plot(distances, hf_energies_ev-e_min, 'rx')\n",
    "plt.xlim([0.8,2.5])\n",
    "plt.ylim([-1, 7])\n",
    "plt.xlabel('Internuclear distance (Bohr)')\n",
    "plt.ylabel('SCF energy (eV)')\n",
    "\n",
    "plt.suptitle('RHF PEC')\n",
    "plt.tight_layout()\n",
    "plt.show()"
   ]
  },
  {
   "cell_type": "code",
   "execution_count": null,
   "id": "f9316691-9f68-4119-b215-226ed47216f0",
   "metadata": {},
   "outputs": [],
   "source": [
    "# here iterate to apply denser grid in well\n",
    "\n",
    "# energy minimum between 1.1 and 1.6, so applying denser grid \n",
    "hf_energies = []\n",
    "distances = np.linspace(0.7, 10.0, n)\n",
    "well = np.linspace(1.1, 1.6, n//2)\n",
    "distances = np.append(distances, well)\n",
    "distances = np.sort(distances)\n",
    "\n",
    "for d in distances:\n",
    "    mol_str = template + str(d)\n",
    "    molecule = vlx.Molecule.read_str(mol_str, units='au')\n",
    "    basis = vlx.MolecularBasis.read(molecule, basis_set)\n",
    "    \n",
    "    scf_tmp_results = scf_hf_drv.compute(molecule, basis)\n",
    "    hf_energies.append(scf_hf_drv.get_scf_energy())\n",
    "\n",
    "hf_energies_ev = np.array(hf_energies) * vlx.hartree_in_ev()\n",
    "rhf_spline_func = interpolate.CubicSpline(distances, hf_energies_ev)\n",
    "\n",
    "d = np.linspace(0.5, 12, num=1000)\n",
    "rhf_spline = rhf_spline_func(d)\n",
    "e_min = rhf_spline.min()\n",
    "\n",
    "# plot the data points and the interpolation\n",
    "plt.figure(figsize = (8,3))\n",
    "\n",
    "plt.subplot(1,2,1)\n",
    "plt.plot(d, rhf_spline-e_min, label='cubic interpolation')\n",
    "plt.plot(distances, hf_energies_ev-e_min, 'rx', markersize=6, label = '(R,E)')\n",
    "plt.xlim([0.6,11.0])\n",
    "plt.xlabel('Internuclear distance (Bohr)')\n",
    "plt.ylabel('SCF energy (eV)')\n",
    "plt.legend()\n",
    "\n",
    "# zoom in on the well to decide region to add more points\n",
    "plt.subplot(1,2,2)\n",
    "plt.plot(d, rhf_spline-e_min)\n",
    "plt.plot(distances, hf_energies_ev-e_min, 'rx')\n",
    "plt.xlim([0.8,2.5])\n",
    "plt.ylim([-1, 7])\n",
    "plt.xlabel('Internuclear distance (Bohr)')\n",
    "plt.ylabel('SCF energy (eV)')\n",
    "\n",
    "plt.suptitle('RHF PEC')\n",
    "plt.tight_layout()\n",
    "plt.show()"
   ]
  },
  {
   "cell_type": "markdown",
   "id": "frozen-daily",
   "metadata": {},
   "source": [
    "### 4. Determine the equilibrium bond length and compare to experiment\n",
    "\\**Tip: add more distance points in the well of the PEC and run the calculation from (3.) again*\n",
    "\n",
    "\\**OBS: the equilibrium bond length is the minimum of the interpolation curve*"
   ]
  },
  {
   "cell_type": "code",
   "execution_count": null,
   "id": "28244235-d265-4161-9f08-b17fbd3e6521",
   "metadata": {},
   "outputs": [],
   "source": [
    "# determine equilibrium distance from min(E)\n",
    "energy_spline = rhf_spline_func(d)\n",
    "min_index = np.where(energy_spline == min(energy_spline))\n",
    "R_equi = d[min_index][0]\n",
    "\n",
    "print(f'Equilibrium distance from RHF: {R_equi * vlx.bohr_in_angstrom():2.4f} Angstrom')"
   ]
  },
  {
   "cell_type": "markdown",
   "id": "27e7535d-6cc2-4c58-97ac-7bd56f561bc0",
   "metadata": {},
   "source": [
    "The equilibrium bond length has been determined to be 0.734 Angstrom. The experimental value is 0.741 Angstrom. Our calculations underestimate the bond length. This error arises from the ionic contributions in the HF wavefunction\n",
    "\n",
    "$$\n",
    "| \\Psi_{HF} \\rangle = \\frac{1}{2} \\left[ | \\psi_{A}, \\psi_{\\bar{A}} \\rangle + | \\psi_{B}, \\psi_{\\bar{B}} \\rangle + | \\psi_{A} , \\psi_{\\bar{B}} \\rangle + | \\psi_{B} , \\psi_{\\bar{A}} \\rangle\\right]\n",
    "$$\n",
    "\n",
    "which creates an unphysical attraction that pulls the two nuclei too close to eachother."
   ]
  },
  {
   "cell_type": "markdown",
   "id": "saved-oliver",
   "metadata": {},
   "source": [
    "### 5. Determine the bond energy from the HF calculation"
   ]
  },
  {
   "cell_type": "code",
   "execution_count": null,
   "id": "1d490305-b7a6-4667-abd1-9e87c05c733c",
   "metadata": {},
   "outputs": [],
   "source": [
    "# we estimate the bond energy to be the energy difference between the minimum and the energy at the longest interatomic distance we have computed\n",
    "e_bond = rhf_spline[-1] - e_min\n",
    "print(f\"Bond energy estimate from RHF: {e_bond:2.4f} eV\")"
   ]
  },
  {
   "cell_type": "markdown",
   "id": "f6ef27f3-9217-4d08-a925-0acfc02b96b8",
   "metadata": {},
   "source": [
    "The bond energy is not well-defined in the RHF calculation since the dissociation limit is poorly described due to the ionic terms of the wavefunction. The two charged elements will attract each other in the dissociation limit but physically no such Coulombic interaction should be found since the dissociation is homolytic.\n",
    "\n",
    "The estimated bond energy is 10.20 eV. This is much higher than the experimental result which is defined as the energy difference between the dihydrogen molecule at the equilibrium bond distance and two atomic hydrogens, that is 4.478 eV. The coulombic interaction between the fragments ionic fragments in the HF description hinders the dissociation."
   ]
  },
  {
   "cell_type": "markdown",
   "id": "talented-surge",
   "metadata": {},
   "source": [
    "### 6. Create a UHF potential energy curve"
   ]
  },
  {
   "cell_type": "code",
   "execution_count": null,
   "id": "expected-addition",
   "metadata": {},
   "outputs": [],
   "source": [
    "basis_set = \"6-311G\"\n",
    "scf_uhf_drv = vlx.ScfUnrestrictedDriver()\n",
    "scf_uhf_drv.ostream.mute()\n",
    "\n",
    "uhf_energies = []\n",
    "\n",
    "# Atomic coordinates in units of Bohr\n",
    "template =\"\"\"\n",
    "H    0.0000    0.0000    0.0000\n",
    "H    0.0000    0.0000    \"\"\"\n",
    "\n",
    "n = 20\n",
    "hf_energies = []\n",
    "distances = np.linspace(0.7, 10.0, n)\n",
    "\n",
    "for d in distances:\n",
    "    mol_str = template + str(d)\n",
    "    molecule = vlx.Molecule.read_str(mol_str, units='au')\n",
    "    molecule.set_multiplicity(3)\n",
    "    basis = vlx.MolecularBasis.read(molecule, basis_set)\n",
    "    \n",
    "    scf_tmp_results = scf_uhf_drv.compute(molecule, basis)\n",
    "    uhf_energies.append(scf_uhf_drv.get_scf_energy())"
   ]
  },
  {
   "cell_type": "code",
   "execution_count": null,
   "id": "ad0cc735-6e69-419c-b036-8465da89dc5c",
   "metadata": {},
   "outputs": [],
   "source": [
    "# plot the two PECs together\n",
    "plt.figure(figsize = (12,3))\n",
    "\n",
    "uhf_energies_ev = np.array(uhf_energies) * vlx.hartree_in_ev()\n",
    "uhf_spline_func = interpolate.CubicSpline(distances, uhf_energies_ev)\n",
    "d = np.linspace(0.5, 12, num=1000)\n",
    "uhf_spline = uhf_spline_func(d)\n",
    "uhf_e_min = uhf_spline.min()\n",
    "\n",
    "plt.subplot(1,3,1)\n",
    "plt.plot(d, uhf_spline-e_min, label='UHF cubic interp.')\n",
    "plt.plot(distances, uhf_energies_ev-e_min, 'rx', markersize=6, label = 'UHF (R,E)')\n",
    "plt.xlim([0.6,11.0])\n",
    "plt.xlabel('Internuclear distance (Bohr)')\n",
    "plt.ylabel('SCF energy (eV)')\n",
    "plt.legend()\n",
    "\n",
    "plt.subplot(1,3,2)\n",
    "plt.plot(d, uhf_spline-e_min, label='UHF')\n",
    "plt.plot(d, rhf_spline-e_min, label='RHF')\n",
    "plt.xlim([0.5, 3.2])\n",
    "# plt.ylim([-31, -26])\n",
    "plt.xlabel('Internuclear distance (Bohr)')\n",
    "plt.title('Narrowed distance range')\n",
    "plt.legend()\n",
    "\n",
    "plt.subplot(1,3,3)\n",
    "plt.plot(d, uhf_spline-e_min, label='UHF')\n",
    "plt.plot(d, rhf_spline-e_min, label='RHF')\n",
    "plt.xlim([0.6,11.0])\n",
    "plt.xlabel('Internuclear distance (Bohr)')\n",
    "plt.legend()\n",
    "\n",
    "plt.suptitle('H2 PEC')\n",
    "plt.tight_layout()\n",
    "plt.show()"
   ]
  },
  {
   "cell_type": "code",
   "execution_count": null,
   "id": "6986e941-0330-48ff-9e93-6a7d3e3b9ba1",
   "metadata": {},
   "outputs": [],
   "source": [
    "# estimate the bond energy as the difference between the RHF minimum and the UHF energy at the long internuclear distance\n",
    "e_bond = uhf_spline[-1] - e_min\n",
    "print(f\"Bond energy estimate from RHF: {e_bond:2.4f} eV\")"
   ]
  },
  {
   "cell_type": "markdown",
   "id": "dd5823f8-1223-4885-807c-8125a26c7656",
   "metadata": {},
   "source": [
    "#### Compare the PECs"
   ]
  },
  {
   "cell_type": "markdown",
   "id": "41dbc441-6c10-4c1a-b272-f8e5b7e8378d",
   "metadata": {},
   "source": [
    "The potential curve for UHF shows no bonding interaction between the two hydrogen atoms, thus no bond energy can be calculated. To obtain the UHF curves illustrated in the literature, the appropiate method is called symmetry-broken UHF.\n",
    "\n",
    "*The following is likely to be a flawed reflection*\n",
    "\n",
    "In the UHF calculations where we force the system to be a triplet, we are basically faking a system of two separate H atoms, which is closer to how the dissociation behaves near bond breaking. \n",
    "\n",
    "The bond energy estimated from the difference between RHF and UHF minimum energies is 3.5 eV, which is now lower than the experimental value of 4.5 eV but much better than "
   ]
  },
  {
   "cell_type": "markdown",
   "id": "62767856",
   "metadata": {},
   "source": [
    "## THE END"
   ]
  }
 ],
 "metadata": {
  "kernelspec": {
   "display_name": "Python 3 (ipykernel)",
   "language": "python",
   "name": "python3"
  },
  "language_info": {
   "codemirror_mode": {
    "name": "ipython",
    "version": 3
   },
   "file_extension": ".py",
   "mimetype": "text/x-python",
   "name": "python",
   "nbconvert_exporter": "python",
   "pygments_lexer": "ipython3",
   "version": "3.12.9"
  }
 },
 "nbformat": 4,
 "nbformat_minor": 5
}
